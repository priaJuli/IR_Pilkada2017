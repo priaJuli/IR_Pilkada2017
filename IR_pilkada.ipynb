{
  "nbformat": 4,
  "nbformat_minor": 0,
  "metadata": {
    "kernelspec": {
      "display_name": "Python 3",
      "language": "python",
      "name": "python3"
    },
    "language_info": {
      "codemirror_mode": {
        "name": "ipython",
        "version": 3
      },
      "file_extension": ".py",
      "mimetype": "text/x-python",
      "name": "python",
      "nbconvert_exporter": "python",
      "pygments_lexer": "ipython3",
      "version": "3.8.10"
    },
    "colab": {
      "name": "IR_pilkada.ipynb",
      "provenance": [],
      "collapsed_sections": [],
      "include_colab_link": true
    }
  },
  "cells": [
    {
      "cell_type": "markdown",
      "metadata": {
        "id": "view-in-github",
        "colab_type": "text"
      },
      "source": [
        "<a href=\"https://colab.research.google.com/github/priaJuli/IR_Pilkada2017/blob/main/IR_pilkada.ipynb\" target=\"_parent\"><img src=\"https://colab.research.google.com/assets/colab-badge.svg\" alt=\"Open In Colab\"/></a>"
      ]
    },
    {
      "cell_type": "code",
      "metadata": {
        "id": "L1P1RY3LKfFk"
      },
      "source": [
        "import re\n",
        "import numpy as np\n",
        "import pandas as pd\n",
        "\n",
        "pd.options.display.max_colwidth = 300"
      ],
      "execution_count": 1,
      "outputs": []
    },
    {
      "cell_type": "code",
      "metadata": {
        "id": "4QcOFWzfKfFo"
      },
      "source": [
        "import seaborn as sns\n",
        "from wordcloud import WordCloud\n",
        "import matplotlib.pyplot as plt"
      ],
      "execution_count": 2,
      "outputs": []
    },
    {
      "cell_type": "code",
      "metadata": {
        "id": "rcQUPLmtKfFp"
      },
      "source": [
        "# nltk\n",
        "# from nltk.stem import WordNetLemmatizer\n",
        "\n",
        "from nltk.stem import PorterStemmer \n",
        "   \n",
        "ps = PorterStemmer() "
      ],
      "execution_count": 3,
      "outputs": []
    },
    {
      "cell_type": "code",
      "metadata": {
        "id": "4ctNW6reKfFq"
      },
      "source": [
        "# sklearn\n",
        "from sklearn.svm import LinearSVC\n",
        "from sklearn.naive_bayes import BernoulliNB\n",
        "from sklearn.linear_model import LogisticRegression\n",
        "from sklearn.model_selection import train_test_split\n",
        "from sklearn.feature_extraction.text import TfidfVectorizer\n",
        "from sklearn.metrics import confusion_matrix, classification_report"
      ],
      "execution_count": 4,
      "outputs": []
    },
    {
      "cell_type": "code",
      "metadata": {
        "colab": {
          "base_uri": "https://localhost:8080/",
          "height": 204
        },
        "id": "JnJwm5XzKfFq",
        "outputId": "a972f439-3036-41f1-aaef-62492032b8aa"
      },
      "source": [
        "url = 'https://raw.githubusercontent.com/priaJuli/IR_research/main/dataset_tweet_sentiment_pilkada_DKI_2017.csv'\n",
        "# Importing the dataset\n",
        "DATASET_COLUMNS=['Id','target','Pasangan Calon','text']\n",
        "# ['target','ids','date','flag','user','text']\n",
        "DATASET_ENCODING = \"ISO-8859-1\"\n",
        "df = pd.read_csv(url, names=DATASET_COLUMNS, skiprows=[0])\n",
        "\n",
        "df[\"target\"] = (df['target'] == \"positive\").astype(int)\n",
        "\n",
        "df.head()"
      ],
      "execution_count": 5,
      "outputs": [
        {
          "output_type": "execute_result",
          "data": {
            "text/html": [
              "<div>\n",
              "<style scoped>\n",
              "    .dataframe tbody tr th:only-of-type {\n",
              "        vertical-align: middle;\n",
              "    }\n",
              "\n",
              "    .dataframe tbody tr th {\n",
              "        vertical-align: top;\n",
              "    }\n",
              "\n",
              "    .dataframe thead th {\n",
              "        text-align: right;\n",
              "    }\n",
              "</style>\n",
              "<table border=\"1\" class=\"dataframe\">\n",
              "  <thead>\n",
              "    <tr style=\"text-align: right;\">\n",
              "      <th></th>\n",
              "      <th>Id</th>\n",
              "      <th>target</th>\n",
              "      <th>Pasangan Calon</th>\n",
              "      <th>text</th>\n",
              "    </tr>\n",
              "  </thead>\n",
              "  <tbody>\n",
              "    <tr>\n",
              "      <th>0</th>\n",
              "      <td>1</td>\n",
              "      <td>0</td>\n",
              "      <td>Agus-Sylvi</td>\n",
              "      <td>Banyak akun kloning seolah2 pendukung #agussilvy mulai menyerang paslon #aniessandi dengan opini dan argumen pmbenaran..jangan terkecoh</td>\n",
              "    </tr>\n",
              "    <tr>\n",
              "      <th>1</th>\n",
              "      <td>2</td>\n",
              "      <td>0</td>\n",
              "      <td>Agus-Sylvi</td>\n",
              "      <td>#agussilvy bicara apa kasihan yaa...lap itu air matanya wkwkwkwk</td>\n",
              "    </tr>\n",
              "    <tr>\n",
              "      <th>2</th>\n",
              "      <td>3</td>\n",
              "      <td>0</td>\n",
              "      <td>Agus-Sylvi</td>\n",
              "      <td>Kalau aku sih gak nunggu hasil akhir QC tp lagi nunggu motif cuitan pak @SBYudhoyono kayak apa.. pasca #AgusSilvy Nyungsep..</td>\n",
              "    </tr>\n",
              "    <tr>\n",
              "      <th>3</th>\n",
              "      <td>4</td>\n",
              "      <td>0</td>\n",
              "      <td>Agus-Sylvi</td>\n",
              "      <td>Kasian oh kasian dengan peluru 1milyar untuk tiap RW #agussilvy tidak mempan menangin pilkada #QuickCount #PilkadaSerentak2017</td>\n",
              "    </tr>\n",
              "    <tr>\n",
              "      <th>4</th>\n",
              "      <td>5</td>\n",
              "      <td>0</td>\n",
              "      <td>Agus-Sylvi</td>\n",
              "      <td>Maaf ya pendukung #AgusSilvy..hayo dukung #AniesSandi diputaran 2 @ronavioleta @NetizenTofa</td>\n",
              "    </tr>\n",
              "  </tbody>\n",
              "</table>\n",
              "</div>"
            ],
            "text/plain": [
              "   Id  ...                                                                                                                                     text\n",
              "0   1  ...  Banyak akun kloning seolah2 pendukung #agussilvy mulai menyerang paslon #aniessandi dengan opini dan argumen pmbenaran..jangan terkecoh\n",
              "1   2  ...                                                                         #agussilvy bicara apa kasihan yaa...lap itu air matanya wkwkwkwk\n",
              "2   3  ...             Kalau aku sih gak nunggu hasil akhir QC tp lagi nunggu motif cuitan pak @SBYudhoyono kayak apa.. pasca #AgusSilvy Nyungsep..\n",
              "3   4  ...           Kasian oh kasian dengan peluru 1milyar untuk tiap RW #agussilvy tidak mempan menangin pilkada #QuickCount #PilkadaSerentak2017\n",
              "4   5  ...                                              Maaf ya pendukung #AgusSilvy..hayo dukung #AniesSandi diputaran 2 @ronavioleta @NetizenTofa\n",
              "\n",
              "[5 rows x 4 columns]"
            ]
          },
          "metadata": {
            "tags": []
          },
          "execution_count": 5
        }
      ]
    },
    {
      "cell_type": "code",
      "metadata": {
        "colab": {
          "base_uri": "https://localhost:8080/",
          "height": 255
        },
        "id": "0iyPjHNiKfFs",
        "outputId": "4c41b461-910f-4f5a-b8b4-8affacaaa86f"
      },
      "source": [
        "df.sample(5)"
      ],
      "execution_count": 6,
      "outputs": [
        {
          "output_type": "execute_result",
          "data": {
            "text/html": [
              "<div>\n",
              "<style scoped>\n",
              "    .dataframe tbody tr th:only-of-type {\n",
              "        vertical-align: middle;\n",
              "    }\n",
              "\n",
              "    .dataframe tbody tr th {\n",
              "        vertical-align: top;\n",
              "    }\n",
              "\n",
              "    .dataframe thead th {\n",
              "        text-align: right;\n",
              "    }\n",
              "</style>\n",
              "<table border=\"1\" class=\"dataframe\">\n",
              "  <thead>\n",
              "    <tr style=\"text-align: right;\">\n",
              "      <th></th>\n",
              "      <th>Id</th>\n",
              "      <th>target</th>\n",
              "      <th>Pasangan Calon</th>\n",
              "      <th>text</th>\n",
              "    </tr>\n",
              "  </thead>\n",
              "  <tbody>\n",
              "    <tr>\n",
              "      <th>679</th>\n",
              "      <td>680</td>\n",
              "      <td>0</td>\n",
              "      <td>Anies-Sandi</td>\n",
              "      <td>Bismillah beli rumah DP 0%, awas aja program ga jadi jalan #GubernurBaru #aniessandi</td>\n",
              "    </tr>\n",
              "    <tr>\n",
              "      <th>319</th>\n",
              "      <td>320</td>\n",
              "      <td>0</td>\n",
              "      <td>Ahok-Djarot</td>\n",
              "      <td>Kalau Ahok lawannya Djarot, aku mungkin pilih Djarot karena memang Ahok perlu belajar lebih baik mengenai humas dan diplomasi #PilkadaDKI201</td>\n",
              "    </tr>\n",
              "    <tr>\n",
              "      <th>653</th>\n",
              "      <td>654</td>\n",
              "      <td>0</td>\n",
              "      <td>Anies-Sandi</td>\n",
              "      <td>sedikit pun kami tidak pernah #AniesSandi menjanjikan rumah DP 0% itu berbentuk #Rusun yang kami tau rumah berbentuk horisontal #SaveDP0%</td>\n",
              "    </tr>\n",
              "    <tr>\n",
              "      <th>784</th>\n",
              "      <td>785</td>\n",
              "      <td>1</td>\n",
              "      <td>Anies-Sandi</td>\n",
              "      <td>Aku asli suku betawi, aku akan pilih pemimpin muslim yang akan jadi pemimpin Jakarta #pilkadadki2017 #pilkadajakarta ALLAHUAKBAR 3x !!</td>\n",
              "    </tr>\n",
              "    <tr>\n",
              "      <th>87</th>\n",
              "      <td>88</td>\n",
              "      <td>0</td>\n",
              "      <td>Agus-Sylvi</td>\n",
              "      <td>Gagal di Pilkada DKI Jakarta AHY Diisukan Maju ke Pilgub Jatim https://goo.gl/fb/ECcmdW  #headlines #politikbirokrasi #pilkadadki</td>\n",
              "    </tr>\n",
              "  </tbody>\n",
              "</table>\n",
              "</div>"
            ],
            "text/plain": [
              "      Id  ...                                                                                                                                          text\n",
              "679  680  ...                                                          Bismillah beli rumah DP 0%, awas aja program ga jadi jalan #GubernurBaru #aniessandi\n",
              "319  320  ...  Kalau Ahok lawannya Djarot, aku mungkin pilih Djarot karena memang Ahok perlu belajar lebih baik mengenai humas dan diplomasi #PilkadaDKI201\n",
              "653  654  ...     sedikit pun kami tidak pernah #AniesSandi menjanjikan rumah DP 0% itu berbentuk #Rusun yang kami tau rumah berbentuk horisontal #SaveDP0%\n",
              "784  785  ...        Aku asli suku betawi, aku akan pilih pemimpin muslim yang akan jadi pemimpin Jakarta #pilkadadki2017 #pilkadajakarta ALLAHUAKBAR 3x !!\n",
              "87    88  ...             Gagal di Pilkada DKI Jakarta AHY Diisukan Maju ke Pilgub Jatim https://goo.gl/fb/ECcmdW  #headlines #politikbirokrasi #pilkadadki\n",
              "\n",
              "[5 rows x 4 columns]"
            ]
          },
          "metadata": {
            "tags": []
          },
          "execution_count": 6
        }
      ]
    },
    {
      "cell_type": "code",
      "metadata": {
        "colab": {
          "base_uri": "https://localhost:8080/"
        },
        "id": "NCoehkO7KfFt",
        "outputId": "12a45eb0-3c71-4346-a246-49056ccc978b"
      },
      "source": [
        "df.columns"
      ],
      "execution_count": 7,
      "outputs": [
        {
          "output_type": "execute_result",
          "data": {
            "text/plain": [
              "Index(['Id', 'target', 'Pasangan Calon', 'text'], dtype='object')"
            ]
          },
          "metadata": {
            "tags": []
          },
          "execution_count": 7
        }
      ]
    },
    {
      "cell_type": "code",
      "metadata": {
        "colab": {
          "base_uri": "https://localhost:8080/"
        },
        "id": "3ierDn0nKfFu",
        "outputId": "9aba084e-62a8-42b1-ed21-1725fc9e089d"
      },
      "source": [
        "print('length of data is', len(df))"
      ],
      "execution_count": 8,
      "outputs": [
        {
          "output_type": "stream",
          "text": [
            "length of data is 900\n"
          ],
          "name": "stdout"
        }
      ]
    },
    {
      "cell_type": "code",
      "metadata": {
        "colab": {
          "base_uri": "https://localhost:8080/"
        },
        "id": "edx84dcbKfFv",
        "outputId": "2fc7a7f0-eba4-46bc-b1c3-3ee382a1080c"
      },
      "source": [
        "df.shape"
      ],
      "execution_count": 9,
      "outputs": [
        {
          "output_type": "execute_result",
          "data": {
            "text/plain": [
              "(900, 4)"
            ]
          },
          "metadata": {
            "tags": []
          },
          "execution_count": 9
        }
      ]
    },
    {
      "cell_type": "code",
      "metadata": {
        "colab": {
          "base_uri": "https://localhost:8080/"
        },
        "id": "gA2QYdcmKfFw",
        "outputId": "e4ffc110-40a6-4613-df2d-7033f52becdf"
      },
      "source": [
        "df.info()"
      ],
      "execution_count": 10,
      "outputs": [
        {
          "output_type": "stream",
          "text": [
            "<class 'pandas.core.frame.DataFrame'>\n",
            "RangeIndex: 900 entries, 0 to 899\n",
            "Data columns (total 4 columns):\n",
            " #   Column          Non-Null Count  Dtype \n",
            "---  ------          --------------  ----- \n",
            " 0   Id              900 non-null    int64 \n",
            " 1   target          900 non-null    int64 \n",
            " 2   Pasangan Calon  900 non-null    object\n",
            " 3   text            900 non-null    object\n",
            "dtypes: int64(2), object(2)\n",
            "memory usage: 28.2+ KB\n"
          ],
          "name": "stdout"
        }
      ]
    },
    {
      "cell_type": "code",
      "metadata": {
        "colab": {
          "base_uri": "https://localhost:8080/"
        },
        "id": "gK2p71YyKfFx",
        "outputId": "82120b0c-12e4-45a1-fe67-56b9cfd7320f"
      },
      "source": [
        "df.dtypes"
      ],
      "execution_count": 11,
      "outputs": [
        {
          "output_type": "execute_result",
          "data": {
            "text/plain": [
              "Id                 int64\n",
              "target             int64\n",
              "Pasangan Calon    object\n",
              "text              object\n",
              "dtype: object"
            ]
          },
          "metadata": {
            "tags": []
          },
          "execution_count": 11
        }
      ]
    },
    {
      "cell_type": "code",
      "metadata": {
        "colab": {
          "base_uri": "https://localhost:8080/"
        },
        "id": "m027waTqKfFy",
        "outputId": "3a8ec18f-eeef-4d9f-82d7-5213cb3a0961"
      },
      "source": [
        "df.isnull().sum()"
      ],
      "execution_count": 12,
      "outputs": [
        {
          "output_type": "execute_result",
          "data": {
            "text/plain": [
              "Id                0\n",
              "target            0\n",
              "Pasangan Calon    0\n",
              "text              0\n",
              "dtype: int64"
            ]
          },
          "metadata": {
            "tags": []
          },
          "execution_count": 12
        }
      ]
    },
    {
      "cell_type": "code",
      "metadata": {
        "colab": {
          "base_uri": "https://localhost:8080/"
        },
        "id": "osnkasx5KfFy",
        "outputId": "98c15832-7ce8-4c99-b51b-d1e1cc10dcca"
      },
      "source": [
        "print('Count of columns in the data is:  ', len(df.columns))\n",
        "print('Count of rows in the data is:     ', len(df))"
      ],
      "execution_count": 13,
      "outputs": [
        {
          "output_type": "stream",
          "text": [
            "Count of columns in the data is:   4\n",
            "Count of rows in the data is:      900\n"
          ],
          "name": "stdout"
        }
      ]
    },
    {
      "cell_type": "code",
      "metadata": {
        "colab": {
          "base_uri": "https://localhost:8080/"
        },
        "id": "eZB6rgxnKfFz",
        "outputId": "92baf367-2a54-4d54-ea8a-6ebd108bed87"
      },
      "source": [
        "df['target'].unique()"
      ],
      "execution_count": 14,
      "outputs": [
        {
          "output_type": "execute_result",
          "data": {
            "text/plain": [
              "array([0, 1])"
            ]
          },
          "metadata": {
            "tags": []
          },
          "execution_count": 14
        }
      ]
    },
    {
      "cell_type": "code",
      "metadata": {
        "colab": {
          "base_uri": "https://localhost:8080/"
        },
        "id": "InU3qjnVKfF0",
        "outputId": "a9c94241-52f8-451b-ddf0-baba94d7a26b"
      },
      "source": [
        "df['target'].nunique()"
      ],
      "execution_count": 15,
      "outputs": [
        {
          "output_type": "execute_result",
          "data": {
            "text/plain": [
              "2"
            ]
          },
          "metadata": {
            "tags": []
          },
          "execution_count": 15
        }
      ]
    },
    {
      "cell_type": "code",
      "metadata": {
        "colab": {
          "base_uri": "https://localhost:8080/",
          "height": 447
        },
        "id": "4jin3vQrKfF1",
        "outputId": "65affb1a-4c4d-47f5-d5d9-85bdc154728c"
      },
      "source": [
        "# Plotting the distribution for dataset.\n",
        "print(df.groupby('target').count())\n",
        "ax = df.groupby('target').count().plot(kind='bar', title='Distribution of data',legend=True,figsize=(20, 5))\n",
        "ax.set_xticklabels(['Negative','Positive'], rotation=45)\n",
        "# for p in ax.patches:\n",
        "    # ax.annotate(str(p.get_height()), (p.get_x() * 1.01 , p.get_height() * 1.01))\n",
        "# Storing data in lists.\n",
        "text, sentiment = list(df['text']), list(df['target'])"
      ],
      "execution_count": 16,
      "outputs": [
        {
          "output_type": "stream",
          "text": [
            "         Id  Pasangan Calon  text\n",
            "target                           \n",
            "0       450             450   450\n",
            "1       450             450   450\n"
          ],
          "name": "stdout"
        },
        {
          "output_type": "display_data",
          "data": {
            "image/png": "[encoded data removed]",
            "text/plain": [
              "<Figure size 1440x360 with 1 Axes>"
            ]
          },
          "metadata": {
            "tags": [],
            "needs_background": "light"
          }
        }
      ]
    },
    {
      "cell_type": "code",
      "metadata": {
        "colab": {
          "base_uri": "https://localhost:8080/",
          "height": 334
        },
        "id": "YCAO2kZ2KfF2",
        "outputId": "da54fd41-62c5-43d4-ee37-43e3b4178f01"
      },
      "source": [
        "import seaborn as sns\n",
        "plt.figure(figsize = (20,5))\n",
        "ax=sns.countplot(x='target', data=df)\n",
        "for p in ax.patches:\n",
        "    ax.annotate(str(p.get_height()), (p.get_x() * 1.01 , p.get_height() * 1.01))"
      ],
      "execution_count": 17,
      "outputs": [
        {
          "output_type": "display_data",
          "data": {
            "image/png": "[encoded data removed]",
            "text/plain": [
              "<Figure size 1440x360 with 1 Axes>"
            ]
          },
          "metadata": {
            "tags": [],
            "needs_background": "light"
          }
        }
      ]
    },
    {
      "cell_type": "code",
      "metadata": {
        "colab": {
          "base_uri": "https://localhost:8080/",
          "height": 204
        },
        "id": "kAq6aYIwKfF2",
        "outputId": "94cca43a-7b52-4221-ab4e-c53b686cc0dc"
      },
      "source": [
        "data=df[['text','target']]\n",
        "data.head()"
      ],
      "execution_count": 18,
      "outputs": [
        {
          "output_type": "execute_result",
          "data": {
            "text/html": [
              "<div>\n",
              "<style scoped>\n",
              "    .dataframe tbody tr th:only-of-type {\n",
              "        vertical-align: middle;\n",
              "    }\n",
              "\n",
              "    .dataframe tbody tr th {\n",
              "        vertical-align: top;\n",
              "    }\n",
              "\n",
              "    .dataframe thead th {\n",
              "        text-align: right;\n",
              "    }\n",
              "</style>\n",
              "<table border=\"1\" class=\"dataframe\">\n",
              "  <thead>\n",
              "    <tr style=\"text-align: right;\">\n",
              "      <th></th>\n",
              "      <th>text</th>\n",
              "      <th>target</th>\n",
              "    </tr>\n",
              "  </thead>\n",
              "  <tbody>\n",
              "    <tr>\n",
              "      <th>0</th>\n",
              "      <td>Banyak akun kloning seolah2 pendukung #agussilvy mulai menyerang paslon #aniessandi dengan opini dan argumen pmbenaran..jangan terkecoh</td>\n",
              "      <td>0</td>\n",
              "    </tr>\n",
              "    <tr>\n",
              "      <th>1</th>\n",
              "      <td>#agussilvy bicara apa kasihan yaa...lap itu air matanya wkwkwkwk</td>\n",
              "      <td>0</td>\n",
              "    </tr>\n",
              "    <tr>\n",
              "      <th>2</th>\n",
              "      <td>Kalau aku sih gak nunggu hasil akhir QC tp lagi nunggu motif cuitan pak @SBYudhoyono kayak apa.. pasca #AgusSilvy Nyungsep..</td>\n",
              "      <td>0</td>\n",
              "    </tr>\n",
              "    <tr>\n",
              "      <th>3</th>\n",
              "      <td>Kasian oh kasian dengan peluru 1milyar untuk tiap RW #agussilvy tidak mempan menangin pilkada #QuickCount #PilkadaSerentak2017</td>\n",
              "      <td>0</td>\n",
              "    </tr>\n",
              "    <tr>\n",
              "      <th>4</th>\n",
              "      <td>Maaf ya pendukung #AgusSilvy..hayo dukung #AniesSandi diputaran 2 @ronavioleta @NetizenTofa</td>\n",
              "      <td>0</td>\n",
              "    </tr>\n",
              "  </tbody>\n",
              "</table>\n",
              "</div>"
            ],
            "text/plain": [
              "                                                                                                                                      text  target\n",
              "0  Banyak akun kloning seolah2 pendukung #agussilvy mulai menyerang paslon #aniessandi dengan opini dan argumen pmbenaran..jangan terkecoh       0\n",
              "1                                                                         #agussilvy bicara apa kasihan yaa...lap itu air matanya wkwkwkwk       0\n",
              "2             Kalau aku sih gak nunggu hasil akhir QC tp lagi nunggu motif cuitan pak @SBYudhoyono kayak apa.. pasca #AgusSilvy Nyungsep..       0\n",
              "3           Kasian oh kasian dengan peluru 1milyar untuk tiap RW #agussilvy tidak mempan menangin pilkada #QuickCount #PilkadaSerentak2017       0\n",
              "4                                              Maaf ya pendukung #AgusSilvy..hayo dukung #AniesSandi diputaran 2 @ronavioleta @NetizenTofa       0"
            ]
          },
          "metadata": {
            "tags": []
          },
          "execution_count": 18
        }
      ]
    },
    {
      "cell_type": "code",
      "metadata": {
        "colab": {
          "base_uri": "https://localhost:8080/"
        },
        "id": "4Aip300eKfF3",
        "outputId": "41a00b1c-45a9-4776-830a-b3386857f382"
      },
      "source": [
        "data['target'] = data['target'].replace(4,1)\n",
        "data['target'].value_counts()"
      ],
      "execution_count": 19,
      "outputs": [
        {
          "output_type": "stream",
          "text": [
            "/usr/local/lib/python3.7/dist-packages/ipykernel_launcher.py:1: SettingWithCopyWarning: \n",
            "A value is trying to be set on a copy of a slice from a DataFrame.\n",
            "Try using .loc[row_indexer,col_indexer] = value instead\n",
            "\n",
            "See the caveats in the documentation: https://pandas.pydata.org/pandas-docs/stable/user_guide/indexing.html#returning-a-view-versus-a-copy\n",
            "  \"\"\"Entry point for launching an IPython kernel.\n"
          ],
          "name": "stderr"
        },
        {
          "output_type": "execute_result",
          "data": {
            "text/plain": [
              "1    450\n",
              "0    450\n",
              "Name: target, dtype: int64"
            ]
          },
          "metadata": {
            "tags": []
          },
          "execution_count": 19
        }
      ]
    },
    {
      "cell_type": "code",
      "metadata": {
        "colab": {
          "base_uri": "https://localhost:8080/"
        },
        "id": "466bxSDHKfF3",
        "outputId": "87138bee-4575-43e7-9a27-fccdb8f4d697"
      },
      "source": [
        "data['target'].unique()"
      ],
      "execution_count": 20,
      "outputs": [
        {
          "output_type": "execute_result",
          "data": {
            "text/plain": [
              "array([0, 1])"
            ]
          },
          "metadata": {
            "tags": []
          },
          "execution_count": 20
        }
      ]
    },
    {
      "cell_type": "code",
      "metadata": {
        "scrolled": true,
        "colab": {
          "base_uri": "https://localhost:8080/"
        },
        "id": "vPl_JU1IKfF4",
        "outputId": "01791872-f43a-42ec-e466-db63e8c4a93e"
      },
      "source": [
        "data_pos = data[data['target'] == 1]\n",
        "data_pos.head()\n",
        "print(len(data_pos))"
      ],
      "execution_count": 21,
      "outputs": [
        {
          "output_type": "stream",
          "text": [
            "450\n"
          ],
          "name": "stdout"
        }
      ]
    },
    {
      "cell_type": "code",
      "metadata": {
        "colab": {
          "base_uri": "https://localhost:8080/"
        },
        "id": "RaHSaOqqKfF4",
        "outputId": "899fffc7-e576-4420-a433-a0f127d71b47"
      },
      "source": [
        "data_neg = data[data['target'] == 0]\n",
        "data_neg.head()\n",
        "print(len(data_neg))"
      ],
      "execution_count": 22,
      "outputs": [
        {
          "output_type": "stream",
          "text": [
            "450\n"
          ],
          "name": "stdout"
        }
      ]
    },
    {
      "cell_type": "code",
      "metadata": {
        "colab": {
          "base_uri": "https://localhost:8080/",
          "height": 204
        },
        "id": "PVUdDR-aKfF4",
        "outputId": "39a8ea35-4874-4d79-df07-74b897cf1a2d"
      },
      "source": [
        "data_pos = data_pos.iloc[:]\n",
        "data_neg = data_neg.iloc[:]\n",
        "dataset = pd.concat([data_pos, data_neg])\n",
        "dataset.head()"
      ],
      "execution_count": 23,
      "outputs": [
        {
          "output_type": "execute_result",
          "data": {
            "text/html": [
              "<div>\n",
              "<style scoped>\n",
              "    .dataframe tbody tr th:only-of-type {\n",
              "        vertical-align: middle;\n",
              "    }\n",
              "\n",
              "    .dataframe tbody tr th {\n",
              "        vertical-align: top;\n",
              "    }\n",
              "\n",
              "    .dataframe thead th {\n",
              "        text-align: right;\n",
              "    }\n",
              "</style>\n",
              "<table border=\"1\" class=\"dataframe\">\n",
              "  <thead>\n",
              "    <tr style=\"text-align: right;\">\n",
              "      <th></th>\n",
              "      <th>text</th>\n",
              "      <th>target</th>\n",
              "    </tr>\n",
              "  </thead>\n",
              "  <tbody>\n",
              "    <tr>\n",
              "      <th>150</th>\n",
              "      <td>Doa ku.. Semoga suaranya mas Agus-Sylvi beneran ke #Badja #PilkadaDKI2017 yakin kan mas Agus.. Aku pada mu..</td>\n",
              "      <td>1</td>\n",
              "    </tr>\n",
              "    <tr>\n",
              "      <th>151</th>\n",
              "      <td>Terima kasih mas @AgusYudhoyono, karenamu anak muda telah berani menyuarakan perubahan. Kami tetap bersamamu #YNWA</td>\n",
              "      <td>1</td>\n",
              "    </tr>\n",
              "    <tr>\n",
              "      <th>152</th>\n",
              "      <td>KETEMU DI ISTIQLAL Bangga Pernah Jadi Bagian Dari @AgusYudhoyono dan @sylviana_murni @ZaraZettiraZr @AhyCenter @SohibAHY</td>\n",
              "      <td>1</td>\n",
              "    </tr>\n",
              "    <tr>\n",
              "      <th>153</th>\n",
              "      <td>Tersingkir dari kancah pilkada DKI, rupanya ada cara lain untuk mengangkat seseorang #AHY Mendunia</td>\n",
              "      <td>1</td>\n",
              "    </tr>\n",
              "    <tr>\n",
              "      <th>154</th>\n",
              "      <td>Dalam Pilkada DKI, AHY juga mampu menunjukkan kualitasnya sebagai seorang pemimpin muda yang berjiwa ksatria. (AHY mendunia)</td>\n",
              "      <td>1</td>\n",
              "    </tr>\n",
              "  </tbody>\n",
              "</table>\n",
              "</div>"
            ],
            "text/plain": [
              "                                                                                                                             text  target\n",
              "150                  Doa ku.. Semoga suaranya mas Agus-Sylvi beneran ke #Badja #PilkadaDKI2017 yakin kan mas Agus.. Aku pada mu..       1\n",
              "151            Terima kasih mas @AgusYudhoyono, karenamu anak muda telah berani menyuarakan perubahan. Kami tetap bersamamu #YNWA       1\n",
              "152      KETEMU DI ISTIQLAL Bangga Pernah Jadi Bagian Dari @AgusYudhoyono dan @sylviana_murni @ZaraZettiraZr @AhyCenter @SohibAHY       1\n",
              "153                            Tersingkir dari kancah pilkada DKI, rupanya ada cara lain untuk mengangkat seseorang #AHY Mendunia       1\n",
              "154  Dalam Pilkada DKI, AHY juga mampu menunjukkan kualitasnya sebagai seorang pemimpin muda yang berjiwa ksatria. (AHY mendunia)       1"
            ]
          },
          "metadata": {
            "tags": []
          },
          "execution_count": 23
        }
      ]
    },
    {
      "cell_type": "code",
      "metadata": {
        "colab": {
          "base_uri": "https://localhost:8080/"
        },
        "id": "cwPwh0DbKfF5",
        "outputId": "80abf943-1631-4e86-d715-b455438e9e60"
      },
      "source": [
        "dataset['text']=dataset['text'].str.lower()\n",
        "print(dataset['text'][13])\n",
        "print(dataset['text'][210])\n",
        "print(dataset['text'][305])\n",
        "print(dataset['text'][373])\n",
        "print(dataset['text'][552])\n",
        "\n",
        "dataset['text'].sample(5)"
      ],
      "execution_count": 24,
      "outputs": [
        {
          "output_type": "stream",
          "text": [
            "aku juga kemarin #ahy 19april2017 suaraku utk paslon 3 #dki\n",
            "salam untuk kaum muda. hormat pada yang tua. #ahy\n",
            "ahok menang tipis di tps tempat habib rizieq mencoblos https://goo.gl/fb/4fdytd  #seruji #fokus #pilkadadki2017\n",
            "hati hati komentar tentang #ahokdjarot #kalahpilkada, ujung2nya anda dituduh nyinyir\n",
            "#duajari #ahokdjarot #badja #salamduajari #duajari #kode #code #gangster #farmer #foodhero https://www.instagram.com/p/bs1x10_bovd/\n"
          ],
          "name": "stdout"
        },
        {
          "output_type": "execute_result",
          "data": {
            "text/plain": [
              "718       cek kaos para pendukung anies-sandi,kaos2 provokatif yang dipakai saat pilkada dki dipakai dalam syukuran, dan mereka bicara rekonsiliasi\n",
              "80     ternyata segelintir pendukung ahy merasa ditikung di saat terakhir karena adanya tweet dari akun resmi parpol pendukung anies-sandi #pilkada\n",
              "752                                                                                      fahri harapkan anies-sandi loyal ke jokowi #pilkadadki2017\n",
              "586                                                                                                      #ahokdjarot <victory hand> <victory hand> \n",
              "697                               bagian 1 .. bukti radikalis pendukung teroris di belakang @aniesbaswedan #aniessandi #ahokdjarot #mencaripemimpin\n",
              "Name: text, dtype: object"
            ]
          },
          "metadata": {
            "tags": []
          },
          "execution_count": 24
        }
      ]
    },
    {
      "cell_type": "code",
      "metadata": {
        "colab": {
          "base_uri": "https://localhost:8080/"
        },
        "id": "y5ow6cdtLH1s",
        "outputId": "66be05ad-8b53-4e31-ca6b-1e3cdb4adccf"
      },
      "source": [
        "!pip install Sastrawi"
      ],
      "execution_count": 25,
      "outputs": [
        {
          "output_type": "stream",
          "text": [
            "Collecting Sastrawi\n",
            "  Downloading Sastrawi-1.0.1-py2.py3-none-any.whl (209 kB)\n",
            "\u001b[?25l\r\u001b[K     |█▋                              | 10 kB 21.5 MB/s eta 0:00:01\r\u001b[K     |███▏                            | 20 kB 12.7 MB/s eta 0:00:01\r\u001b[K     |████▊                           | 30 kB 10.1 MB/s eta 0:00:01\r\u001b[K     |██████▎                         | 40 kB 9.0 MB/s eta 0:00:01\r\u001b[K     |███████▉                        | 51 kB 5.1 MB/s eta 0:00:01\r\u001b[K     |█████████▍                      | 61 kB 5.2 MB/s eta 0:00:01\r\u001b[K     |███████████                     | 71 kB 5.1 MB/s eta 0:00:01\r\u001b[K     |████████████▌                   | 81 kB 5.7 MB/s eta 0:00:01\r\u001b[K     |██████████████                  | 92 kB 4.6 MB/s eta 0:00:01\r\u001b[K     |███████████████▋                | 102 kB 5.0 MB/s eta 0:00:01\r\u001b[K     |█████████████████▏              | 112 kB 5.0 MB/s eta 0:00:01\r\u001b[K     |██████████████████▊             | 122 kB 5.0 MB/s eta 0:00:01\r\u001b[K     |████████████████████▎           | 133 kB 5.0 MB/s eta 0:00:01\r\u001b[K     |█████████████████████▉          | 143 kB 5.0 MB/s eta 0:00:01\r\u001b[K     |███████████████████████▍        | 153 kB 5.0 MB/s eta 0:00:01\r\u001b[K     |█████████████████████████       | 163 kB 5.0 MB/s eta 0:00:01\r\u001b[K     |██████████████████████████▋     | 174 kB 5.0 MB/s eta 0:00:01\r\u001b[K     |████████████████████████████▏   | 184 kB 5.0 MB/s eta 0:00:01\r\u001b[K     |█████████████████████████████▊  | 194 kB 5.0 MB/s eta 0:00:01\r\u001b[K     |███████████████████████████████▎| 204 kB 5.0 MB/s eta 0:00:01\r\u001b[K     |████████████████████████████████| 209 kB 5.0 MB/s \n",
            "\u001b[?25hInstalling collected packages: Sastrawi\n",
            "Successfully installed Sastrawi-1.0.1\n"
          ],
          "name": "stdout"
        }
      ]
    },
    {
      "cell_type": "code",
      "metadata": {
        "colab": {
          "base_uri": "https://localhost:8080/"
        },
        "id": "weRkONHWKfF5",
        "outputId": "8b5fe309-094a-4b6f-f394-55ef6ed7fdac"
      },
      "source": [
        "from Sastrawi.StopWordRemover.StopWordRemoverFactory import StopWordRemoverFactory, StopWordRemover, ArrayDictionary\n",
        "from nltk.tokenize import word_tokenize \n",
        " \n",
        "\n",
        "stop_factory = StopWordRemoverFactory().get_stop_words()\n",
        "print(stop_factory)"
      ],
      "execution_count": 26,
      "outputs": [
        {
          "output_type": "stream",
          "text": [
            "['yang', 'untuk', 'pada', 'ke', 'para', 'namun', 'menurut', 'antara', 'dia', 'dua', 'ia', 'seperti', 'jika', 'jika', 'sehingga', 'kembali', 'dan', 'tidak', 'ini', 'karena', 'kepada', 'oleh', 'saat', 'harus', 'sementara', 'setelah', 'belum', 'kami', 'sekitar', 'bagi', 'serta', 'di', 'dari', 'telah', 'sebagai', 'masih', 'hal', 'ketika', 'adalah', 'itu', 'dalam', 'bisa', 'bahwa', 'atau', 'hanya', 'kita', 'dengan', 'akan', 'juga', 'ada', 'mereka', 'sudah', 'saya', 'terhadap', 'secara', 'agar', 'lain', 'anda', 'begitu', 'mengapa', 'kenapa', 'yaitu', 'yakni', 'daripada', 'itulah', 'lagi', 'maka', 'tentang', 'demi', 'dimana', 'kemana', 'pula', 'sambil', 'sebelum', 'sesudah', 'supaya', 'guna', 'kah', 'pun', 'sampai', 'sedangkan', 'selagi', 'sementara', 'tetapi', 'apakah', 'kecuali', 'sebab', 'selain', 'seolah', 'seraya', 'seterusnya', 'tanpa', 'agak', 'boleh', 'dapat', 'dsb', 'dst', 'dll', 'dahulu', 'dulunya', 'anu', 'demikian', 'tapi', 'ingin', 'juga', 'nggak', 'mari', 'nanti', 'melainkan', 'oh', 'ok', 'seharusnya', 'sebetulnya', 'setiap', 'setidaknya', 'sesuatu', 'pasti', 'saja', 'toh', 'ya', 'walau', 'tolong', 'tentu', 'amat', 'apalagi', 'bagaimanapun']\n"
          ],
          "name": "stdout"
        }
      ]
    },
    {
      "cell_type": "code",
      "metadata": {
        "colab": {
          "base_uri": "https://localhost:8080/"
        },
        "id": "HioZfXf6KfF6",
        "outputId": "78f59b3b-dc17-45f7-fe75-22b1d84ae873"
      },
      "source": [
        "def cleaning_stopwords(text):\n",
        "    return \" \".join([word for word in str(text).split() if word not in stop_factory])\n",
        "dataset['text'] = dataset['text'].apply(lambda text: cleaning_stopwords(text))\n",
        "\n",
        "print(dataset['text'][305])\n",
        "print(dataset['text'][552])\n",
        "\n",
        "dataset['text'].sample(5)"
      ],
      "execution_count": 27,
      "outputs": [
        {
          "output_type": "stream",
          "text": [
            "ahok menang tipis tps tempat habib rizieq mencoblos https://goo.gl/fb/4fdytd #seruji #fokus #pilkadadki2017\n",
            "#duajari #ahokdjarot #badja #salamduajari #duajari #kode #code #gangster #farmer #foodhero https://www.instagram.com/p/bs1x10_bovd/\n"
          ],
          "name": "stdout"
        },
        {
          "output_type": "execute_result",
          "data": {
            "text/plain": [
              "105    maksud hati caper ahy/silvy, eh malah kena protes <face with stuck-out tounges> <rolling on the floor laughing> <rolling on the floor laughing>\n",
              "566                                            positif, pdip usung ahok-djarot pilkada dki 2017 <victory hand> - suara nasional http://fb.me/4wthllcnz\n",
              "291                                                                                                       keikhlasan berkorban #ahy tak bakal sia2 non\n",
              "339                                                                                              ohh jadi tertib #ahokdjarot ya, terus gub baru tertib\n",
              "688                              sangat buruknya klakuan pndukung #aniessandi stelah ceramah politik masjid lanjut takbir pengusiran djarot dri masjid\n",
              "Name: text, dtype: object"
            ]
          },
          "metadata": {
            "tags": []
          },
          "execution_count": 27
        }
      ]
    },
    {
      "cell_type": "code",
      "metadata": {
        "colab": {
          "base_uri": "https://localhost:8080/"
        },
        "id": "JLMWuWFeKfF6",
        "outputId": "243a887d-9030-49a1-c0e2-322c6979cbd8"
      },
      "source": [
        "def cleaning_URLs(data):\n",
        "    return re.sub('http[s]?://\\S+', '', data)\n",
        "dataset['text'] = dataset['text'].apply(lambda x: cleaning_URLs(x))\n",
        "\n",
        "print(dataset['text'][305])\n",
        "print(dataset['text'][552])\n",
        "\n",
        "dataset['text'].head()\n",
        "\n"
      ],
      "execution_count": 28,
      "outputs": [
        {
          "output_type": "stream",
          "text": [
            "ahok menang tipis tps tempat habib rizieq mencoblos  #seruji #fokus #pilkadadki2017\n",
            "#duajari #ahokdjarot #badja #salamduajari #duajari #kode #code #gangster #farmer #foodhero \n"
          ],
          "name": "stdout"
        },
        {
          "output_type": "execute_result",
          "data": {
            "text/plain": [
              "150            doa ku.. semoga suaranya mas agus-sylvi beneran #badja #pilkadadki2017 yakin kan mas agus.. aku mu..\n",
              "151         terima kasih mas @agusyudhoyono, karenamu anak muda berani menyuarakan perubahan. tetap bersamamu #ynwa\n",
              "152    ketemu istiqlal bangga pernah jadi bagian @agusyudhoyono @sylviana_murni @zarazettirazr @ahycenter @sohibahy\n",
              "153                                  tersingkir kancah pilkada dki, rupanya cara mengangkat seseorang #ahy mendunia\n",
              "154            pilkada dki, ahy mampu menunjukkan kualitasnya seorang pemimpin muda berjiwa ksatria. (ahy mendunia)\n",
              "Name: text, dtype: object"
            ]
          },
          "metadata": {
            "tags": []
          },
          "execution_count": 28
        }
      ]
    },
    {
      "cell_type": "code",
      "metadata": {
        "colab": {
          "base_uri": "https://localhost:8080/"
        },
        "id": "UWo9fS99KfF7",
        "outputId": "09d1c278-f887-4776-e4b0-411d454211a0"
      },
      "source": [
        "import string\n",
        "english_punctuations = string.punctuation\n",
        "punctuations_list = english_punctuations\n",
        "def cleaning_punctuations(text):\n",
        "    translator = str.maketrans('', '', punctuations_list)\n",
        "    return text.translate(translator)\n",
        "dataset['text']= dataset['text'].apply(lambda x: cleaning_punctuations(x))\n",
        "\n",
        "print(dataset['text'][305])\n",
        "print(dataset['text'][552])\n",
        "\n",
        "dataset['text'].sample(5)\n"
      ],
      "execution_count": 29,
      "outputs": [
        {
          "output_type": "stream",
          "text": [
            "ahok menang tipis tps tempat habib rizieq mencoblos  seruji fokus pilkadadki2017\n",
            "duajari ahokdjarot badja salamduajari duajari kode code gangster farmer foodhero \n"
          ],
          "name": "stdout"
        },
        {
          "output_type": "execute_result",
          "data": {
            "text/plain": [
              "338                               sangat rasa kehilangan bapak ahok ahok ahokdjarot teman temanahokfair temanahok \n",
              "424                              bankdki ikut2an moneypolitic kemenangan ahokdjarot  seenoevil monkey ojkindonesia\n",
              "334    pkb dukung ahokpenistaagama pilkadadki2017 putaran ke2 siapsiap ditinggalkan pemilih umat islam pemilu 2019\n",
              "503                       sejuta lilin keadilan ahokdjarot lawinforcement justice jakartauntuksemua indonesiaraya \n",
              "393                                                 pembenci pak basuki benci boleh goblok jangan ahokdjarot badja\n",
              "Name: text, dtype: object"
            ]
          },
          "metadata": {
            "tags": []
          },
          "execution_count": 29
        }
      ]
    },
    {
      "cell_type": "code",
      "metadata": {
        "colab": {
          "base_uri": "https://localhost:8080/"
        },
        "id": "DW2r37F4KfF7",
        "outputId": "9f6e2e73-0a69-4cc4-92b9-5a21377e29f7"
      },
      "source": [
        "\n",
        "def cleaning_repeating_char(text):\n",
        "    return ' '.join(dict.fromkeys(text.split()))\n",
        "dataset['text'] = dataset['text'].apply(lambda x: cleaning_repeating_char(x))\n",
        "print(dataset['text'][305])\n",
        "print(dataset['text'][552])\n"
      ],
      "execution_count": 30,
      "outputs": [
        {
          "output_type": "stream",
          "text": [
            "ahok menang tipis tps tempat habib rizieq mencoblos seruji fokus pilkadadki2017\n",
            "duajari ahokdjarot badja salamduajari kode code gangster farmer foodhero\n"
          ],
          "name": "stdout"
        }
      ]
    },
    {
      "cell_type": "code",
      "metadata": {
        "colab": {
          "base_uri": "https://localhost:8080/"
        },
        "id": "kgwYLsLfKfF7",
        "outputId": "5ab873ce-8e16-458b-a8ae-69ab26c8085d"
      },
      "source": [
        "def cleaning_numbers(data):\n",
        "    return re.sub('[0-9]+', '', data)\n",
        "dataset['text'] = dataset['text'].apply(lambda x: cleaning_numbers(x))\n",
        "print(dataset['text'][13])\n",
        "print(dataset['text'][210])\n",
        "print(dataset['text'][305])\n",
        "print(dataset['text'][373])\n",
        "print(dataset['text'][552])\n",
        "dataset['text'].head()"
      ],
      "execution_count": 31,
      "outputs": [
        {
          "output_type": "stream",
          "text": [
            "aku kemarin ahy april suaraku utk paslon  dki\n",
            "salam kaum muda hormat tua ahy\n",
            "ahok menang tipis tps tempat habib rizieq mencoblos seruji fokus pilkadadki\n",
            "hati komentar ahokdjarot kalahpilkada ujungnya dituduh nyinyir\n",
            "duajari ahokdjarot badja salamduajari kode code gangster farmer foodhero\n"
          ],
          "name": "stdout"
        },
        {
          "output_type": "execute_result",
          "data": {
            "text/plain": [
              "150                       doa ku semoga suaranya mas agussylvi beneran badja pilkadadki yakin kan agus aku mu\n",
              "151       terima kasih mas agusyudhoyono karenamu anak muda berani menyuarakan perubahan tetap bersamamu ynwa\n",
              "152    ketemu istiqlal bangga pernah jadi bagian agusyudhoyono sylvianamurni zarazettirazr ahycenter sohibahy\n",
              "153                              tersingkir kancah pilkada dki rupanya cara mengangkat seseorang ahy mendunia\n",
              "154              pilkada dki ahy mampu menunjukkan kualitasnya seorang pemimpin muda berjiwa ksatria mendunia\n",
              "Name: text, dtype: object"
            ]
          },
          "metadata": {
            "tags": []
          },
          "execution_count": 31
        }
      ]
    },
    {
      "cell_type": "code",
      "metadata": {
        "colab": {
          "base_uri": "https://localhost:8080/"
        },
        "id": "FHE4DymyKfF8",
        "outputId": "cab2c5ec-3b38-4a3d-bdab-531da7c24863"
      },
      "source": [
        "# import nltk\n",
        "# st = nltk.PorterStemmer()\n",
        "\n",
        "from Sastrawi.Stemmer.StemmerFactory import StemmerFactory\n",
        "factory = StemmerFactory()\n",
        "st = factory.create_stemmer()\n",
        "\n",
        "def stemming_on_text(data):\n",
        "    return st.stem(data)\n",
        "dataset['text']= dataset['text'].apply(lambda x: stemming_on_text(x))\n",
        "\n",
        "print(dataset['text'][13])\n",
        "print(dataset['text'][210])\n",
        "print(dataset['text'][305])\n",
        "print(dataset['text'][373])\n",
        "print(dataset['text'][552])\n",
        "\n",
        "dataset['text'].head()\n",
        "\n"
      ],
      "execution_count": 32,
      "outputs": [
        {
          "output_type": "stream",
          "text": [
            "aku kemarin ahy april suara utk paslon dki\n",
            "salam kaum muda hormat tua ahy\n",
            "ahok menang tipis tps tempat habib rizieq coblos ruji fokus pilkadadki\n",
            "hati komentar ahokdjarot kalahpilkada ujung tuduh nyinyir\n",
            "duajari ahokdjarot badja salamduajari kode code gangster farmer foodhero\n"
          ],
          "name": "stdout"
        },
        {
          "output_type": "execute_result",
          "data": {
            "text/plain": [
              "150                          doa ku moga suara mas agussylvi beneran badja pilkadadki yakin kan agus aku mu\n",
              "151                       terima kasih mas agusyudhoyono karena anak muda berani suara ubah tetap sama ynwa\n",
              "152    ketemu istiqlal bangga pernah jadi bagi agusyudhoyono sylvianamurni zarazettirazr ahycenter sohibahy\n",
              "153                                             singkir kancah pilkada dki rupa cara angkat orang ahy dunia\n",
              "154                              pilkada dki ahy mampu tunjuk kualitas orang pimpin muda jiwa ksatria dunia\n",
              "Name: text, dtype: object"
            ]
          },
          "metadata": {
            "tags": []
          },
          "execution_count": 32
        }
      ]
    },
    {
      "cell_type": "code",
      "metadata": {
        "colab": {
          "base_uri": "https://localhost:8080/"
        },
        "id": "cSDIwXvcKfF8",
        "outputId": "459d1a7a-2c9c-4c68-e1cb-3f695de74b33"
      },
      "source": [
        "import nltk\n",
        "\n",
        "nltk.download('wordnet')\n",
        "from nltk.stem import WordNetLemmatizer \n",
        "\n",
        "# Init the Wordnet Lemmatizer\n",
        "lm = WordNetLemmatizer()\n",
        "\n",
        "def lemmatizer_on_text(data):\n",
        "    text = [lm.lemmatize(word) for word in data]\n",
        "    return data\n",
        "dataset['text'] = dataset['text'].apply(lambda x: lemmatizer_on_text(x))\n",
        "\n",
        "print(dataset['text'][305])\n",
        "print(dataset['text'][552])\n",
        "\n",
        "dataset['text'].head()"
      ],
      "execution_count": 33,
      "outputs": [
        {
          "output_type": "stream",
          "text": [
            "[nltk_data] Downloading package wordnet to /root/nltk_data...\n",
            "[nltk_data]   Unzipping corpora/wordnet.zip.\n",
            "ahok menang tipis tps tempat habib rizieq coblos ruji fokus pilkadadki\n",
            "duajari ahokdjarot badja salamduajari kode code gangster farmer foodhero\n"
          ],
          "name": "stdout"
        },
        {
          "output_type": "execute_result",
          "data": {
            "text/plain": [
              "150                          doa ku moga suara mas agussylvi beneran badja pilkadadki yakin kan agus aku mu\n",
              "151                       terima kasih mas agusyudhoyono karena anak muda berani suara ubah tetap sama ynwa\n",
              "152    ketemu istiqlal bangga pernah jadi bagi agusyudhoyono sylvianamurni zarazettirazr ahycenter sohibahy\n",
              "153                                             singkir kancah pilkada dki rupa cara angkat orang ahy dunia\n",
              "154                              pilkada dki ahy mampu tunjuk kualitas orang pimpin muda jiwa ksatria dunia\n",
              "Name: text, dtype: object"
            ]
          },
          "metadata": {
            "tags": []
          },
          "execution_count": 33
        }
      ]
    },
    {
      "cell_type": "code",
      "metadata": {
        "colab": {
          "base_uri": "https://localhost:8080/"
        },
        "id": "_tUnHXeEKfF9",
        "outputId": "0f6aeb68-6263-46cd-e67c-7b46f576d4ff"
      },
      "source": [
        "\n",
        "\n",
        "X=dataset.text\n",
        "X.sample(5)\n",
        "y=dataset.target\n",
        "y.sample(5)"
      ],
      "execution_count": 34,
      "outputs": [
        {
          "output_type": "execute_result",
          "data": {
            "text/plain": [
              "263    1\n",
              "393    0\n",
              "310    0\n",
              "562    1\n",
              "844    1\n",
              "Name: target, dtype: int64"
            ]
          },
          "metadata": {
            "tags": []
          },
          "execution_count": 34
        }
      ]
    },
    {
      "cell_type": "code",
      "metadata": {
        "colab": {
          "base_uri": "https://localhost:8080/"
        },
        "id": "zgMZnL50KfF9",
        "outputId": "84305d7b-bf18-477a-de40-246f30b0a80b"
      },
      "source": [
        "X_train, X_test, y_train, y_test = train_test_split(X,y,test_size = 0.2, random_state =42)\n",
        "X_train.shape, X_test.shape, y_train.shape, y_test.shape"
      ],
      "execution_count": 35,
      "outputs": [
        {
          "output_type": "execute_result",
          "data": {
            "text/plain": [
              "((720,), (180,), (720,), (180,))"
            ]
          },
          "metadata": {
            "tags": []
          },
          "execution_count": 35
        }
      ]
    },
    {
      "cell_type": "code",
      "metadata": {
        "colab": {
          "base_uri": "https://localhost:8080/"
        },
        "id": "YP0CvC_lKfF9",
        "outputId": "8a4d100b-ac4e-4c88-b86d-6a1c6e5c7c52"
      },
      "source": [
        "# vectoriser = TfidfVectorizer(ngram_range=(1,1), max_features=50000)\n",
        "# vectoriser.fit(X)\n",
        "# print('No. of feature_words: ', len(vectoriser.get_feature_names()))\n",
        "vectoriser = TfidfVectorizer(ngram_range=(1,1), max_features=50000)\n",
        "vectoriser.fit(X)\n",
        "print('No. of feature_words: ', len(vectoriser.get_feature_names()))"
      ],
      "execution_count": 36,
      "outputs": [
        {
          "output_type": "stream",
          "text": [
            "No. of feature_words:  2852\n"
          ],
          "name": "stdout"
        }
      ]
    },
    {
      "cell_type": "code",
      "metadata": {
        "colab": {
          "base_uri": "https://localhost:8080/"
        },
        "id": "tK-bIvd5KfF-",
        "outputId": "70936729-afe1-4e9c-9f2d-8e89387ee6e1"
      },
      "source": [
        "X_train = vectoriser.transform(X_train)\n",
        "X_train"
      ],
      "execution_count": 37,
      "outputs": [
        {
          "output_type": "execute_result",
          "data": {
            "text/plain": [
              "<720x2852 sparse matrix of type '<class 'numpy.float64'>'\n",
              "\twith 7776 stored elements in Compressed Sparse Row format>"
            ]
          },
          "metadata": {
            "tags": []
          },
          "execution_count": 37
        }
      ]
    },
    {
      "cell_type": "code",
      "metadata": {
        "id": "wag_pNXgKfGE"
      },
      "source": [
        "X_test  = vectoriser.transform(X_test)\n",
        "X_test\n",
        "\n",
        "\n",
        "\n",
        "scorvar = [\"accuracy\", \"precision\", \"recall\", \"f1\"]\n",
        "# X_train = vectoriser.transform(X)\n",
        "# X_train\n",
        "# y_train = y"
      ],
      "execution_count": 38,
      "outputs": []
    },
    {
      "cell_type": "code",
      "metadata": {
        "id": "KpK_tBodcVKY"
      },
      "source": [
        ""
      ],
      "execution_count": 38,
      "outputs": []
    },
    {
      "cell_type": "code",
      "metadata": {
        "id": "SfwJSSdFKfGE"
      },
      "source": [
        "def model_Evaluate(model,X_test,y_test):\n",
        "    # Predict values for Test dataset\n",
        "    y_pred = model.predict(X_test)\n",
        "    # Print the evaluation metrics for the dataset.\n",
        "    print(classification_report(y_test, y_pred))\n",
        "    # Compute and plot the Confusion matrix\n",
        "    cf_matrix = confusion_matrix(y_test, y_pred)\n",
        "    # print(cf_matrix)\n",
        "    categories = ['Negative','Positive']\n",
        "    group_names = ['True Neg','False Pos', 'False Neg','True Pos']\n",
        "    group_percentages = ['{0:.4%}'.format(value) for value in cf_matrix.flatten() / np.sum(cf_matrix)]\n",
        "    # print(group_percentages)\n",
        "    labels = [f'{v1} : {v2}' for v1, v2 in zip(group_names,group_percentages)]\n",
        "    labels = np.asarray(labels).reshape(2,2)\n",
        "    sns.heatmap(cf_matrix, annot = labels, cmap = 'Blues',fmt = '',\n",
        "    xticklabels = categories, yticklabels = categories)\n",
        "    plt.xlabel(\"Predicted values\", fontdict = {'size':14}, labelpad = 10)\n",
        "    plt.ylabel(\"Actual values\" , fontdict = {'size':14}, labelpad = 10)\n",
        "    plt.title (\"Confusion Matrix\", fontdict = {'size':18}, pad = 20)"
      ],
      "execution_count": 39,
      "outputs": []
    },
    {
      "cell_type": "code",
      "metadata": {
        "colab": {
          "base_uri": "https://localhost:8080/",
          "height": 510
        },
        "id": "E5QgEbvUKfGI",
        "outputId": "e3f91c55-8612-4095-8277-ec9e336622f1"
      },
      "source": [
        "from sklearn.linear_model import PassiveAggressiveClassifier\n",
        "\n",
        "X_train, X_test, y_train, y_test = train_test_split(X,y,test_size = 0.2,random_state =42)\n",
        "X_train.shape, X_test.shape, y_train.shape, y_test.shape\n",
        "print(\"Best split ratio 20%, random state 42\")\n",
        "X_train = vectoriser.transform(X_train)\n",
        "X_train\n",
        "# print(X_train[0])\n",
        "X_test = vectoriser.transform(X_test)\n",
        "X_test\n",
        "PAClass = PassiveAggressiveClassifier(max_iter=1000, tol=1e-3)\n",
        "\n",
        "PAClass.fit(X_train, y_train)\n",
        "\n",
        "model_Evaluate(PAClass,X_test,y_test)\n",
        "\n",
        "y_pred5 = PAClass.predict(X_test)\n",
        "print(\"hello\")"
      ],
      "execution_count": 40,
      "outputs": [
        {
          "output_type": "stream",
          "text": [
            "Best split ratio 20%, random state 42\n",
            "              precision    recall  f1-score   support\n",
            "\n",
            "           0       0.80      0.77      0.79        86\n",
            "           1       0.80      0.83      0.81        94\n",
            "\n",
            "    accuracy                           0.80       180\n",
            "   macro avg       0.80      0.80      0.80       180\n",
            "weighted avg       0.80      0.80      0.80       180\n",
            "\n",
            "hello\n"
          ],
          "name": "stdout"
        },
        {
          "output_type": "display_data",
          "data": {
            "image/png": "[encoded data removed]",
            "text/plain": [
              "<Figure size 432x288 with 2 Axes>"
            ]
          },
          "metadata": {
            "tags": [],
            "needs_background": "light"
          }
        }
      ]
    },
    {
      "cell_type": "code",
      "metadata": {
        "colab": {
          "base_uri": "https://localhost:8080/",
          "height": 510
        },
        "id": "gM6RmORpKfGM",
        "outputId": "fd45a41e-3d04-432e-d6b0-9060ecc84880"
      },
      "source": [
        "X_train, X_test, y_train, y_test = train_test_split(X,y,test_size = 0.1,random_state =42)\n",
        "X_train.shape, X_test.shape, y_train.shape, y_test.shape\n",
        "print(\"Best split ratio 10%, random state 42\")\n",
        "X_train = vectoriser.transform(X_train)\n",
        "X_train\n",
        "# print(X_train[0])\n",
        "X_test = vectoriser.transform(X_test)\n",
        "X_test\n",
        "PAClass = PassiveAggressiveClassifier(max_iter=1000, tol=1e-3)\n",
        "\n",
        "PAClass.fit(X_train, y_train)\n",
        "\n",
        "model_Evaluate(PAClass,X_test,y_test)\n",
        "\n",
        "y_pred5 = PAClass.predict(X_test)\n",
        "print(\"hello\")"
      ],
      "execution_count": 41,
      "outputs": [
        {
          "output_type": "stream",
          "text": [
            "Best split ratio 10%, random state 42\n",
            "              precision    recall  f1-score   support\n",
            "\n",
            "           0       0.75      0.71      0.73        42\n",
            "           1       0.76      0.79      0.78        48\n",
            "\n",
            "    accuracy                           0.76        90\n",
            "   macro avg       0.76      0.75      0.75        90\n",
            "weighted avg       0.76      0.76      0.76        90\n",
            "\n",
            "hello\n"
          ],
          "name": "stdout"
        },
        {
          "output_type": "display_data",
          "data": {
            "image/png": "[encoded data removed]",
            "text/plain": [
              "<Figure size 432x288 with 2 Axes>"
            ]
          },
          "metadata": {
            "tags": [],
            "needs_background": "light"
          }
        }
      ]
    },
    {
      "cell_type": "code",
      "metadata": {
        "id": "PItZN0pEUaa1",
        "colab": {
          "base_uri": "https://localhost:8080/",
          "height": 510
        },
        "outputId": "9b3fa2fe-4c3e-4ce4-cb74-a893cf1dce94"
      },
      "source": [
        "X_train, X_test, y_train, y_test = train_test_split(X,y,test_size = 0.2,random_state =42)\n",
        "X_train.shape, X_test.shape, y_train.shape, y_test.shape\n",
        "print(\"Best split ratio 20%, random state 42\")\n",
        "X_train = vectoriser.transform(X_train)\n",
        "X_train\n",
        "# print(X_train[0])\n",
        "X_test = vectoriser.transform(X_test)\n",
        "X_test\n",
        "PAClass = PassiveAggressiveClassifier(max_iter=1000, tol=1e-3)\n",
        "\n",
        "PAClass.fit(X_train, y_train)\n",
        "\n",
        "model_Evaluate(PAClass,X_test,y_test)\n",
        "\n",
        "y_pred5 = PAClass.predict(X_test)\n",
        "print(\"hello\")"
      ],
      "execution_count": 42,
      "outputs": [
        {
          "output_type": "stream",
          "text": [
            "Best split ratio 20%, random state 42\n",
            "              precision    recall  f1-score   support\n",
            "\n",
            "           0       0.79      0.74      0.77        86\n",
            "           1       0.78      0.82      0.80        94\n",
            "\n",
            "    accuracy                           0.78       180\n",
            "   macro avg       0.78      0.78      0.78       180\n",
            "weighted avg       0.78      0.78      0.78       180\n",
            "\n",
            "hello\n"
          ],
          "name": "stdout"
        },
        {
          "output_type": "display_data",
          "data": {
            "image/png": "[encoded data removed]",
            "text/plain": [
              "<Figure size 432x288 with 2 Axes>"
            ]
          },
          "metadata": {
            "tags": [],
            "needs_background": "light"
          }
        }
      ]
    },
    {
      "cell_type": "code",
      "metadata": {
        "id": "PVAKItspFklN",
        "colab": {
          "base_uri": "https://localhost:8080/",
          "height": 493
        },
        "outputId": "fe0cbb46-3bcd-4297-de0f-7fa0c1b44b07"
      },
      "source": [
        "X_train, X_test, y_train, y_test = train_test_split(X,y,test_size = 0.3,random_state =42)\n",
        "X_train.shape, X_test.shape, y_train.shape, y_test.shape\n",
        "# print(\"Best split ratio 20%, random state 42\")\n",
        "X_train = vectoriser.transform(X_train)\n",
        "X_train\n",
        "# print(X_train[0])\n",
        "X_test = vectoriser.transform(X_test)\n",
        "X_test\n",
        "PAClass = PassiveAggressiveClassifier(max_iter=1000, tol=1e-3)\n",
        "\n",
        "PAClass.fit(X_train, y_train)\n",
        "\n",
        "model_Evaluate(PAClass,X_test,y_test)\n",
        "\n",
        "y_pred5 = PAClass.predict(X_test)\n",
        "print(\"hello\")"
      ],
      "execution_count": 43,
      "outputs": [
        {
          "output_type": "stream",
          "text": [
            "              precision    recall  f1-score   support\n",
            "\n",
            "           0       0.76      0.74      0.75       129\n",
            "           1       0.77      0.79      0.78       141\n",
            "\n",
            "    accuracy                           0.76       270\n",
            "   macro avg       0.76      0.76      0.76       270\n",
            "weighted avg       0.76      0.76      0.76       270\n",
            "\n",
            "hello\n"
          ],
          "name": "stdout"
        },
        {
          "output_type": "display_data",
          "data": {
            "image/png": "[encoded data removed]",
            "text/plain": [
              "<Figure size 432x288 with 2 Axes>"
            ]
          },
          "metadata": {
            "tags": [],
            "needs_background": "light"
          }
        }
      ]
    },
    {
      "cell_type": "code",
      "metadata": {
        "colab": {
          "base_uri": "https://localhost:8080/",
          "height": 493
        },
        "id": "y4mXqz9jft5n",
        "outputId": "743246fd-a407-4116-b7ae-9b78a403a536"
      },
      "source": [
        "X_train, X_test, y_train, y_test = train_test_split(X,y,test_size = 0.4,random_state =42)\n",
        "X_train.shape, X_test.shape, y_train.shape, y_test.shape\n",
        "# print(\"Best split ratio 20%, random state 42\")\n",
        "X_train = vectoriser.transform(X_train)\n",
        "X_train\n",
        "# print(X_train[0])\n",
        "X_test = vectoriser.transform(X_test)\n",
        "X_test\n",
        "PAClass = PassiveAggressiveClassifier(max_iter=1000, tol=1e-3)\n",
        "\n",
        "PAClass.fit(X_train, y_train)\n",
        "\n",
        "model_Evaluate(PAClass,X_test,y_test)\n",
        "\n",
        "y_pred5 = PAClass.predict(X_test)\n",
        "print(\"hello\")"
      ],
      "execution_count": 44,
      "outputs": [
        {
          "output_type": "stream",
          "text": [
            "              precision    recall  f1-score   support\n",
            "\n",
            "           0       0.74      0.70      0.72       169\n",
            "           1       0.74      0.78      0.76       191\n",
            "\n",
            "    accuracy                           0.74       360\n",
            "   macro avg       0.74      0.74      0.74       360\n",
            "weighted avg       0.74      0.74      0.74       360\n",
            "\n",
            "hello\n"
          ],
          "name": "stdout"
        },
        {
          "output_type": "display_data",
          "data": {
            "image/png": "[encoded data removed]",
            "text/plain": [
              "<Figure size 432x288 with 2 Axes>"
            ]
          },
          "metadata": {
            "tags": [],
            "needs_background": "light"
          }
        }
      ]
    },
    {
      "cell_type": "code",
      "metadata": {
        "colab": {
          "base_uri": "https://localhost:8080/",
          "height": 493
        },
        "id": "ENFwqoA5fxWk",
        "outputId": "ce999880-b0db-4dfe-9c62-13349749951a"
      },
      "source": [
        "X_train, X_test, y_train, y_test = train_test_split(X,y,test_size = 0.5,random_state =42)\n",
        "X_train.shape, X_test.shape, y_train.shape, y_test.shape\n",
        "# print(\"Best split ratio 20%, random state 42\")\n",
        "X_train = vectoriser.transform(X_train)\n",
        "X_train\n",
        "# print(X_train[0])\n",
        "X_test = vectoriser.transform(X_test)\n",
        "X_test\n",
        "PAClass = PassiveAggressiveClassifier(max_iter=1000, tol=1e-3)\n",
        "\n",
        "PAClass.fit(X_train, y_train)\n",
        "\n",
        "model_Evaluate(PAClass,X_test,y_test)\n",
        "\n",
        "y_pred5 = PAClass.predict(X_test)\n",
        "print(\"hello\")"
      ],
      "execution_count": 45,
      "outputs": [
        {
          "output_type": "stream",
          "text": [
            "              precision    recall  f1-score   support\n",
            "\n",
            "           0       0.68      0.67      0.67       213\n",
            "           1       0.70      0.71      0.71       237\n",
            "\n",
            "    accuracy                           0.69       450\n",
            "   macro avg       0.69      0.69      0.69       450\n",
            "weighted avg       0.69      0.69      0.69       450\n",
            "\n",
            "hello\n"
          ],
          "name": "stdout"
        },
        {
          "output_type": "display_data",
          "data": {
            "image/png": "[encoded data removed]",
            "text/plain": [
              "<Figure size 432x288 with 2 Axes>"
            ]
          },
          "metadata": {
            "tags": [],
            "needs_background": "light"
          }
        }
      ]
    }
  ]
}