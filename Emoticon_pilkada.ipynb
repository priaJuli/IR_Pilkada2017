{
  "nbformat": 4,
  "nbformat_minor": 0,
  "metadata": {
    "colab": {
      "name": "Salinan dari emoticon_test_pilkada.ipynb",
      "provenance": [],
      "collapsed_sections": [],
      "include_colab_link": true
    },
    "kernelspec": {
      "display_name": "Python 3",
      "language": "python",
      "name": "python3"
    },
    "language_info": {
      "codemirror_mode": {
        "name": "ipython",
        "version": 3
      },
      "file_extension": ".py",
      "mimetype": "text/x-python",
      "name": "python",
      "nbconvert_exporter": "python",
      "pygments_lexer": "ipython3",
      "version": "3.8.10"
    }
  },
  "cells": [
    {
      "cell_type": "markdown",
      "metadata": {
        "id": "view-in-github",
        "colab_type": "text"
      },
      "source": [
        "<a href=\"https://colab.research.google.com/github/priaJuli/IR_Pilkada2017/blob/main/Salinan_dari_emoticon_test_pilkada.ipynb\" target=\"_parent\"><img src=\"https://colab.research.google.com/assets/colab-badge.svg\" alt=\"Open In Colab\"/></a>"
      ]
    },
    {
      "cell_type": "code",
      "metadata": {
        "id": "L1P1RY3LKfFk"
      },
      "source": [
        "import re\n",
        "import numpy as np\n",
        "import pandas as pd\n",
        "\n",
        "pd.options.display.max_colwidth = 300"
      ],
      "execution_count": null,
      "outputs": []
    },
    {
      "cell_type": "code",
      "metadata": {
        "id": "4QcOFWzfKfFo"
      },
      "source": [
        "import seaborn as sns\n",
        "from wordcloud import WordCloud\n",
        "import matplotlib.pyplot as plt"
      ],
      "execution_count": null,
      "outputs": []
    },
    {
      "cell_type": "code",
      "metadata": {
        "id": "rcQUPLmtKfFp"
      },
      "source": [
        "# nltk\n",
        "# from nltk.stem import WordNetLemmatizer\n",
        "\n",
        "from nltk.stem import PorterStemmer \n",
        "   \n",
        "ps = PorterStemmer() "
      ],
      "execution_count": null,
      "outputs": []
    },
    {
      "cell_type": "code",
      "metadata": {
        "id": "4ctNW6reKfFq"
      },
      "source": [
        "# sklearn\n",
        "from sklearn.svm import LinearSVC\n",
        "from sklearn.naive_bayes import BernoulliNB\n",
        "from sklearn.linear_model import LogisticRegression\n",
        "from sklearn.model_selection import train_test_split\n",
        "from sklearn.feature_extraction.text import TfidfVectorizer\n",
        "from sklearn.metrics import confusion_matrix, classification_report"
      ],
      "execution_count": null,
      "outputs": []
    },
    {
      "cell_type": "code",
      "metadata": {
        "colab": {
          "base_uri": "https://localhost:8080/"
        },
        "id": "JnJwm5XzKfFq",
        "outputId": "26269516-c870-4966-cfec-fd0280e7ac37"
      },
      "source": [
        "url = 'https://raw.githubusercontent.com/priaJuli/IR_research/main/dataset_tweet_sentiment_pilkada_DKI_2017.csv'\n",
        "\n",
        "url_emoticon = 'https://raw.githubusercontent.com/FLAIST/emosent-py/master/emosent/data/Emoji_Sentiment_Data_v1.0.csv'\n",
        "\n",
        "# Importing the dataset\n",
        "DATASET_COLUMNS=['Id','target','Pasangan Calon','text']\n",
        "# ['target','ids','date','flag','user','text']\n",
        "emoticon_columns = ['Emoji','Unicode' 'codepoint','Unicode name']\n",
        "DATASET_ENCODING = \"ISO-8859-1\"\n",
        "df = pd.read_csv(url, names=DATASET_COLUMNS, skiprows=[0])\n",
        "\n",
        "df_emo = pd.read_csv(url_emoticon)\n",
        "\n",
        "df[\"target\"] = (df['target'] == \"positive\").astype(int)\n",
        "\n",
        "print(df.head())\n",
        "\n",
        "df_emo['Unicode name'] = df_emo['Unicode name'].str.lower()\n",
        "\n",
        "dictionary_emoticons = df_emo['Unicode name'].values\n",
        "\n",
        "dict_emoticons_replace = df_emo['Emoji'].values\n",
        "\n",
        "# print(df_emo['Unicode name'].head())\n",
        "\n",
        "# print(df_emo['Emoji'])\n",
        "\n",
        "print(dictionary_emoticons[0:5])\n",
        "\n",
        "print(dict_emoticons_replace[0:5])"
      ],
      "execution_count": null,
      "outputs": [
        {
          "output_type": "stream",
          "text": [
            "   Id  ...                                                                                                                                     text\n",
            "0   1  ...  Banyak akun kloning seolah2 pendukung #agussilvy mulai menyerang paslon #aniessandi dengan opini dan argumen pmbenaran..jangan terkecoh\n",
            "1   2  ...                                                                         #agussilvy bicara apa kasihan yaa...lap itu air matanya wkwkwkwk\n",
            "2   3  ...             Kalau aku sih gak nunggu hasil akhir QC tp lagi nunggu motif cuitan pak @SBYudhoyono kayak apa.. pasca #AgusSilvy Nyungsep..\n",
            "3   4  ...           Kasian oh kasian dengan peluru 1milyar untuk tiap RW #agussilvy tidak mempan menangin pilkada #QuickCount #PilkadaSerentak2017\n",
            "4   5  ...                                              Maaf ya pendukung #AgusSilvy..hayo dukung #AniesSandi diputaran 2 @ronavioleta @NetizenTofa\n",
            "\n",
            "[5 rows x 4 columns]\n",
            "['face with tears of joy' 'heavy black heart' 'black heart suit'\n",
            " 'smiling face with heart-shaped eyes' 'loudly crying face']\n",
            "['😂' '❤' '♥' '😍' '😭']\n"
          ],
          "name": "stdout"
        }
      ]
    },
    {
      "cell_type": "code",
      "metadata": {
        "colab": {
          "base_uri": "https://localhost:8080/",
          "height": 204
        },
        "id": "0iyPjHNiKfFs",
        "outputId": "8d8105cc-b508-45f0-8c98-53efb243aa97"
      },
      "source": [
        "\n",
        "df.sample(5)\n"
      ],
      "execution_count": null,
      "outputs": [
        {
          "output_type": "execute_result",
          "data": {
            "text/html": [
              "<div>\n",
              "<style scoped>\n",
              "    .dataframe tbody tr th:only-of-type {\n",
              "        vertical-align: middle;\n",
              "    }\n",
              "\n",
              "    .dataframe tbody tr th {\n",
              "        vertical-align: top;\n",
              "    }\n",
              "\n",
              "    .dataframe thead th {\n",
              "        text-align: right;\n",
              "    }\n",
              "</style>\n",
              "<table border=\"1\" class=\"dataframe\">\n",
              "  <thead>\n",
              "    <tr style=\"text-align: right;\">\n",
              "      <th></th>\n",
              "      <th>Id</th>\n",
              "      <th>target</th>\n",
              "      <th>Pasangan Calon</th>\n",
              "      <th>text</th>\n",
              "    </tr>\n",
              "  </thead>\n",
              "  <tbody>\n",
              "    <tr>\n",
              "      <th>745</th>\n",
              "      <td>746</td>\n",
              "      <td>0</td>\n",
              "      <td>Anies-Sandi</td>\n",
              "      <td>Katakan tidak untuk #OkeOce #debatfinalpilkadadki</td>\n",
              "    </tr>\n",
              "    <tr>\n",
              "      <th>530</th>\n",
              "      <td>531</td>\n",
              "      <td>1</td>\n",
              "      <td>Ahok-Djarot</td>\n",
              "      <td>Bukan hanya di jakarta saja tapi di medan juga #AhokDjarot #AhokDicintaiRakyat #AhokShow #FadliZon #Jakarta</td>\n",
              "    </tr>\n",
              "    <tr>\n",
              "      <th>632</th>\n",
              "      <td>633</td>\n",
              "      <td>0</td>\n",
              "      <td>Anies-Sandi</td>\n",
              "      <td>Siapa menebar FITNAH dia akan menuai KALAH #pilkadadki2017</td>\n",
              "    </tr>\n",
              "    <tr>\n",
              "      <th>236</th>\n",
              "      <td>237</td>\n",
              "      <td>1</td>\n",
              "      <td>Agus-Sylvi</td>\n",
              "      <td>Saat #PilkadaDKI Putaran Pertama, kita melihat bgm #AHY menunjukkan kelasnya sbg pemimpin yg berbesar hati</td>\n",
              "    </tr>\n",
              "    <tr>\n",
              "      <th>858</th>\n",
              "      <td>859</td>\n",
              "      <td>1</td>\n",
              "      <td>Anies-Sandi</td>\n",
              "      <td>Semoga janji Gubernur baru terpenuhi &lt;FOLDED HANDS&gt; #PilkadaDKI #pilkadadki2017</td>\n",
              "    </tr>\n",
              "  </tbody>\n",
              "</table>\n",
              "</div>"
            ],
            "text/plain": [
              "      Id  ...                                                                                                         text\n",
              "745  746  ...                                                            Katakan tidak untuk #OkeOce #debatfinalpilkadadki\n",
              "530  531  ...  Bukan hanya di jakarta saja tapi di medan juga #AhokDjarot #AhokDicintaiRakyat #AhokShow #FadliZon #Jakarta\n",
              "632  633  ...                                                   Siapa menebar FITNAH dia akan menuai KALAH #pilkadadki2017\n",
              "236  237  ...   Saat #PilkadaDKI Putaran Pertama, kita melihat bgm #AHY menunjukkan kelasnya sbg pemimpin yg berbesar hati\n",
              "858  859  ...                              Semoga janji Gubernur baru terpenuhi <FOLDED HANDS> #PilkadaDKI #pilkadadki2017\n",
              "\n",
              "[5 rows x 4 columns]"
            ]
          },
          "metadata": {
            "tags": []
          },
          "execution_count": 6
        }
      ]
    },
    {
      "cell_type": "code",
      "metadata": {
        "colab": {
          "base_uri": "https://localhost:8080/"
        },
        "id": "NCoehkO7KfFt",
        "outputId": "552384b0-4faf-48be-e56d-99bd423ed3b4"
      },
      "source": [
        "df.columns"
      ],
      "execution_count": null,
      "outputs": [
        {
          "output_type": "execute_result",
          "data": {
            "text/plain": [
              "Index(['Id', 'target', 'Pasangan Calon', 'text'], dtype='object')"
            ]
          },
          "metadata": {
            "tags": []
          },
          "execution_count": 7
        }
      ]
    },
    {
      "cell_type": "code",
      "metadata": {
        "colab": {
          "base_uri": "https://localhost:8080/"
        },
        "id": "3ierDn0nKfFu",
        "outputId": "7dc8c36a-deef-4053-ec2f-de473be25a37"
      },
      "source": [
        "print('length of data is', len(df))"
      ],
      "execution_count": null,
      "outputs": [
        {
          "output_type": "stream",
          "text": [
            "length of data is 900\n"
          ],
          "name": "stdout"
        }
      ]
    },
    {
      "cell_type": "code",
      "metadata": {
        "colab": {
          "base_uri": "https://localhost:8080/"
        },
        "id": "edx84dcbKfFv",
        "outputId": "b74d985f-207d-4cbc-9588-67915502bb6a"
      },
      "source": [
        "df.shape"
      ],
      "execution_count": null,
      "outputs": [
        {
          "output_type": "execute_result",
          "data": {
            "text/plain": [
              "(900, 4)"
            ]
          },
          "metadata": {
            "tags": []
          },
          "execution_count": 9
        }
      ]
    },
    {
      "cell_type": "code",
      "metadata": {
        "colab": {
          "base_uri": "https://localhost:8080/"
        },
        "id": "gA2QYdcmKfFw",
        "outputId": "ee9742c4-1f37-45c6-e802-584a28e8f2e2"
      },
      "source": [
        "df.info()"
      ],
      "execution_count": null,
      "outputs": [
        {
          "output_type": "stream",
          "text": [
            "<class 'pandas.core.frame.DataFrame'>\n",
            "RangeIndex: 900 entries, 0 to 899\n",
            "Data columns (total 4 columns):\n",
            " #   Column          Non-Null Count  Dtype \n",
            "---  ------          --------------  ----- \n",
            " 0   Id              900 non-null    int64 \n",
            " 1   target          900 non-null    int64 \n",
            " 2   Pasangan Calon  900 non-null    object\n",
            " 3   text            900 non-null    object\n",
            "dtypes: int64(2), object(2)\n",
            "memory usage: 28.2+ KB\n"
          ],
          "name": "stdout"
        }
      ]
    },
    {
      "cell_type": "code",
      "metadata": {
        "colab": {
          "base_uri": "https://localhost:8080/"
        },
        "id": "gK2p71YyKfFx",
        "outputId": "4ae0582c-7b10-42a2-9953-4967b4fee9d5"
      },
      "source": [
        "df.dtypes"
      ],
      "execution_count": null,
      "outputs": [
        {
          "output_type": "execute_result",
          "data": {
            "text/plain": [
              "Id                 int64\n",
              "target             int64\n",
              "Pasangan Calon    object\n",
              "text              object\n",
              "dtype: object"
            ]
          },
          "metadata": {
            "tags": []
          },
          "execution_count": 11
        }
      ]
    },
    {
      "cell_type": "code",
      "metadata": {
        "colab": {
          "base_uri": "https://localhost:8080/"
        },
        "id": "m027waTqKfFy",
        "outputId": "4509a834-e414-4a1c-e7b0-aba3028cf927"
      },
      "source": [
        "df.isnull().sum()"
      ],
      "execution_count": null,
      "outputs": [
        {
          "output_type": "execute_result",
          "data": {
            "text/plain": [
              "Id                0\n",
              "target            0\n",
              "Pasangan Calon    0\n",
              "text              0\n",
              "dtype: int64"
            ]
          },
          "metadata": {
            "tags": []
          },
          "execution_count": 12
        }
      ]
    },
    {
      "cell_type": "code",
      "metadata": {
        "colab": {
          "base_uri": "https://localhost:8080/"
        },
        "id": "osnkasx5KfFy",
        "outputId": "70483ad8-38d1-4f74-fca2-dd9e38490550"
      },
      "source": [
        "print('Count of columns in the data is:  ', len(df.columns))\n",
        "print('Count of rows in the data is:     ', len(df))"
      ],
      "execution_count": null,
      "outputs": [
        {
          "output_type": "stream",
          "text": [
            "Count of columns in the data is:   4\n",
            "Count of rows in the data is:      900\n"
          ],
          "name": "stdout"
        }
      ]
    },
    {
      "cell_type": "code",
      "metadata": {
        "colab": {
          "base_uri": "https://localhost:8080/"
        },
        "id": "eZB6rgxnKfFz",
        "outputId": "2d5675b0-fe2a-4904-8533-771c3eca5dff"
      },
      "source": [
        "df['target'].unique()"
      ],
      "execution_count": null,
      "outputs": [
        {
          "output_type": "execute_result",
          "data": {
            "text/plain": [
              "array([0, 1])"
            ]
          },
          "metadata": {
            "tags": []
          },
          "execution_count": 14
        }
      ]
    },
    {
      "cell_type": "code",
      "metadata": {
        "colab": {
          "base_uri": "https://localhost:8080/"
        },
        "id": "InU3qjnVKfF0",
        "outputId": "d524528c-5b26-4114-e2d4-25e30304f63c"
      },
      "source": [
        "df['target'].nunique()"
      ],
      "execution_count": null,
      "outputs": [
        {
          "output_type": "execute_result",
          "data": {
            "text/plain": [
              "2"
            ]
          },
          "metadata": {
            "tags": []
          },
          "execution_count": 15
        }
      ]
    },
    {
      "cell_type": "code",
      "metadata": {
        "colab": {
          "base_uri": "https://localhost:8080/",
          "height": 447
        },
        "id": "4jin3vQrKfF1",
        "outputId": "77f01d25-799b-4b46-d66d-3eae5baefc97"
      },
      "source": [
        "# Plotting the distribution for dataset.\n",
        "print(df.groupby('target').count())\n",
        "ax = df.groupby('target').count().plot(kind='bar', title='Distribution of data',legend=True,figsize=(20, 5))\n",
        "ax.set_xticklabels(['Negative','Positive'], rotation=45)\n",
        "# for p in ax.patches:\n",
        "    # ax.annotate(str(p.get_height()), (p.get_x() * 1.01 , p.get_height() * 1.01))\n",
        "# Storing data in lists.\n",
        "text, sentiment = list(df['text']), list(df['target'])"
      ],
      "execution_count": null,
      "outputs": [
        {
          "output_type": "stream",
          "text": [
            "         Id  Pasangan Calon  text\n",
            "target                           \n",
            "0       450             450   450\n",
            "1       450             450   450\n"
          ],
          "name": "stdout"
        },
        {
          "output_type": "display_data",
          "data": {
            "image/png": "[encoded data removed]",
            "text/plain": [
              "<Figure size 1440x360 with 1 Axes>"
            ]
          },
          "metadata": {
            "tags": [],
            "needs_background": "light"
          }
        }
      ]
    },
    {
      "cell_type": "code",
      "metadata": {
        "colab": {
          "base_uri": "https://localhost:8080/",
          "height": 334
        },
        "id": "YCAO2kZ2KfF2",
        "outputId": "54d75bb3-e75c-4221-df0d-0fe02696bdbd"
      },
      "source": [
        "import seaborn as sns\n",
        "plt.figure(figsize = (20,5))\n",
        "ax=sns.countplot(x='target', data=df)\n",
        "for p in ax.patches:\n",
        "    ax.annotate(str(p.get_height()), (p.get_x() * 1.01 , p.get_height() * 1.01))"
      ],
      "execution_count": null,
      "outputs": [
        {
          "output_type": "display_data",
          "data": {
            "image/png": "[encoded data removed]",
            "text/plain": [
              "<Figure size 1440x360 with 1 Axes>"
            ]
          },
          "metadata": {
            "tags": [],
            "needs_background": "light"
          }
        }
      ]
    },
    {
      "cell_type": "code",
      "metadata": {
        "colab": {
          "base_uri": "https://localhost:8080/",
          "height": 204
        },
        "id": "kAq6aYIwKfF2",
        "outputId": "01055089-b47d-46fa-8743-19dc6af3cc47"
      },
      "source": [
        "data=df[['text','target']]\n",
        "data.head()"
      ],
      "execution_count": null,
      "outputs": [
        {
          "output_type": "execute_result",
          "data": {
            "text/html": [
              "<div>\n",
              "<style scoped>\n",
              "    .dataframe tbody tr th:only-of-type {\n",
              "        vertical-align: middle;\n",
              "    }\n",
              "\n",
              "    .dataframe tbody tr th {\n",
              "        vertical-align: top;\n",
              "    }\n",
              "\n",
              "    .dataframe thead th {\n",
              "        text-align: right;\n",
              "    }\n",
              "</style>\n",
              "<table border=\"1\" class=\"dataframe\">\n",
              "  <thead>\n",
              "    <tr style=\"text-align: right;\">\n",
              "      <th></th>\n",
              "      <th>text</th>\n",
              "      <th>target</th>\n",
              "    </tr>\n",
              "  </thead>\n",
              "  <tbody>\n",
              "    <tr>\n",
              "      <th>0</th>\n",
              "      <td>Banyak akun kloning seolah2 pendukung #agussilvy mulai menyerang paslon #aniessandi dengan opini dan argumen pmbenaran..jangan terkecoh</td>\n",
              "      <td>0</td>\n",
              "    </tr>\n",
              "    <tr>\n",
              "      <th>1</th>\n",
              "      <td>#agussilvy bicara apa kasihan yaa...lap itu air matanya wkwkwkwk</td>\n",
              "      <td>0</td>\n",
              "    </tr>\n",
              "    <tr>\n",
              "      <th>2</th>\n",
              "      <td>Kalau aku sih gak nunggu hasil akhir QC tp lagi nunggu motif cuitan pak @SBYudhoyono kayak apa.. pasca #AgusSilvy Nyungsep..</td>\n",
              "      <td>0</td>\n",
              "    </tr>\n",
              "    <tr>\n",
              "      <th>3</th>\n",
              "      <td>Kasian oh kasian dengan peluru 1milyar untuk tiap RW #agussilvy tidak mempan menangin pilkada #QuickCount #PilkadaSerentak2017</td>\n",
              "      <td>0</td>\n",
              "    </tr>\n",
              "    <tr>\n",
              "      <th>4</th>\n",
              "      <td>Maaf ya pendukung #AgusSilvy..hayo dukung #AniesSandi diputaran 2 @ronavioleta @NetizenTofa</td>\n",
              "      <td>0</td>\n",
              "    </tr>\n",
              "  </tbody>\n",
              "</table>\n",
              "</div>"
            ],
            "text/plain": [
              "                                                                                                                                      text  target\n",
              "0  Banyak akun kloning seolah2 pendukung #agussilvy mulai menyerang paslon #aniessandi dengan opini dan argumen pmbenaran..jangan terkecoh       0\n",
              "1                                                                         #agussilvy bicara apa kasihan yaa...lap itu air matanya wkwkwkwk       0\n",
              "2             Kalau aku sih gak nunggu hasil akhir QC tp lagi nunggu motif cuitan pak @SBYudhoyono kayak apa.. pasca #AgusSilvy Nyungsep..       0\n",
              "3           Kasian oh kasian dengan peluru 1milyar untuk tiap RW #agussilvy tidak mempan menangin pilkada #QuickCount #PilkadaSerentak2017       0\n",
              "4                                              Maaf ya pendukung #AgusSilvy..hayo dukung #AniesSandi diputaran 2 @ronavioleta @NetizenTofa       0"
            ]
          },
          "metadata": {
            "tags": []
          },
          "execution_count": 18
        }
      ]
    },
    {
      "cell_type": "code",
      "metadata": {
        "colab": {
          "base_uri": "https://localhost:8080/"
        },
        "id": "4Aip300eKfF3",
        "outputId": "bd09bd17-7359-4b2e-e51d-30f70e0048c8"
      },
      "source": [
        "data['target'] = data['target'].replace(4,1)\n",
        "data['target'].value_counts()"
      ],
      "execution_count": null,
      "outputs": [
        {
          "output_type": "stream",
          "text": [
            "/usr/local/lib/python3.7/dist-packages/ipykernel_launcher.py:1: SettingWithCopyWarning: \n",
            "A value is trying to be set on a copy of a slice from a DataFrame.\n",
            "Try using .loc[row_indexer,col_indexer] = value instead\n",
            "\n",
            "See the caveats in the documentation: https://pandas.pydata.org/pandas-docs/stable/user_guide/indexing.html#returning-a-view-versus-a-copy\n",
            "  \"\"\"Entry point for launching an IPython kernel.\n"
          ],
          "name": "stderr"
        },
        {
          "output_type": "execute_result",
          "data": {
            "text/plain": [
              "1    450\n",
              "0    450\n",
              "Name: target, dtype: int64"
            ]
          },
          "metadata": {
            "tags": []
          },
          "execution_count": 19
        }
      ]
    },
    {
      "cell_type": "code",
      "metadata": {
        "colab": {
          "base_uri": "https://localhost:8080/"
        },
        "id": "466bxSDHKfF3",
        "outputId": "eac60a49-8c2b-4582-a131-9fde05b97feb"
      },
      "source": [
        "data['target'].unique()"
      ],
      "execution_count": null,
      "outputs": [
        {
          "output_type": "execute_result",
          "data": {
            "text/plain": [
              "array([0, 1])"
            ]
          },
          "metadata": {
            "tags": []
          },
          "execution_count": 20
        }
      ]
    },
    {
      "cell_type": "code",
      "metadata": {
        "colab": {
          "base_uri": "https://localhost:8080/"
        },
        "id": "vPl_JU1IKfF4",
        "scrolled": true,
        "outputId": "b3c8688b-034d-4346-eb44-6d22b0ecb096"
      },
      "source": [
        "data_pos = data[data['target'] == 1]\n",
        "data_pos.head()\n",
        "print(len(data_pos))"
      ],
      "execution_count": null,
      "outputs": [
        {
          "output_type": "stream",
          "text": [
            "450\n"
          ],
          "name": "stdout"
        }
      ]
    },
    {
      "cell_type": "code",
      "metadata": {
        "colab": {
          "base_uri": "https://localhost:8080/"
        },
        "id": "RaHSaOqqKfF4",
        "outputId": "73b39f73-5061-4b49-ca21-c2d60143c459"
      },
      "source": [
        "data_neg = data[data['target'] == 0]\n",
        "data_neg.head()\n",
        "print(len(data_neg))"
      ],
      "execution_count": null,
      "outputs": [
        {
          "output_type": "stream",
          "text": [
            "450\n"
          ],
          "name": "stdout"
        }
      ]
    },
    {
      "cell_type": "code",
      "metadata": {
        "colab": {
          "base_uri": "https://localhost:8080/",
          "height": 238
        },
        "id": "PVUdDR-aKfF4",
        "outputId": "4424d027-53d5-48a4-c8eb-47445f98e05a"
      },
      "source": [
        "data_pos = data_pos.iloc[:]\n",
        "data_neg = data_neg.iloc[:]\n",
        "print(type(data_pos))\n",
        "print(type(data_neg))\n",
        "dataset = pd.concat([data_pos, data_neg])\n",
        "dataset\n",
        "dataset.head()"
      ],
      "execution_count": null,
      "outputs": [
        {
          "output_type": "stream",
          "text": [
            "<class 'pandas.core.frame.DataFrame'>\n",
            "<class 'pandas.core.frame.DataFrame'>\n"
          ],
          "name": "stdout"
        },
        {
          "output_type": "execute_result",
          "data": {
            "text/html": [
              "<div>\n",
              "<style scoped>\n",
              "    .dataframe tbody tr th:only-of-type {\n",
              "        vertical-align: middle;\n",
              "    }\n",
              "\n",
              "    .dataframe tbody tr th {\n",
              "        vertical-align: top;\n",
              "    }\n",
              "\n",
              "    .dataframe thead th {\n",
              "        text-align: right;\n",
              "    }\n",
              "</style>\n",
              "<table border=\"1\" class=\"dataframe\">\n",
              "  <thead>\n",
              "    <tr style=\"text-align: right;\">\n",
              "      <th></th>\n",
              "      <th>text</th>\n",
              "      <th>target</th>\n",
              "    </tr>\n",
              "  </thead>\n",
              "  <tbody>\n",
              "    <tr>\n",
              "      <th>150</th>\n",
              "      <td>Doa ku.. Semoga suaranya mas Agus-Sylvi beneran ke #Badja #PilkadaDKI2017 yakin kan mas Agus.. Aku pada mu..</td>\n",
              "      <td>1</td>\n",
              "    </tr>\n",
              "    <tr>\n",
              "      <th>151</th>\n",
              "      <td>Terima kasih mas @AgusYudhoyono, karenamu anak muda telah berani menyuarakan perubahan. Kami tetap bersamamu #YNWA</td>\n",
              "      <td>1</td>\n",
              "    </tr>\n",
              "    <tr>\n",
              "      <th>152</th>\n",
              "      <td>KETEMU DI ISTIQLAL Bangga Pernah Jadi Bagian Dari @AgusYudhoyono dan @sylviana_murni @ZaraZettiraZr @AhyCenter @SohibAHY</td>\n",
              "      <td>1</td>\n",
              "    </tr>\n",
              "    <tr>\n",
              "      <th>153</th>\n",
              "      <td>Tersingkir dari kancah pilkada DKI, rupanya ada cara lain untuk mengangkat seseorang #AHY Mendunia</td>\n",
              "      <td>1</td>\n",
              "    </tr>\n",
              "    <tr>\n",
              "      <th>154</th>\n",
              "      <td>Dalam Pilkada DKI, AHY juga mampu menunjukkan kualitasnya sebagai seorang pemimpin muda yang berjiwa ksatria. (AHY mendunia)</td>\n",
              "      <td>1</td>\n",
              "    </tr>\n",
              "  </tbody>\n",
              "</table>\n",
              "</div>"
            ],
            "text/plain": [
              "                                                                                                                             text  target\n",
              "150                  Doa ku.. Semoga suaranya mas Agus-Sylvi beneran ke #Badja #PilkadaDKI2017 yakin kan mas Agus.. Aku pada mu..       1\n",
              "151            Terima kasih mas @AgusYudhoyono, karenamu anak muda telah berani menyuarakan perubahan. Kami tetap bersamamu #YNWA       1\n",
              "152      KETEMU DI ISTIQLAL Bangga Pernah Jadi Bagian Dari @AgusYudhoyono dan @sylviana_murni @ZaraZettiraZr @AhyCenter @SohibAHY       1\n",
              "153                            Tersingkir dari kancah pilkada DKI, rupanya ada cara lain untuk mengangkat seseorang #AHY Mendunia       1\n",
              "154  Dalam Pilkada DKI, AHY juga mampu menunjukkan kualitasnya sebagai seorang pemimpin muda yang berjiwa ksatria. (AHY mendunia)       1"
            ]
          },
          "metadata": {
            "tags": []
          },
          "execution_count": 23
        }
      ]
    },
    {
      "cell_type": "code",
      "metadata": {
        "colab": {
          "base_uri": "https://localhost:8080/"
        },
        "id": "cwPwh0DbKfF5",
        "outputId": "081c1484-9541-462e-e5a2-884c44242841"
      },
      "source": [
        "dataset['text']=dataset['text'].str.lower()\n",
        "print(dataset['text'][13])\n",
        "print(dataset['text'][210])\n",
        "print(dataset['text'][305])\n",
        "print(dataset['text'][373])\n",
        "print(dataset['text'][552])\n",
        "\n",
        "dataset['text'].sample(5)"
      ],
      "execution_count": null,
      "outputs": [
        {
          "output_type": "stream",
          "text": [
            "aku juga kemarin #ahy 19april2017 suaraku utk paslon 3 #dki\n",
            "salam untuk kaum muda. hormat pada yang tua. #ahy\n",
            "ahok menang tipis di tps tempat habib rizieq mencoblos https://goo.gl/fb/4fdytd  #seruji #fokus #pilkadadki2017\n",
            "hati hati komentar tentang #ahokdjarot #kalahpilkada, ujung2nya anda dituduh nyinyir\n",
            "#duajari #ahokdjarot #badja #salamduajari #duajari #kode #code #gangster #farmer #foodhero https://www.instagram.com/p/bs1x10_bovd/\n"
          ],
          "name": "stdout"
        },
        {
          "output_type": "execute_result",
          "data": {
            "text/plain": [
              "410    jangan sampai allah mengazab kalian wahai orang2 muslim yang memilih pemimpin kafir <high voltage> <high voltage> #pilkadadki2017 #pilkadadki\n",
              "404                                                                                     menata jakarta bukan menata kata-kata! #debatpilkadadki #gw2\n",
              "82           kering sudah darah @ahy saatnya menghisap darah @anisandi mumpung stok darahnya bergudang-gudang, darah hantu diminum setan #pilkadadki\n",
              "309                    tidak akan diberi petunjuk orang-orang zalim. tetap haram pemimpin kafir. #pilkadadki #pilkadadki2017 #islamrahmatanlilalamin\n",
              "890                                                                               wiiih aqua pun #okeoce pilih no 3  <ok hand>  <ok hand>  <ok hand>\n",
              "Name: text, dtype: object"
            ]
          },
          "metadata": {
            "tags": []
          },
          "execution_count": 24
        }
      ]
    },
    {
      "cell_type": "code",
      "metadata": {
        "colab": {
          "base_uri": "https://localhost:8080/"
        },
        "id": "y5ow6cdtLH1s",
        "outputId": "f85e3ee8-d942-4d5b-e30c-91e134a62bf9"
      },
      "source": [
        "!pip install Sastrawi"
      ],
      "execution_count": null,
      "outputs": [
        {
          "output_type": "stream",
          "text": [
            "Collecting Sastrawi\n",
            "  Downloading Sastrawi-1.0.1-py2.py3-none-any.whl (209 kB)\n",
            "\u001b[K     |████████████████████████████████| 209 kB 4.1 MB/s \n",
            "\u001b[?25hInstalling collected packages: Sastrawi\n",
            "Successfully installed Sastrawi-1.0.1\n"
          ],
          "name": "stdout"
        }
      ]
    },
    {
      "cell_type": "code",
      "metadata": {
        "colab": {
          "base_uri": "https://localhost:8080/"
        },
        "id": "iNjLKBTaei7f",
        "outputId": "1bfd5269-a15a-4f6c-e04f-4c3b7d0a8850"
      },
      "source": [
        "# print(dataset['text'][305])\n",
        "# print(dataset['text'][564])\n",
        "\n",
        "# a_string = \"this is a <ki_te2> <ki_te1> message\"\n",
        "# result = re.findall(r\"\\<([A-Za-z0-9_]+)\\>\", a_string)\n",
        "# print(\"\".join(result))\n",
        "\n",
        "# print(dictionary_emoticons[0:5])\n",
        "# print(dict_emoticons_replace[0:5])\n",
        "\n",
        "for idx in range(len(dictionary_emoticons)):\n",
        "  dict_emoji = \"<{}>\".format(dictionary_emoticons[idx])\n",
        "  dictionary_emoticons[idx] = dict_emoji\n",
        "  # print(dict_emoji)\n",
        "  emoji_replace = dict_emoticons_replace[idx]\n",
        "  dataset['text'] = dataset['text'].replace(dict_emoji, emoji_replace, regex=True)\n",
        "\n",
        "# dataset['text'] = dataset['text'].replace(\"<face without mouth>\", \"LOL\", regex=True)\n",
        "print(dataset['text'][305])\n",
        "print(dataset['text'][564])\n",
        "print(dataset['text'][725])"
      ],
      "execution_count": null,
      "outputs": [
        {
          "output_type": "stream",
          "text": [
            "ahok menang tipis di tps tempat habib rizieq mencoblos https://goo.gl/fb/4fdytd  #seruji #fokus #pilkadadki2017\n",
            "saya percaya, kondisi cuaca beberapa hari sebelum pilkada dki ikut serta memberikan kontribusi positif ke ahok-djarot. aku 2!! ✌ ✌\n",
            "dan nginulpun terdiam 😶 . #dacademy4 salam #okeoce, #coblospecinya\n"
          ],
          "name": "stdout"
        }
      ]
    },
    {
      "cell_type": "code",
      "metadata": {
        "colab": {
          "base_uri": "https://localhost:8080/"
        },
        "id": "8y2bRLB3VWIy",
        "outputId": "0a2b81e7-9c50-4111-d89f-3eb2f83dea0f"
      },
      "source": [
        "def get_emoticon(text):\n",
        "    values = \" \".join([word for word in str(text).split() if word in dict_emoticons_replace])\n",
        "    values = \" \"+values\n",
        "    return values\n",
        "\n",
        "dataset['only_emoji'] = dataset['text'].apply(lambda text: get_emoticon(text))\n",
        "print(dataset['only_emoji'][725])\n",
        "print(dataset['text'][305])\n",
        "print(dataset['text'][564])\n",
        "print(dataset['text'][725])"
      ],
      "execution_count": null,
      "outputs": [
        {
          "output_type": "stream",
          "text": [
            " 😶\n",
            "ahok menang tipis di tps tempat habib rizieq mencoblos https://goo.gl/fb/4fdytd  #seruji #fokus #pilkadadki2017\n",
            "saya percaya, kondisi cuaca beberapa hari sebelum pilkada dki ikut serta memberikan kontribusi positif ke ahok-djarot. aku 2!! ✌ ✌\n",
            "dan nginulpun terdiam 😶 . #dacademy4 salam #okeoce, #coblospecinya\n"
          ],
          "name": "stdout"
        }
      ]
    },
    {
      "cell_type": "code",
      "metadata": {
        "colab": {
          "base_uri": "https://localhost:8080/"
        },
        "id": "weRkONHWKfF5",
        "outputId": "bf8e0cc5-126f-4761-a7d0-2077748682cf"
      },
      "source": [
        "from Sastrawi.StopWordRemover.StopWordRemoverFactory import StopWordRemoverFactory, StopWordRemover, ArrayDictionary\n",
        "from nltk.tokenize import word_tokenize \n",
        " \n",
        "\n",
        "stop_factory = StopWordRemoverFactory().get_stop_words()\n",
        "print(stop_factory)"
      ],
      "execution_count": null,
      "outputs": [
        {
          "output_type": "stream",
          "text": [
            "['yang', 'untuk', 'pada', 'ke', 'para', 'namun', 'menurut', 'antara', 'dia', 'dua', 'ia', 'seperti', 'jika', 'jika', 'sehingga', 'kembali', 'dan', 'tidak', 'ini', 'karena', 'kepada', 'oleh', 'saat', 'harus', 'sementara', 'setelah', 'belum', 'kami', 'sekitar', 'bagi', 'serta', 'di', 'dari', 'telah', 'sebagai', 'masih', 'hal', 'ketika', 'adalah', 'itu', 'dalam', 'bisa', 'bahwa', 'atau', 'hanya', 'kita', 'dengan', 'akan', 'juga', 'ada', 'mereka', 'sudah', 'saya', 'terhadap', 'secara', 'agar', 'lain', 'anda', 'begitu', 'mengapa', 'kenapa', 'yaitu', 'yakni', 'daripada', 'itulah', 'lagi', 'maka', 'tentang', 'demi', 'dimana', 'kemana', 'pula', 'sambil', 'sebelum', 'sesudah', 'supaya', 'guna', 'kah', 'pun', 'sampai', 'sedangkan', 'selagi', 'sementara', 'tetapi', 'apakah', 'kecuali', 'sebab', 'selain', 'seolah', 'seraya', 'seterusnya', 'tanpa', 'agak', 'boleh', 'dapat', 'dsb', 'dst', 'dll', 'dahulu', 'dulunya', 'anu', 'demikian', 'tapi', 'ingin', 'juga', 'nggak', 'mari', 'nanti', 'melainkan', 'oh', 'ok', 'seharusnya', 'sebetulnya', 'setiap', 'setidaknya', 'sesuatu', 'pasti', 'saja', 'toh', 'ya', 'walau', 'tolong', 'tentu', 'amat', 'apalagi', 'bagaimanapun']\n"
          ],
          "name": "stdout"
        }
      ]
    },
    {
      "cell_type": "code",
      "metadata": {
        "colab": {
          "base_uri": "https://localhost:8080/"
        },
        "id": "HioZfXf6KfF6",
        "outputId": "a10d3e9f-d59f-44d1-cff1-04ae26e666f2"
      },
      "source": [
        "def cleaning_stopwords(text):\n",
        "    return \" \".join([word for word in str(text).split() if word not in stop_factory])\n",
        "dataset['text'] = dataset['text'].apply(lambda text: cleaning_stopwords(text))\n",
        "\n",
        "print(dataset['text'][305])\n",
        "print(dataset['text'][552])\n",
        "\n",
        "dataset['text'].sample(5)"
      ],
      "execution_count": null,
      "outputs": [
        {
          "output_type": "stream",
          "text": [
            "ahok menang tipis tps tempat habib rizieq mencoblos https://goo.gl/fb/4fdytd #seruji #fokus #pilkadadki2017\n",
            "#duajari #ahokdjarot #badja #salamduajari #duajari #kode #code #gangster #farmer #foodhero https://www.instagram.com/p/bs1x10_bovd/\n"
          ],
          "name": "stdout"
        },
        {
          "output_type": "execute_result",
          "data": {
            "text/plain": [
              "173                     bilang menang bentuk keyakinan keberhasilan goal goal improvisasi politik pak sby & pak ahy,di pilkada dki.\n",
              "600                   lebih baik jadi dosen dibanggakan berharap jadi gubernur cara membohongi rakyat diri sendiri. #pilkadadki2017\n",
              "669    saran #aniessandi merealisir transportasi terintegrasi tiket rp.5000 seyogianya dibicarakan @pt_transjakarta & organda & mti\n",
              "828                                          menuduh pendukung #aniessandi ekstrimis momen gagal fokus. #adaaqua. cc: @marissaanita\n",
              "356                           takjub sebegitu besarnya cinta warga dki #ahokdjarot , geli sama kalimat-kalimat #karanganbungaahok .\n",
              "Name: text, dtype: object"
            ]
          },
          "metadata": {
            "tags": []
          },
          "execution_count": 29
        }
      ]
    },
    {
      "cell_type": "code",
      "metadata": {
        "colab": {
          "base_uri": "https://localhost:8080/"
        },
        "id": "JLMWuWFeKfF6",
        "outputId": "4ed15a73-8def-4462-b453-22ab7b4392a2"
      },
      "source": [
        "def cleaning_URLs(data):\n",
        "    return re.sub('http[s]?://\\S+', '', data)\n",
        "dataset['text'] = dataset['text'].apply(lambda x: cleaning_URLs(x))\n",
        "\n",
        "print(dataset['text'][305])\n",
        "print(dataset['text'][552])\n",
        "\n",
        "dataset['text'].head()\n",
        "\n"
      ],
      "execution_count": null,
      "outputs": [
        {
          "output_type": "stream",
          "text": [
            "ahok menang tipis tps tempat habib rizieq mencoblos  #seruji #fokus #pilkadadki2017\n",
            "#duajari #ahokdjarot #badja #salamduajari #duajari #kode #code #gangster #farmer #foodhero \n"
          ],
          "name": "stdout"
        },
        {
          "output_type": "execute_result",
          "data": {
            "text/plain": [
              "150            doa ku.. semoga suaranya mas agus-sylvi beneran #badja #pilkadadki2017 yakin kan mas agus.. aku mu..\n",
              "151         terima kasih mas @agusyudhoyono, karenamu anak muda berani menyuarakan perubahan. tetap bersamamu #ynwa\n",
              "152    ketemu istiqlal bangga pernah jadi bagian @agusyudhoyono @sylviana_murni @zarazettirazr @ahycenter @sohibahy\n",
              "153                                  tersingkir kancah pilkada dki, rupanya cara mengangkat seseorang #ahy mendunia\n",
              "154            pilkada dki, ahy mampu menunjukkan kualitasnya seorang pemimpin muda berjiwa ksatria. (ahy mendunia)\n",
              "Name: text, dtype: object"
            ]
          },
          "metadata": {
            "tags": []
          },
          "execution_count": 30
        }
      ]
    },
    {
      "cell_type": "code",
      "metadata": {
        "colab": {
          "base_uri": "https://localhost:8080/"
        },
        "id": "UWo9fS99KfF7",
        "outputId": "785b2046-fef0-4739-c488-622e10f77902"
      },
      "source": [
        "import string\n",
        "english_punctuations = string.punctuation\n",
        "punctuations_list = english_punctuations\n",
        "def cleaning_punctuations(text):\n",
        "    translator = str.maketrans('', '', punctuations_list)\n",
        "    return text.translate(translator)\n",
        "dataset['text']= dataset['text'].apply(lambda x: cleaning_punctuations(x))\n",
        "\n",
        "print(dataset['text'][305])\n",
        "print(dataset['text'][552])\n",
        "\n",
        "dataset['text'].sample(5)\n"
      ],
      "execution_count": null,
      "outputs": [
        {
          "output_type": "stream",
          "text": [
            "ahok menang tipis tps tempat habib rizieq mencoblos  seruji fokus pilkadadki2017\n",
            "duajari ahokdjarot badja salamduajari duajari kode code gangster farmer foodhero \n"
          ],
          "name": "stdout"
        },
        {
          "output_type": "execute_result",
          "data": {
            "text/plain": [
              "145    sbyudhoyono tweet justru kontraproduktif ahy pak zippermouth face zippermouth face zippermouth face\n",
              "202         kekalahan sukses yg tertunda bukan disesali dijadikan pengalaman tuk lebih baik masa depan ahy\n",
              "616     terlalu diaplikasikan program2 paslon 3 bahkan cenderung nyambung bahasa teknisnya sangat prihatin\n",
              "829               anies komitmen kota jakarta paling bhineka indonesia gubernurbaru aniessandi aniessandi \n",
              "732                                  rip logika nalar icesardhono salambersama okeoce tetapahok gue2 dpnol\n",
              "Name: text, dtype: object"
            ]
          },
          "metadata": {
            "tags": []
          },
          "execution_count": 31
        }
      ]
    },
    {
      "cell_type": "code",
      "metadata": {
        "colab": {
          "base_uri": "https://localhost:8080/"
        },
        "id": "DW2r37F4KfF7",
        "outputId": "190fda9e-6ee1-47ac-cd49-b9acf6aaac8d"
      },
      "source": [
        "\n",
        "def cleaning_repeating_char(text):\n",
        "    return ' '.join(dict.fromkeys(text.split()))\n",
        "dataset['text'] = dataset['text'].apply(lambda x: cleaning_repeating_char(x))\n",
        "print(dataset['text'][305])\n",
        "print(dataset['text'][552])\n"
      ],
      "execution_count": null,
      "outputs": [
        {
          "output_type": "stream",
          "text": [
            "ahok menang tipis tps tempat habib rizieq mencoblos seruji fokus pilkadadki2017\n",
            "duajari ahokdjarot badja salamduajari kode code gangster farmer foodhero\n"
          ],
          "name": "stdout"
        }
      ]
    },
    {
      "cell_type": "code",
      "metadata": {
        "colab": {
          "base_uri": "https://localhost:8080/"
        },
        "id": "kgwYLsLfKfF7",
        "outputId": "3c2c09cf-72f4-4981-e0d5-6293674fc851"
      },
      "source": [
        "def cleaning_numbers(data):\n",
        "    return re.sub('[0-9]+', '', data)\n",
        "dataset['text'] = dataset['text'].apply(lambda x: cleaning_numbers(x))\n",
        "print(dataset['text'][13])\n",
        "print(dataset['text'][210])\n",
        "print(dataset['text'][305])\n",
        "print(dataset['text'][373])\n",
        "print(dataset['text'][725])\n",
        "dataset['text'].head()"
      ],
      "execution_count": null,
      "outputs": [
        {
          "output_type": "stream",
          "text": [
            "aku kemarin ahy april suaraku utk paslon  dki\n",
            "salam kaum muda hormat tua ahy\n",
            "ahok menang tipis tps tempat habib rizieq mencoblos seruji fokus pilkadadki\n",
            "hati komentar ahokdjarot kalahpilkada ujungnya dituduh nyinyir\n",
            "nginulpun terdiam 😶 dacademy salam okeoce coblospecinya\n"
          ],
          "name": "stdout"
        },
        {
          "output_type": "execute_result",
          "data": {
            "text/plain": [
              "150                       doa ku semoga suaranya mas agussylvi beneran badja pilkadadki yakin kan agus aku mu\n",
              "151       terima kasih mas agusyudhoyono karenamu anak muda berani menyuarakan perubahan tetap bersamamu ynwa\n",
              "152    ketemu istiqlal bangga pernah jadi bagian agusyudhoyono sylvianamurni zarazettirazr ahycenter sohibahy\n",
              "153                              tersingkir kancah pilkada dki rupanya cara mengangkat seseorang ahy mendunia\n",
              "154              pilkada dki ahy mampu menunjukkan kualitasnya seorang pemimpin muda berjiwa ksatria mendunia\n",
              "Name: text, dtype: object"
            ]
          },
          "metadata": {
            "tags": []
          },
          "execution_count": 33
        }
      ]
    },
    {
      "cell_type": "code",
      "metadata": {
        "colab": {
          "base_uri": "https://localhost:8080/"
        },
        "id": "FHE4DymyKfF8",
        "outputId": "0c679960-45df-4e10-ad15-b3ac09eb278c"
      },
      "source": [
        "import nltk\n",
        "st = nltk.PorterStemmer()\n",
        "\n",
        "from Sastrawi.Stemmer.StemmerFactory import StemmerFactory\n",
        "factory = StemmerFactory()\n",
        "st = factory.create_stemmer()\n",
        "\n",
        "def stemming_on_text(data):\n",
        "    return st.stem(data)\n",
        "dataset['text']= dataset['text'].apply(lambda x: stemming_on_text(x))\n",
        "\n",
        "print(dataset['text'][13])\n",
        "print(dataset['text'][210])\n",
        "print(dataset['text'][305])\n",
        "print(dataset['text'][373])\n",
        "print(dataset['text'][552])\n",
        "\n",
        "dataset['text'].head()\n",
        "\n"
      ],
      "execution_count": null,
      "outputs": [
        {
          "output_type": "stream",
          "text": [
            "aku kemarin ahy april suara utk paslon dki\n",
            "salam kaum muda hormat tua ahy\n",
            "ahok menang tipis tps tempat habib rizieq coblos ruji fokus pilkadadki\n",
            "hati komentar ahokdjarot kalahpilkada ujung tuduh nyinyir\n",
            "duajari ahokdjarot badja salamduajari kode code gangster farmer foodhero\n"
          ],
          "name": "stdout"
        },
        {
          "output_type": "execute_result",
          "data": {
            "text/plain": [
              "150                          doa ku moga suara mas agussylvi beneran badja pilkadadki yakin kan agus aku mu\n",
              "151                       terima kasih mas agusyudhoyono karena anak muda berani suara ubah tetap sama ynwa\n",
              "152    ketemu istiqlal bangga pernah jadi bagi agusyudhoyono sylvianamurni zarazettirazr ahycenter sohibahy\n",
              "153                                             singkir kancah pilkada dki rupa cara angkat orang ahy dunia\n",
              "154                              pilkada dki ahy mampu tunjuk kualitas orang pimpin muda jiwa ksatria dunia\n",
              "Name: text, dtype: object"
            ]
          },
          "metadata": {
            "tags": []
          },
          "execution_count": 34
        }
      ]
    },
    {
      "cell_type": "code",
      "metadata": {
        "id": "cSDIwXvcKfF8"
      },
      "source": [
        "# import nltk\n",
        "\n",
        "# nltk.download('wordnet')\n",
        "# from nltk.stem import WordNetLemmatizer \n",
        "\n",
        "# # Init the Wordnet Lemmatizer\n",
        "# lm = WordNetLemmatizer()\n",
        "\n",
        "# def lemmatizer_on_text(data):\n",
        "#     text = [lm.lemmatize(word) for word in data]\n",
        "#     return data\n",
        "# dataset['text'] = dataset['text'].apply(lambda x: lemmatizer_on_text(x))\n",
        "\n",
        "# print(dataset['text'][305])\n",
        "# print(dataset['text'][552])\n",
        "# print(dataset['text'][564])\n",
        "# print(dataset['text'][725])\n",
        "\n",
        "# dataset['text'].head()"
      ],
      "execution_count": null,
      "outputs": []
    },
    {
      "cell_type": "code",
      "metadata": {
        "colab": {
          "base_uri": "https://localhost:8080/"
        },
        "id": "1hvklmqmaNgq",
        "outputId": "f257575f-079e-444e-86b8-5e64024f5eda"
      },
      "source": [
        "# print(dataset['only_emoji'].head())\n",
        "\n",
        "# print(dataset['only_emoji'])\n",
        "\n",
        "dataset['text'] = dataset['text'].str.cat(dataset['only_emoji'], join=\"left\")\n",
        "\n",
        "print(dataset['text'][711])\n",
        "print(dataset['text'][120])\n",
        "print(dataset['text'][712])\n",
        "print(dataset['text'][373])\n",
        "print(dataset['text'][725])"
      ],
      "execution_count": null,
      "outputs": [
        {
          "output_type": "stream",
          "text": [
            "jadi kalo kalah badja buat curang picik prabowo sebut aniessandi menang pilkada dki curang 😬\n",
            "ahy anieshilangya ahokdjarotdirosi kompastv rosiannahi sittayohag gunawanahokers gunjkt partaisocmed ulinyusron 😬 😬\n",
            "waktu kampanye sandi malah cianjur anies minta dukung aher hhmm jabar siap landa aniessandi zippermouth face kalah pilkada \n",
            "hati komentar ahokdjarot kalahpilkada ujung tuduh nyinyir \n",
            "nginulpun diam dacademy salam okeoce coblospecinya 😶\n"
          ],
          "name": "stdout"
        }
      ]
    },
    {
      "cell_type": "code",
      "metadata": {
        "colab": {
          "base_uri": "https://localhost:8080/"
        },
        "id": "_tUnHXeEKfF9",
        "outputId": "8c1ccad1-94b3-4122-e285-81cf39450fbd"
      },
      "source": [
        "\n",
        "\n",
        "X=dataset.text\n",
        "X.sample(5)\n",
        "y=dataset.target\n",
        "y.sample(5)"
      ],
      "execution_count": null,
      "outputs": [
        {
          "output_type": "execute_result",
          "data": {
            "text/plain": [
              "475    1\n",
              "446    0\n",
              "24     0\n",
              "140    0\n",
              "281    1\n",
              "Name: target, dtype: int64"
            ]
          },
          "metadata": {
            "tags": []
          },
          "execution_count": 37
        }
      ]
    },
    {
      "cell_type": "code",
      "metadata": {
        "colab": {
          "base_uri": "https://localhost:8080/"
        },
        "id": "zgMZnL50KfF9",
        "outputId": "ddfd5129-d7f7-4786-f00c-5aa18492737e"
      },
      "source": [
        "X_train, X_test, y_train, y_test = train_test_split(X,y,test_size = 0.2, random_state =42)\n",
        "X_train.shape, X_test.shape, y_train.shape, y_test.shape"
      ],
      "execution_count": null,
      "outputs": [
        {
          "output_type": "execute_result",
          "data": {
            "text/plain": [
              "((720,), (180,), (720,), (180,))"
            ]
          },
          "metadata": {
            "tags": []
          },
          "execution_count": 38
        }
      ]
    },
    {
      "cell_type": "code",
      "metadata": {
        "colab": {
          "base_uri": "https://localhost:8080/"
        },
        "id": "YP0CvC_lKfF9",
        "outputId": "72779445-0ebe-44bb-f9b6-b4dfc3d4af13"
      },
      "source": [
        "print(X[725])\n",
        "# vectoriser = TfidfVectorizer(ngram_range=(1,1), max_features=50000)\n",
        "# vectoriser.fit(X)\n",
        "# print('No. of feature_words: ', len(vectoriser.get_feature_names()))\n",
        "vectoriser = TfidfVectorizer(ngram_range=(1,1), max_features=50000, token_pattern=r'[^\\s]+')\n",
        "vectoriser.fit(X)\n",
        "print('No. of feature_words: ', len(vectoriser.get_feature_names()))\n",
        "print(vectoriser.get_feature_names())"
      ],
      "execution_count": null,
      "outputs": [
        {
          "output_type": "stream",
          "text": [
            "nginulpun diam dacademy salam okeoce coblospecinya 😶\n",
            "No. of feature_words:  2857\n",
            "['a', 'aa', 'aagym', 'aamiin', 'abaaah', 'abal', 'abang', 'abdi', 'abis', 'absurd', 'abunawas', 'aburizal', 'abused', 'acara', 'acu', 'ada', 'adaaqua', 'addiems', 'adekku', 'adil', 'adjierimbawan', 'adjrot', 'agam', 'agama', 'agamaras', 'agus', 'agusharimurtiyudhoyono', 'agussilvy', 'agussilvyhayo', 'agussylvi', 'agusyudhoyono', 'ah', 'aher', 'ahhhh', 'ahli', 'ahmadfuadanwar', 'ahok', 'ahokbali', 'ahokbtp', 'ahokdicintairakyat', 'ahokdjarot', 'ahokdjarotdirosi', 'ahokdjarotlebihbaik', 'ahokdjarotmenang', 'ahoker', 'ahokers', 'ahokforbali', 'ahokfornobel', 'ahokfree', 'ahokhebat', 'ahokishope', 'ahokjarot', 'ahokkalah', 'ahokkeok', 'ahoklovers', 'ahokmandikembang', 'ahokmartir', 'ahokmenang', 'ahokpanikahokkalah', 'ahokpenistaagama', 'ahokpresidenrike', 'ahokrekormuri', 'ahokri', 'ahokselaludihati', 'ahokshow', 'ahoktakbersalah', 'ahoktumbang', 'ahox', 'ahy', 'ahyall', 'ahyangarukkepala', 'ahycenter', 'ahycuitan', 'ahydemiindonesia', 'ahydi', 'ahydickychandra', 'ahyfansclub', 'ahyforall', 'ahyhargamati', 'ahyhumorlagu', 'ahyjalanmu', 'ahylovers', 'ahymaininsara', 'ahysilvy', 'ahysylvi', 'ahythenextleaderahyadalahkita', 'ahywearethenextleader', 'aib', 'aiman', 'air', 'aja', 'ajak', 'ajang', 'ajar', 'aji', 'ajibarang', 'ak', 'aka', 'akakakakakk', 'akal', 'akhir', 'akhirat', 'akhlak', 'akibat', 'aksi', 'akting', 'aku', 'akucoblosaniessandi', 'akun', 'akunakun', 'ala', 'alain', 'alam', 'alas', 'alat', 'alesha', 'alexis', 'alhamdulillah', 'alhamdullilah', 'alien', 'alih', 'alir', 'allah', 'allahuakbar', 'allamin', 'alloh', 'almaidah', 'alplovers', 'alquran', 'alumni', 'ama', 'aman', 'amanah', 'amanat', 'amanatnasional', 'amat', 'ambil', 'ambisi', 'amieeennnnn', 'amien', 'amin', 'ampenan', 'ampun', 'anak', 'ananghijau', 'anas', 'ancam', 'and', 'anda', 'andai', 'aneh', 'anggap', 'anggota', 'anggrek', 'angkat', 'angsur', 'anies', 'aniesbaswedan', 'aniesbaswedanid', 'aniesgubernurbaru', 'anieshilangya', 'aniesjawarajakarta', 'anieskalahmuslimmarah', 'aniessandi', 'aniessandiaga', 'aniessandidki', 'aniessandigubernur', 'aniessandigubernurkita', 'aniessandijawarajakarta', 'aniessandikaos', 'aniessandimenang', 'aniessandino', 'aniessandiwiner', 'aniessandy', 'aniestidakkonsisten', 'anis', 'anisa', 'anisandi', 'anissandi', 'anjing', 'annisa', 'antar', 'antargolongan', 'antasari', 'antem', 'anti', 'antri', 'anut', 'anyway', 'apa', 'apaapa', 'apakah', 'aparat', 'apbd', 'apbn', 'api', 'aplikasi', 'applause', 'apreciate', 'apresiasi', 'april', 'apung', 'aqil', 'aqua', 'arah', 'arainsanr', 'arena', 'argumen', 'arifinp', 'arogan', 'arsitek', 'art', 'arti', 'artis', 'as', 'asa', 'asal', 'asalngomomg', 'asbak', 'ashari', 'asing', 'ask', 'asli', 'aspal', 'aspek', 'asset', 'astaga', 'asyik', 'at', 'atas', 'atau', 'ato', 'atur', 'aura', 'awas', 'awasin', 'awesome', 'ayah', 'ayam', 'ayang', 'ayat', 'ayatollah', 'ayo', 'ayoagusyudhoyono', 'ayopenjarakanahok', 'azab', 'azhar', 'b', 'babak', 'babe', 'baca', 'badja', 'badjaberagam', 'badjauntukjakarta', 'bagai', 'bagaimana', 'bagi', 'bagibagi', 'bagus', 'bah', 'bahagia', 'bahas', 'bahasa', 'bahaya', 'bahkan', 'baik', 'baja', 'bajak', 'bajing', 'baju', 'bakal', 'bakar', 'bakrie', 'bakti', 'bal', 'balai', 'balaikota', 'balaikotadki', 'balas', 'balik', 'ball', 'bambangelf', 'banci', 'band', 'banding', 'bandot', 'bang', 'banget', 'bangett', 'bangga', 'bangsa', 'bangsat', 'bangun', 'bangundki', 'banjir', 'banjirjkt', 'bank', 'bankdki', 'banteng', 'bantu', 'banyak', 'bapak', 'baper', 'baris', 'baru', 'barumastbp', 'barusan', 'barutunggu', 'baruu', 'basis', 'basuki', 'basukibtp', 'basukidjarot', 'basukikeokmasukbui', 'basukitjahajapurnama', 'baswedan', 'batal', 'batam', 'batas', 'batman', 'baukidjarot', 'bawa', 'bawah', 'bayar', 'bbrp', 'bebas', 'beberapa', 'beda', 'begini', 'begitu', 'bego', 'begtiu', 'bekas', 'bekasitangerangbogordepok', 'bela', 'belah', 'belakang', 'belanda', 'belebihan', 'beli', 'beliau', 'beliin', 'belum', 'benar', 'benarbenar', 'benci', 'bener', 'beneran', 'benerbener', 'bengong', 'bening', 'bentuk', 'ber', 'beragamitubasukidjarot', 'berakhlaq', 'berani', 'berantas', 'berapa', 'berat', 'beres', 'bergudanggudang', 'beri', 'berintregitas', 'berita', 'beritahati', 'beritasatu', 'berkat', 'bersatuaniessandi', 'bersih', 'bersolawat', 'bersyariah', 'berterimakasi', 'besar', 'besi', 'besok', 'besokguaahok', 'best', 'betawi', 'bete', 'betengkar', 'betul', 'bgm', 'bhineka', 'bhinekatunggalika', 'bhinneka', 'biadab', 'biar', 'biasa', 'bicara', 'bidang', 'bijak', 'bijaksana', 'bikin', 'bila', 'bilang', 'bingung', 'bini', 'binimuda', 'bioskop', 'bis', 'bisa', 'bismillah', 'black', 'bloon', 'blowing', 'blt', 'blunder', 'blush', 'blusukan', 'bngga', 'bobot', 'bodyguard', 'bogor', 'bohong', 'bola', 'boleh', 'bom', 'bongkar', 'boongya', 'bor', 'bosan', 'boss', 'bowing', 'bpk', 'bpkbasukibtp', 'bravo', 'brgabung', 'brothers', 'brow', 'brubah', 'brutal', 'bs', 'btp', 'bu', 'buah', 'buahahahhaha', 'buang', 'buanyak', 'buat', 'buatin', 'bubarkanfpi', 'bubur', 'bui', 'buka', 'bukan', 'bukti', 'bulan', 'bullshit', 'bully', 'bulog', 'bumerang', 'bunga', 'bungaahok', 'bungapak', 'bungauntukahok', 'bungkus', 'buniyani', 'bur', 'buru', 'buruh', 'buruk', 'busuk', 'buta', 'butuh', 'buzzer', 'by', 'c', 'cabut', 'cacat', 'caci', 'cagub', 'cagubnyinyir', 'cair', 'cakeeeppppbersatunya', 'calgub', 'calo', 'calon', 'campaign', 'cang', 'cangharis', 'cantik', 'capai', 'cape', 'capek', 'caper', 'cara', 'cari', 'carik', 'catat', 'catut', 'cc', 'cegah', 'cek', 'cemas', 'cenderung', 'cengkareng', 'cepat', 'cerah', 'ceramah', 'cerdas', 'cerita', 'cermat', 'cermin', 'cfd', 'chajanjr', 'chant', 'chillipari', 'china', 'chris', 'cianjur', 'cicil', 'ciduk', 'cikini', 'cina', 'cinta', 'cipali', 'ciri', 'citra', 'clapping', 'closed', 'coach', 'coba', 'coblos', 'coblosnomor', 'coblospecinya', 'cocok', 'code', 'cold', 'coldplay', 'colek', 'colok', 'concert', 'contoh', 'copy', 'corbuzier', 'count', 'counter', 'countttp', 'cover', 'cuaca', 'cuih', 'cuit', 'cukup', 'cukur', 'cuma', 'cundang', 'curang', 'curiga', 'da', 'dacademy', 'dacademyid', 'dada', 'dadak', 'daerah', 'daftar', 'dagang', 'dah', 'dahagusyudhoyono', 'dahsyat', 'dahulu', 'dakwa', 'dalang', 'damai', 'dammnn', 'dampak', 'dan', 'dana', 'dapat', 'dar', 'darah', 'dari', 'das', 'dasar', 'datang', 'debat', 'debatfinalpilgubdki', 'debatfinalpilkadadki', 'debatfinalpilkadajkt', 'debatpilkadadki', 'deddy', 'degan', 'deh', 'dek', 'deket', 'deklarasi', 'deklarasippp', 'demam', 'demiahok', 'demo', 'demokrasi', 'demokrat', 'demokratbersamarakyat', 'demokratkelilingnusantara', 'dendam', 'dengar', 'depan', 'depok', 'deteksi', 'detikcom', 'dewasa', 'dg', 'dhe', 'dhuafa', 'dia', 'diam', 'dibagibagikan', 'dicounter', 'didienazhar', 'didik', 'didiklpambudi', 'digital', 'dihimbau', 'dik', 'dikarangkarang', 'dikarbit', 'dilanjuntukan', 'dimatiin', 'dimetrotivi', 'dinamika', 'dinamis', 'dinantinantikan', 'dinas', 'dini', 'diomongin', 'diplomasi', 'direbuntukan', 'diri', 'diridhai', 'diriikut', 'diriwkkwwkkwk', 'dishare', 'diskusipolitikbola', 'disosmed', 'disurvey', 'ditengahyang', 'djagain', 'djarod', 'djarot', 'djarotsupportpersija', 'djarottahu', 'dki', 'dkijakarta', 'dkimakanya', 'dlu', 'dng', 'doa', 'doain', 'doang', 'dominasi', 'dompak', 'dong', 'dosen', 'double', 'down', 'downmatanajwa', 'doyan', 'dp', 'dpn', 'dpnol', 'dpr', 'dprd', 'dpt', 'dragon', 'dream', 'dri', 'dtg', 'dua', 'duajari', 'dudah', 'duduk', 'duh', 'duit', 'dukung', 'dulu', 'duluan', 'dunia', 'duren', 'duri', 'dusta', 'edhiebaskoro', 'edhiewibowo', 'education', 'efek', 'efeknontonmetro', 'eh', 'ekstrimis', 'ektp', 'election', 'elektabilitas', 'elektabilitasnya', 'elit', 'emang', 'emas', 'embah', 'emban', 'ember', 'emis', 'emosianahy', 'enak', 'enam', 'ente', 'enthus', 'entrepreneurship', 'era', 'erat', 'esok', 'etika', 'etnis', 'exitpoll', 'expresinya', 'eye', 'eyes', 'face', 'fadlizon', 'fahiraidris', 'fahri', 'fahrihamzah', 'fakta', 'faktor', 'fals', 'fans', 'fariz', 'farmer', 'fasisme', 'favorit', 'feeling', 'fenomena', 'figur', 'final', 'firzahots', 'fist', 'fitnah', 'fitsahats', 'fkppi', 'floor', 'fokus', 'folded', 'foodhero', 'for', 'forri', 'forumkaskus', 'foto', 'fpi', 'freak', 'freeahok', 'freely', 'from', 'frontal', 'frowning', 'ga', 'gabung', 'gading', 'gaduh', 'gagal', 'gagalfokus', 'gagalmoveone', 'gagas', 'gaji', 'gak', 'galakgalak', 'galau', 'galon', 'gambir', 'gampangmsp', 'ganggu', 'gangster', 'ganja', 'ganjal', 'ganti', 'gantung', 'gara', 'garagara', 'garagarapilkada', 'garansi', 'garis', 'garuda', 'garudaindonesia', 'gatotgagal', 'gaya', 'gbu', 'gelap', 'gelar', 'geli', 'gelintir', 'gema', 'gembira', 'gembok', 'gembos', 'gencar', 'gentle', 'gera', 'gerak', 'gerilyapolitik', 'gerindra', 'gerombol', 'getar', 'giat', 'gih', 'gila', 'gilitrawangan', 'gimana', 'gin', 'gitu', 'global', 'gmana', 'goal', 'goblok', 'golput', 'gombalinahok', 'good', 'goreng', 'governance', 'government', 'gpp', 'gratis', 'great', 'grining', 'gub', 'gubdki', 'gubenur', 'gubenurgur', 'guberner', 'gubernur', 'gubernurbaru', 'gubernurbarudkijakarta', 'gubernurdki', 'gubernurdkijakarta', 'gubernurgu', 'gubernurjakarta', 'gubernurkuaniesbaswedan', 'gubernurmuslim', 'gubernurpilihan', 'gubetnur', 'gubwagub', 'gue', 'gueahok', 'guecintankri', 'guegeram', 'gulir', 'gultik', 'guna', 'gunawan', 'gunawanahokers', 'gunjkt', 'gunromli', 'guru', 'gusahy', 'gusur', 'gw', 'gwr', 'gym', 'h', 'habib', 'habibrizieqfpi', 'habiburokhman', 'habis', 'habishabisan', 'hadir', 'hafalanbadja', 'hah', 'haha', 'hahaa', 'hahah', 'hahaha', 'hahahahahaha', 'hahakerja', 'haji', 'hajidjarot', 'hak', 'hal', 'hallo', 'hampir', 'hancur', 'hand', 'hands', 'hangat', 'hantu', 'hanya', 'hapus', 'hapusin', 'haram', 'harap', 'harga', 'hari', 'harimurti', 'haris', 'harisantrinasional', 'hariswijaya', 'harry', 'harum', 'harus', 'harytanoe', 'hashemmelech', 'hasil', 'hasilc', 'hasyim', 'hati', 'hayoo', 'hdapkan', 'headlines', 'hearteyes', 'hebat', 'heboh', 'heeebohhhhagus', 'heli', 'hellloooo', 'helm', 'heran', 'heyyang', 'hhahahaa', 'hhmm', 'hias', 'hibur', 'hidayat', 'hidup', 'high', 'hikmah', 'hilang', 'hildathawilla', 'hina', 'hincapandjaitan', 'hindar', 'hingga', 'hinggahy', 'hiruk', 'hitam', 'hitamatau', 'hitdx', 'hitung', 'hitz', 'hmmm', 'hmmmm', 'hoaks', 'hoax', 'hoaxerkepanasan', 'hoaxerpanik', 'horisontal', 'hormat', 'horns', 'hotel', 'hrs', 'ht', 'hugging', 'huhuhu', 'hujan', 'hujat', 'hukum', 'hukumyangtelahmati', 'humas', 'ibadah', 'iblis', 'ibu', 'icesardhono', 'ide', 'ideal', 'ih', 'ika', 'ikan', 'ikhlas', 'ikhtiar', 'iklan', 'ikut', 'il', 'ilaaqwamithoriq', 'ilc', 'ilcmerajutjakartakembali', 'ilctvonenews', 'imingiming', 'improvisasi', 'indah', 'indoharian', 'indonesa', 'indonesia', 'indonesiaberkabung', 'indonesiabersih', 'indonesiafilipina', 'indonesiahebat', 'indonesiaraya', 'indonesiasatu', 'indosiarid', 'info', 'ingat', 'inget', 'inggris', 'ingin', 'ingkar', 'ingus', 'ini', 'initerjadi', 'injak', 'insha', 'inspirasi', 'instagram', 'insya', 'insyaallah', 'insyaalloh', 'integrasi', 'integritas', 'intelijen', 'inti', 'intim', 'introspeksi', 'invisible', 'invoice', 'iqra', 'ira', 'iri', 'iring', 'is', 'isari', 'isi', 'isis', 'islah', 'islam', 'islami', 'islamisme', 'islamist', 'islamrahmatanlilalamin', 'issu', 'issue', 'istiqlal', 'istiqomah', 'istirahat', 'istri', 'isu', 'isue', 'isusara', 'isyarat', 'itu', 'itung', 'iwak', 'iwan', 'iya', 'jabar', 'jabat', 'jadi', 'jaga', 'jago', 'jahat', 'jaja', 'jajah', 'jakarta', 'jakartaadalahkita', 'jakartaahokdjarot', 'jakartaberaswaja', 'jakartabersuriah', 'jakartabersyariah', 'jakartacoblos', 'jakartaelection', 'jakartagubernurbaru', 'jakartakece', 'jakartakerja', 'jakartaku', 'jakartamakin', 'jakartamemilih', 'jakartamemilihjawara', 'jakartapunyasemua', 'jakartatimur', 'jakartauntukrakyat', 'jakartauntuksemua', 'jaktim', 'jalan', 'jalar', 'jam', 'jaman', 'jambi', 'jamin', 'jangan', 'janganhipokrit', 'jangansalahpilih', 'jangansombong', 'jangantakutpilih', 'janji', 'janjikampanye', 'januari', 'jari', 'jaring', 'jarot', 'jatim', 'jatuh', 'jauh', 'jawab', 'jayakarta', 'jd', 'jeblos', 'jeda', 'jek', 'jelang', 'jelas', 'jelekin', 'jenak', 'jenazah', 'jerih', 'jernih', 'jeruji', 'jgn', 'jijik', 'jilat', 'jiplak', 'jiwa', 'jka', 'jkt', 'jktmajubersama', 'jleb', 'jogja', 'joke', 'jokowi', 'jokowiahokjkt', 'jorok', 'jpnncom', 'jpu', 'jt', 'jual', 'juang', 'judi', 'jujur', 'jumat', 'jumatbarokah', 'jumatberkah', 'jumlah', 'jungkal', 'justice', 'justru', 'justsaying', 'juta', 'kab', 'kabinet', 'kabung', 'kabur', 'kacang', 'kadang', 'kader', 'kafir', 'kafirrrrrr', 'kafirun', 'kaga', 'kagak', 'kagum', 'kaji', 'kak', 'kakak', 'kaku', 'kalah', 'kalahkami', 'kalahpilkada', 'kalau', 'kaleee', 'kali', 'kalian', 'kalijodo', 'kalimatkalimat', 'kalo', 'kamaru', 'kambiang', 'kami', 'kamis', 'kampanye', 'kampanyeahokjahat', 'kampanyeahy', 'kamu', 'kamvreetttt', 'kan', 'kancah', 'kandang', 'kandidat', 'kandung', 'kangdede', 'kangen', 'kangkang', 'kantor', 'kaos', 'kapan', 'kapir', 'karakter', 'karakternyaaiman', 'karang', 'karanganbunga', 'karanganbungaahok', 'karena', 'karir', 'karma', 'karna', 'kartu', 'karunia', 'karwo', 'kasar', 'kasi', 'kasih', 'kasihan', 'kaskus', 'kaskustv', 'kasus', 'kata', 'kataahok', 'katabijak', 'katakata', 'katakitaig', 'kati', 'kau', 'kaum', 'kawal', 'kawalccoblosno', 'kawalpilkada', 'kawin', 'kaya', 'kayak', 'kayu', 'kbayang', 'ke', 'kebagusanpala', 'kebayoran', 'kebhinekaan', 'kebhinnekaan', 'kebon', 'kecebong', 'kecewa', 'kecikampek', 'kecil', 'kecoh', 'kecubung', 'keistiqomahan', 'kejaksaanri', 'kejut', 'kekalahanpernyataan', 'kekuasaannyaakan', 'kelamin', 'kelapa', 'kelapagading', 'kelas', 'kelici', 'keliling', 'kelola', 'kelompok', 'keluar', 'keluarga', 'keluargakami', 'kemaren', 'kemari', 'kemarin', 'kembali', 'kembang', 'kemendagriri', 'kemrin', 'kemudian', 'kena', 'kenal', 'kenang', 'kenape', 'kendali', 'kenti', 'kepala', 'kepri', 'kerap', 'keras', 'kerasitu', 'keren', 'keri', 'kering', 'kerja', 'kerjangobrol', 'kertas', 'kes', 'kesatria', 'ketar', 'ketemu', 'ketua', 'kh', 'khabarnya', 'khilaf', 'khilafah', 'khusus', 'kicau', 'kimjongnam', 'kini', 'kipas', 'kira', 'kiri', 'kirim', 'kisah', 'kiss', 'kitankri', 'kite', 'kjl', 'kjp', 'kkpgoid', 'kl', 'klakuan', 'klikwarga', 'klimaks', 'kloning', 'klop', 'klu', 'knapa', 'knp', 'ko', 'koalisi', 'koar', 'kocak', 'kode', 'kok', 'kokgombalinahok', 'komando', 'komen', 'komentar', 'komitmen', 'komitment', 'kompak', 'kompas', 'kompastv', 'komplek', 'kondisi', 'konferensi', 'konfirmasi', 'konseptual', 'konsisten', 'konstituen', 'konsultasi', 'kontestasi', 'kontra', 'kontrak', 'kontraproduktif', 'kontribusi', 'kopdar', 'koplak', 'korban', 'korupkinerja', 'korupsi', 'koruptor', 'kosambi', 'kosong', 'kota', 'kotak', 'kotor', 'kp', 'kpada', 'kpd', 'kpkri', 'kpu', 'kpud', 'kpudki', 'kpudkijakarta', 'kpuri', 'kreator', 'kristen', 'kritik', 'kritisi', 'kronologi', 'ksatria', 'kspgoid', 'ku', 'kualitas', 'kuasa', 'kuat', 'kubu', 'kuda', 'kuliah', 'kulon', 'kunci', 'kuoata', 'kuota', 'kurang', 'kurangpenting', 'kursi', 'kusir', 'kusno', 'kusut', 'kutu', 'kw', 'kwalitas', 'kyai', 'kyknya', 'lagi', 'lagimulai', 'lagipilkada', 'lagitinggal', 'lagu', 'lah', 'lain', 'laksana', 'laku', 'lalu', 'lama', 'lambang', 'lampau', 'lampost', 'lancar', 'landa', 'langgar', 'langkah', 'langsung', 'lanjur', 'lanjut', 'lansia', 'lantik', 'lantun', 'lapang', 'larang', 'larasati', 'lari', 'laskar', 'latih', 'laughing', 'lawa', 'lawan', 'lawansekulerradikal', 'lawinforcement', 'layan', 'lebay', 'lebih', 'lebur', 'leceh', 'legowo', 'lejit', 'lelah', 'lembaga', 'lembar', 'lempar', 'lemper', 'lengkap', 'lepas', 'lewat', 'lha', 'lho', 'lholho', 'liat', 'licik', 'lihat', 'lihatin', 'lilin', 'lilinuntukahok', 'lima', 'lindung', 'lingkar', 'lingkung', 'lini', 'lintangchrezl', 'liputandotcom', 'litbang', 'live', 'loe', 'logika', 'loh', 'lol', 'lombok', 'lompat', 'loncat', 'longredcarpet', 'longredcarpetahokdjarot', 'lontar', 'lorot', 'lovered', 'lovers', 'loyal', 'loyalis', 'loyo', 'lsi', 'lsm', 'lu', 'luar', 'luas', 'lucu', 'luka', 'lukis', 'lulung', 'lumayan', 'lupa', 'lurah', 'luviku', 'lying', 'm', 'maaf', 'maapnyampah', 'mabok', 'mabuk', 'macammacam', 'macem', 'macet', 'macetmacet', 'mah', 'mahasiswa', 'main', 'maju', 'majubersama', 'majukotanyabahagiawarganya', 'majupilkadadki', 'makan', 'makanya', 'maki', 'makin', 'makna', 'maksa', 'maksud', 'malah', 'malaka', 'malam', 'males', 'malioboro', 'mall', 'malu', 'mampang', 'mampu', 'mana', 'manado', 'manadokota', 'mancarli', 'mandi', 'manfaat', 'manggung', 'mangkrak', 'manies', 'manis', 'manismanis', 'mansyur', 'mantan', 'mantanterindah', 'mantavvv', 'manual', 'manusia', 'manuver', 'marah', 'marasa', 'mari', 'marissaanita', 'maritim', 'mart', 'martabat', 'martin', 'mas', 'masa', 'masadepanbangsa', 'masalah', 'masang', 'masjid', 'masjiduntuksemua', 'maslahat', 'maspiyuuu', 'masrilpku', 'massa', 'masuk', 'masyarakat', 'masyarakatnyatanpa', 'mat', 'mata', 'matanajwa', 'matanajwadebatjakarta', 'matang', 'matarakyat', 'mataram', 'materi', 'mati', 'mau', 'may', 'mayanlah', 'mayday', 'mayor', 'mayoritas', 'mbak', 'medan', 'media', 'medsos', 'mei', 'meja', 'mekanisme', 'melanjuntukan', 'melempem', 'melintir', 'memang', 'membludakkrn', 'membranding', 'meme', 'memo', 'mempan', 'menang', 'menangin', 'mencaripemimpin', 'mendharma', 'mendikbud', 'mending', 'mendzolimi', 'mengalahkn', 'menghalanghalangi', 'menghisap', 'menginspiras', 'menit', 'menolaklupa', 'mentah', 'mental', 'mentang', 'menteng', 'menteri', 'mentor', 'merahputih', 'merajutjakartakembali', 'merauke', 'merdeka', 'merealisir', 'mereka', 'merhatiin', 'merosot', 'mesin', 'meski', 'mesra', 'mesti', 'metamorfosis', 'metrotv', 'mikir', 'miladpks', 'milih', 'milik', 'military', 'milu', 'milyar', 'milyarrw', 'mimpi', 'mimpin', 'min', 'minimal', 'minta', 'minum', 'mio', 'miras', 'miring', 'mirip', 'miris', 'misal', 'misi', 'miskin', 'mobil', 'modal', 'model', 'moderat', 'moga', 'mohon', 'momen', 'monalisa', 'monas', 'mondok', 'monethamrin', 'moneypolitic', 'moshing', 'mosing', 'motif', 'motivasi', 'motivator', 'motivatorindonesia', 'moto', 'mouth', 'move', 'mpo', 'mpok', 'mti', 'mu', 'muas', 'muda', 'mudah', 'mudahmudahan', 'mui', 'muka', 'muktamar', 'mula', 'mulai', 'mules', 'mulia', 'mulu', 'mulut', 'mumpung', 'munafik', 'muncul', 'mundur', 'mungkin', 'murah', 'muri', 'murtadhaone', 'museum', 'muslim', 'muslimlawanrasis', 'muslimvotemuslim', 'musolah', 'musuh', 'muter', 'mutu', 'myjob', 'n', 'nafsu', 'nagih', 'nahdlatuloelama', 'nahdliyin', 'naik', 'najwa', 'nalar', 'nama', 'nampaknya', 'nang', 'nangisgak', 'nantangin', 'nanti', 'nashidik', 'nasi', 'nasib', 'nasional', 'nasionalisme', 'nazis', 'ndoroputri', 'negara', 'negarawan', 'negatif', 'negeri', 'nehh', 'nelayan', 'nenek', 'nenen', 'neng', 'net', 'netizen', 'netizenmakin', 'netizentofa', 'netral', 'news', 'ngakak', 'ngakunya', 'ngambang', 'nganan', 'ngaruh', 'ngawal', 'ngawur', 'ngayal', 'ngebor', 'ngebully', 'ngecap', 'ngelawan', 'ngeles', 'ngemis', 'ngerasa', 'ngerti', 'ngga', 'nginulpun', 'ngiri', 'nglamar', 'ngomong', 'ngomongnya', 'ngopi', 'ngopisore', 'ngorbanin', 'ngumpulin', 'ni', 'nih', 'nihil', 'nikmat', 'nilai', 'ninggalin', 'nista', 'nkri', 'no', 'nojangan', 'nol', 'nomor', 'non', 'nongkrong', 'nongol', 'nonmuslim', 'nonton', 'norman', 'nose', 'novel', 'ntb', 'ntt', 'nu', 'nuduh', 'nunggu', 'nunjuk', 'nuntut', 'nuonline', 'nurani', 'nusantara', 'nya', 'nyalon', 'nyaman', 'nyambung', 'nyampah', 'nyanyi', 'nyanyianuntukahok', 'nyasar', 'nyata', 'nyatahasil', 'nyesal', 'nyesel', 'nyinyir', 'nyoblos', 'nyungsep', 'nyuruh', 'objektif', 'oce', 'of', 'officialpan', 'ogah', 'ohh', 'ojkindonesia', 'ok', 'oke', 'okee', 'okengoceh', 'okeoce', 'okeoke', 'okezonenews', 'okoce', 'oktober', 'olah', 'olahraga', 'om', 'omgombalinahok', 'omong', 'on', 'oncoming', 'onnyah', 'open', 'opini', 'oposisi', 'optimis', 'or', 'orang', 'orangjakarta', 'orangkokbisanyinyirbgt', 'orangorang', 'orangtetapi', 'orangtua', 'orde', 'order', 'organda', 'ormas', 'ornamen', 'otak', 'otomatis', 'ottsembakoahok', 'owalah', 'pa', 'pada', 'padahal', 'padu', 'pagi', 'paham', 'pahlawan', 'pak', 'pakahok', 'pakai', 'pakar', 'pakdhe', 'pake', 'paket', 'paksa', 'paling', 'palsu', 'pan', 'panbekerja', 'panca', 'pancasila', 'pancasilais', 'pandai', 'panggang', 'panggung', 'pangkat', 'panik', 'panitia', 'panjang', 'panjangkesuksesan', 'pansus', 'pantas', 'pantasdipecat', 'pantau', 'pantes', 'pantisilaban', 'papan', 'papua', 'paradenyanyianuntukahok', 'parah', 'paris', 'parpol', 'partai', 'partaidemokrat', 'partaisocm', 'partaisocmed', 'pas', 'pasal', 'pasang', 'pasar', 'pasca', 'paska', 'paslon', 'pasrah', 'pasti', 'pastiiii', 'pastikanbesokdua', 'pasu', 'pasword', 'pathdaily', 'patut', 'paut', 'payah', 'payudarasusu', 'payung', 'pd', 'pdemokrat', 'pdhal', 'pdi', 'pdip', 'peach', 'pecah', 'pecat', 'peci', 'peduli', 'pegawai', 'peka', 'pela', 'pelan', 'peluk', 'peluru', 'pemenangdihatirakyat', 'pemerintahterimakasih', 'pemkot', 'pempmpinnya', 'pemprov', 'pemprovamanah', 'pencoblosanfotonya', 'pengaruh', 'penikmatkopi', 'penjara', 'penjarakanahok', 'pensiun', 'pensiundini', 'penting', 'pentol', 'penuh', 'pepo', 'per', 'peran', 'perang', 'perbtasan', 'percaya', 'perempuan', 'perhati', 'perintah', 'periode', 'perlu', 'pernah', 'pers', 'persen', 'persija', 'persis', 'person', 'perspektif', 'pertama', 'pertempuranakhirjawarajkt', 'pesan', 'pesanbijak', 'pesona', 'pesta', 'peta', 'petisi', 'phenomenon', 'picik', 'pidato', 'pihak', 'pikir', 'pikuk', 'pilakada', 'pilgub', 'pilgubdki', 'pilgubjkt', 'pilih', 'pilihahok', 'pilihaniessandi', 'pilihanmumasadepanmu', 'pilihbadja', 'pilihpemimpinmuslim', 'pilka', 'pilkada', 'pilkadad', 'pilkadadk', 'pilkadadki', 'pilkadadkijakarta', 'pilkadadkiternyata', 'pilkadajakarta', 'pilkadajakartaaman', 'pilkadapileg', 'pilkadapret', 'pilkadaputarankedua', 'pilkadarasapilpres', 'pilkadaserentak', 'pilkadatiap', 'pilkades', 'pilpres', 'pimpin', 'pindah', 'pingin', 'pingsan', 'pintar', 'pinter', 'piss', 'pitenahgue', 'pkb', 'pks', 'pksejahtera', 'pkslampung', 'plintirlihat', 'pluit', 'pluralis', 'pluralisme', 'pm', 'pmbenaranjangan', 'pmilih', 'pndukung', 'pohan', 'pola', 'polda', 'polemikpaluhakim', 'polisi', 'politik', 'politikbirokrasi', 'politikkotor', 'politikpalsu', 'politiksembako', 'politikuangahy', 'politisasi', 'polling', 'populerb', 'portal', 'positif', 'posko', 'postingan', 'potensi', 'potong', 'prabowo', 'prabowosubianto', 'prajurit', 'prananda', 'precariat', 'presiden', 'presidensby', 'pribadi', 'pribumi', 'prihatin', 'prilaku', 'primitif', 'prinsip', 'pro', 'produksi', 'produktif', 'program', 'programaniessandi', 'programkerja', 'proklamasi', 'proses', 'prostitusi', 'protes', 'provinsi', 'provokasi', 'provokatif', 'provokator', 'proyek', 'psikologis', 'pttransjakarta', 'puataran', 'puisi', 'puji', 'pukul', 'pula', 'pulang', 'pulsa', 'punggung', 'punya', 'pupus', 'purnama', 'purnamadjarot', 'pusat', 'pusatkemayoran', 'pusing', 'putar', 'putaranke', 'putaranmenang', 'putih', 'putri', 'putus', 'putuslantas', 'qc', 'qeren', 'quick', 'quickcount', 'r', 'rachland', 'radicals', 'radikal', 'radikalisme', 'raga', 'rahmat', 'raih', 'rais', 'raising', 'rajut', 'rakernas', 'rakernasdemokrat', 'rakyat', 'ramai', 'ramal', 'rambut', 'rame', 'ranabaja', 'rang', 'rangkul', 'rapat', 'rapi', 'rapih', 'rapuh', 'ras', 'rasa', 'rasulullah', 'ratnaspaet', 'raut', 'rawan', 'raya', 'reaksi', 'realisasi', 'realitybites', 'rebut', 'record', 'redkarpet', 'refurbish', 'regenerasi', 'rehat', 'rejeki', 'rekan', 'rekapituasi', 'rekapitulasi', 'reklamasi', 'rekonsiliasi', 'rela', 'rem', 'remuk', 'rencana', 'rendah', 'rengek', 'rentang', 'republik', 'republikaonline', 'resmi', 'respon', 'retorika', 'rezim', 'ri', 'riang', 'ribet', 'ribu', 'ridhoi', 'ridwankamil', 'rindu', 'ringan', 'rinjanijb', 'rip', 'riphukum', 'ripjustice', 'ripjusticeindonesia', 'ripjusticeinindonesia', 'risau', 'risih', 'rizieq', 'rizieqpulang', 'rmh', 'robbal', 'robbin', 'robot', 'rock', 'roket', 'rolling', 'rompiskasmaran', 'ronavioleta', 'ronde', 'roryasyari', 'rosiannahi', 'rp', 'rspun', 'rt', 'ruang', 'rugi', 'ruhutsitompul', 'ruji', 'rukun', 'rumah', 'rumit', 'rumput', 'running', 'rupa', 'rupiah', 'rusak', 'rusun', 'rw', 'saat', 'sabang', 'sabar', 'sabtu', 'sabun', 'sadar', 'sahabat', 'sahalas', 'saham', 'sahsah', 'said', 'saiful', 'saing', 'saja', 'sakit', 'saksi', 'salah', 'salam', 'salambersama', 'salamduajari', 'salamjari', 'saldo', 'sali', 'salimafillah', 'saling', 'salut', 'sama', 'sambut', 'sambutgubernurbaru', 'sampai', 'sampe', 'samurai', 'sana', 'sandi', 'sandiaga', 'sandiagauno', 'sandiapa', 'sandiuno', 'sandiunocabul', 'sandiwara', 'sang', 'sangat', 'sangkut', 'sangpemburu', 'sanjung', 'santri', 'santun', 'sapa', 'sara', 'saran', 'sarana', 'sarung', 'sasar', 'satu', 'saudara', 'saveahok', 'savedp', 'savejakarta', 'savenkri', 'saw', 'saya', 'sayang', 'sbaliknya', 'sbg', 'sby', 'sbycuitan', 'sbyudhoyono', 'sdh', 'sebar', 'sebentar', 'sebut', 'sedang', 'sedekah', 'sederhana', 'sedih', 'sedikit', 'sedikitapa', 'sedot', 'segala', 'segan', 'segera', 'sehat', 'sejahtera', 'sejak', 'sejarah', 'sejati', 'sejuk', 'sek', 'sekali', 'sekaligus', 'sekarang', 'sekjenpartaidemokrathincapandjaitan', 'selalu', 'selamat', 'selamatharisembako', 'selamatpagi', 'selang', 'selat', 'selatan', 'seleksi', 'selenakoe', 'selesai', 'selfie', 'selfienya', 'selidik', 'selisih', 'selubung', 'seluruh', 'semangat', 'semata', 'sembako', 'sembakonya', 'sembunyi', 'sementara', 'semogaamanah', 'sempat', 'semprot', 'semua', 'senang', 'senator', 'senatordkidukungagussylvi', 'sendiri', 'sengaja', 'sengsarain', 'senjata', 'sentimen', 'senyum', 'seorg', 'sepakat', 'sepenuh', 'seperti', 'sepi', 'seragam', 'serah', 'serang', 'serbu', 'serentak', 'sergap', 'seringkali', 'serta', 'seru', 'sesal', 'sesuai', 'setan', 'setia', 'settingan', 'setujuin', 'shalawat', 'sholat', 'si', 'sia', 'siang', 'siantar', 'siap', 'siapa', 'siapkalah', 'siapsiap', 'siar', 'siasia', 'sibuk', 'sidoarjo', 'sign', 'signifikan', 'sih', 'siiiip', 'sikap', 'silake', 'silaturahmi', 'silvi', 'silvy', 'simpati', 'simpatik', 'simpel', 'simpul', 'simulut', 'sinar', 'sindir', 'singkir', 'sini', 'sinyal', 'sisi', 'sistem', 'sittayohag', 'situ', 'situasi', 'situs', 'sjpkb', 'skali', 'skenario', 'skeptis', 'skg', 'skrang', 'slightly', 'sma', 'smile', 'smiling', 'sms', 'smua', 'soal', 'soang', 'sodet', 'sogok', 'sohibahy', 'sok', 'solat', 'solusi', 'sombong', 'songsong', 'soooo', 'sopir', 'sosial', 'sosialisasi', 'sosok', 'spanduk', 'speaknoevil', 'sporty', 'spt', 'stadion', 'steam', 'stelah', 'stickmoticons', 'stiker', 'stok', 'stop', 'stoppolitisasibhinneka', 'storyofthestreet', 'strategi', 'streaming', 'stres', 'stress', 'stuckout', 'suami', 'suap', 'suara', 'suarakankebenaran', 'suarart', 'suatu', 'subhanallah', 'subianto', 'subsidi', 'subyektif', 'sudah', 'suduntukan', 'sugeng', 'sujud', 'suka', 'sukses', 'suku', 'sulit', 'sultra', 'sumarmo', 'sumur', 'sunan', 'sungguh', 'super', 'surat', 'suratrakyat', 'surga', 'suruh', 'survei', 'survey', 'surveyharusnya', 'surveynya', 'susah', 'susun', 'susup', 'sutradara', 'sweat', 'swt', 'syahrirlantoni', 'syariah', 'sylvi', 'sylvianamurni', 'syuhadatps', 'syukur', 'syukurahokdjarot', 't', 'tabir', 'tabur', 'tadi', 'tagih', 'tahan', 'tahap', 'tahu', 'tahun', 'tai', 'tajam', 'tajir', 'tak', 'takbir', 'takdir', 'takjub', 'takut', 'takviri', 'talaud', 'talkshow', 'taman', 'tamat', 'tambah', 'tampak', 'tampil', 'tanah', 'tanda', 'tandatangan', 'tandatangani', 'tanding', 'tangan', 'tanggal', 'tanggap', 'tangguh', 'tanggung', 'tangis', 'tanjak', 'tanoe', 'tantang', 'tanya', 'tanyakenapa', 'target', 'tarik', 'taring', 'taruna', 'tata', 'tau', 'taufik', 'tayang', 'team', 'teamahok', 'teamanies', 'tebar', 'teduh', 'tega', 'tegak', 'tegakkankebenaran', 'tegang', 'tegar', 'tegas', 'tegur', 'teknis', 'teladan', 'telak', 'telikung', 'telinga', 'telkomsel', 'telolet', 'telu', 'teman', 'temanahok', 'temanahokfair', 'temanteman', 'temenahok', 'tempat', 'tempe', 'tempelin', 'tempodotco', 'temu', 'tenang', 'tenangkonsentrasiberdoaselalu', 'tendang', 'tendemnya', 'tengah', 'tengik', 'tentu', 'tepat', 'terap', 'terbang', 'terhornat', 'teriakteriak', 'terima', 'terimakasih', 'terimakasihahok', 'terimakasihfpi', 'terimakasihhabib', 'terimakasihpakahok', 'terimakasihulama', 'terindahpilgub', 'terkadang', 'terlalu', 'ternak', 'teroris', 'tersepona', 'tertib', 'terus', 'tetangga', 'tetap', 'tetapahok', 'tetapahokdjarot', 'tetapahy', 'tetapsemangat', 'tetep', 'tgl', 'th', 'the', 'thinking', 'thn', 'thumbs', 'tiada', 'tiap', 'tiba', 'tidak', 'tidakada', 'tidur', 'tiga', 'tiket', 'tikotumbangkantoke', 'tikung', 'tikus', 'tim', 'timeline', 'timpa', 'timpang', 'timses', 'tindak', 'tinggal', 'tinggi', 'tingkat', 'tipis', 'tipu', 'tir', 'tiru', 'titik', 'titip', 'tjahaja', 'tk', 'tko', 'tks', 'tlah', 'tlh', 'tmpat', 'tni', 'toba', 'tohh', 'tokoh', 'tol', 'tolak', 'tolakjakartabersyariah', 'tolakreklamasi', 'toleran', 'tompi', 'tongue', 'topik', 'totalpilkadadki', 'totorqq', 'tounges', 'tp', 'tps', 'tpsgambir', 'track', 'trainer', 'transisi', 'transportasi', 'trending', 'tri', 'tribunmedan', 'trima', 'trimakasih', 'triple', 'trus', 'tua', 'tuai', 'tuan', 'tubir', 'tuding', 'tuduh', 'tugas', 'tugu', 'tuh', 'tuhan', 'tuhanbakal', 'tuit', 'tuju', 'tujukkan', 'tuk', 'tukang', 'tukar', 'tulen', 'tulis', 'tulisanya', 'tulus', 'tumbang', 'tunda', 'tunggal', 'tunggu', 'tunjuk', 'tuntun', 'tuntut', 'turun', 'turut', 'tutup', 'tv', 'tvone', 'tweet', 'twit', 'twitter', 'u', 'uang', 'uangsembako', 'ubah', 'ubahjakarta', 'ucap', 'udah', 'uji', 'ujung', 'ujungujungnya', 'ukur', 'ulama', 'ulang', 'ulinyusron', 'umat', 'umatternyata', 'umkm', 'ummat', 'umrah', 'umroh', 'umum', 'undang', 'unggul', 'ungkap', 'unik', 'unit', 'uno', 'unoserurame', 'untuk', 'untung', 'up', 'upaya', 'urbaningrum', 'urus', 'usah', 'usaha', 'usai', 'usia', 'usir', 'ust', 'ustad', 'usul', 'usung', 'utak', 'utan', 'utik', 'utk', 'utus', 'uu', 'versi', 'via', 'video', 'viral', 'virallbocah', 'visi', 'visuallyyours', 'vivarevolusi', 'vocalis', 'voltage', 'vote', 'voteahok', 'voter', 'vs', 'waaaah', 'waaah', 'wacana', 'waduh', 'wagub', 'wagubdki', 'wah', 'wahabi', 'wahai', 'wahdiam', 'wahhabicc', 'wajah', 'wajib', 'wakil', 'wakiltimses', 'waktu', 'walaupun', 'wallahulmuwafiq', 'walupun', 'wangi', 'wanita', 'waras', 'warga', 'warganyabasukibtp', 'warganyanamun', 'wargapluit', 'wartamui', 'wartawan', 'wasekjen', 'waspada', 'wawancara', 'weedbegoodtogether', 'welcome', 'wiiih', 'wilayah', 'wingstourinjakarta', 'wirausaha', 'wisata', 'wisdom', 'with', 'wkwkwk', 'wkwkwkface', 'wkwkwkwk', 'wkwkwkwkkwkk', 'wpap', 'wujud', 'x', 'y', 'ya', 'yaa', 'yaaa', 'yaaaa', 'yaalap', 'yah', 'yahudi', 'yak', 'yakin', 'yang', 'yangbikinberantem', 'yasaveahok', 'ye', 'yeedan', 'yep', 'yes', 'yg', 'yme', 'ynwa', 'yogia', 'youtube', 'youtubebxrzdua', 'yra', 'yudhoyono', 'yuk', 'yusuf', 'zalim', 'zarazettirazr', 'zarazettirazz', 'zippermouth', 'zona', '✌', '✔', '🌟', '🏆', '🐽', '👅', '💔', '💘', '💣', '🔥', '😂', '😊', '😋', '😎', '😑', '😓', '😕', '😚', '😞', '😠', '😡', '😣', '😩', '😬', '😮', '😱', '😶', '😹', '🙈']\n"
          ],
          "name": "stdout"
        }
      ]
    },
    {
      "cell_type": "code",
      "metadata": {
        "colab": {
          "base_uri": "https://localhost:8080/"
        },
        "id": "tK-bIvd5KfF-",
        "outputId": "41a3506a-ecd5-4dc0-e26d-fe1b5a4a79ed"
      },
      "source": [
        "X_train = vectoriser.transform(X_train)\n",
        "X_train"
      ],
      "execution_count": null,
      "outputs": [
        {
          "output_type": "execute_result",
          "data": {
            "text/plain": [
              "<720x2857 sparse matrix of type '<class 'numpy.float64'>'\n",
              "\twith 7699 stored elements in Compressed Sparse Row format>"
            ]
          },
          "metadata": {
            "tags": []
          },
          "execution_count": 40
        }
      ]
    },
    {
      "cell_type": "code",
      "metadata": {
        "id": "wag_pNXgKfGE"
      },
      "source": [
        "X_test  = vectoriser.transform(X_test)\n",
        "X_test\n",
        "\n",
        "\n",
        "\n",
        "scorvar = [\"accuracy\", \"precision\", \"recall\", \"f1\"]\n",
        "# X_train = vectoriser.transform(X)\n",
        "# X_train\n",
        "# y_train = y"
      ],
      "execution_count": null,
      "outputs": []
    },
    {
      "cell_type": "code",
      "metadata": {
        "id": "KpK_tBodcVKY"
      },
      "source": [
        ""
      ],
      "execution_count": null,
      "outputs": []
    },
    {
      "cell_type": "code",
      "metadata": {
        "id": "SfwJSSdFKfGE"
      },
      "source": [
        "def model_Evaluate(model,X_test,y_test):\n",
        "    # Predict values for Test dataset\n",
        "    y_pred = model.predict(X_test)\n",
        "    # Print the evaluation metrics for the dataset.\n",
        "    print(classification_report(y_test, y_pred))\n",
        "    # Compute and plot the Confusion matrix\n",
        "    cf_matrix = confusion_matrix(y_test, y_pred)\n",
        "    # print(cf_matrix)\n",
        "    categories = ['Negative','Positive']\n",
        "    group_names = ['True Neg','False Pos', 'False Neg','True Pos']\n",
        "    group_percentages = ['{0:.4%}'.format(value) for value in cf_matrix.flatten() / np.sum(cf_matrix)]\n",
        "    # print(group_percentages)\n",
        "    labels = [f'{v1} : {v2}' for v1, v2 in zip(group_names,group_percentages)]\n",
        "    labels = np.asarray(labels).reshape(2,2)\n",
        "    sns.heatmap(cf_matrix, annot = labels, cmap = 'Blues',fmt = '',\n",
        "    xticklabels = categories, yticklabels = categories)\n",
        "    plt.xlabel(\"Predicted values\", fontdict = {'size':14}, labelpad = 10)\n",
        "    plt.ylabel(\"Actual values\" , fontdict = {'size':14}, labelpad = 10)\n",
        "    plt.title (\"Confusion Matrix\", fontdict = {'size':18}, pad = 20)"
      ],
      "execution_count": null,
      "outputs": []
    },
    {
      "cell_type": "code",
      "metadata": {
        "colab": {
          "base_uri": "https://localhost:8080/",
          "height": 351
        },
        "id": "8SDNIvVpEDKx",
        "outputId": "ece674ff-71bb-45fb-dc89-2f0116bc5b20"
      },
      "source": [
        "from sklearn.linear_model import PassiveAggressiveClassifier\n",
        "from sklearn.model_selection import cross_val_score\n",
        "\n",
        "PAClass = PassiveAggressiveClassifier(max_iter=1000, tol=1e-3)\n",
        "\n",
        "X_matrix = vectoriser.transform(X)\n",
        "\n",
        "crossvalidation = cross_val_score(PAClass, X_matrix, y, cv=10)\n",
        "acccv = crossvalidation.mean() * 100\n",
        "print(\"CV 10 score rata2 {}\".format(crossvalidation.mean()))\n",
        "\n",
        "crossvalidation = cross_val_score(PAClass, X_matrix, y, cv=10, scoring='precision')\n",
        "presisicv = crossvalidation.mean() * 100\n",
        "print(\"CV 10 score rata2 {}\".format(crossvalidation.mean()))\n",
        "\n",
        "crossvalidation = cross_val_score(PAClass, X_matrix, y, cv=10, scoring='recall')\n",
        "recallcv = crossvalidation.mean() * 100\n",
        "print(\"CV 10 score rata2 {}\".format(crossvalidation.mean()))\n",
        "\n",
        "import matplotlib.pyplot as plt\n",
        "   \n",
        "params = ['Accuracy','Precision','Recall']\n",
        "value_performace = [acccv,presisicv,recallcv]\n",
        "\n",
        "New_Colors = ['green','blue','purple']\n",
        "plt.bar(params, value_performace, color=New_Colors)\n",
        "plt.title('Performance PA-Algorithm CV 10', fontsize=14)\n",
        "plt.xlabel('Parameter Performance', fontsize=14)\n",
        "plt.ylabel('Value %', fontsize=14)\n",
        "plt.grid(True)\n",
        "plt.show()"
      ],
      "execution_count": null,
      "outputs": [
        {
          "output_type": "stream",
          "text": [
            "CV 10 score rata2 0.7111111111111111\n",
            "CV 10 score rata2 0.7133092876591329\n",
            "CV 10 score rata2 0.68\n"
          ],
          "name": "stdout"
        },
        {
          "output_type": "display_data",
          "data": {
            "image/png": "[encoded data removed]",
            "text/plain": [
              "<Figure size 432x288 with 1 Axes>"
            ]
          },
          "metadata": {
            "tags": [],
            "needs_background": "light"
          }
        }
      ]
    },
    {
      "cell_type": "code",
      "metadata": {
        "colab": {
          "base_uri": "https://localhost:8080/",
          "height": 510
        },
        "id": "E5QgEbvUKfGI",
        "outputId": "36bb94b6-7c68-4288-bf33-9b991ef0e90d"
      },
      "source": [
        "from sklearn.linear_model import PassiveAggressiveClassifier\n",
        "\n",
        "X_train, X_test, y_train, y_test = train_test_split(X,y,test_size = 0.2,random_state =42)\n",
        "X_train.shape, X_test.shape, y_train.shape, y_test.shape\n",
        "print(\"Best split ratio 20%, random state 42\")\n",
        "X_train = vectoriser.transform(X_train)\n",
        "X_train\n",
        "# print(X_train[0])\n",
        "X_test = vectoriser.transform(X_test)\n",
        "X_test\n",
        "PAClass = PassiveAggressiveClassifier(max_iter=1000, tol=1e-3)\n",
        "\n",
        "PAClass.fit(X_train, y_train)\n",
        "\n",
        "model_Evaluate(PAClass,X_test,y_test)\n",
        "\n",
        "y_pred5 = PAClass.predict(X_test)\n",
        "print(\"hello\")"
      ],
      "execution_count": null,
      "outputs": [
        {
          "output_type": "stream",
          "text": [
            "Best split ratio 20%, random state 42\n",
            "              precision    recall  f1-score   support\n",
            "\n",
            "           0       0.80      0.77      0.79        86\n",
            "           1       0.80      0.83      0.81        94\n",
            "\n",
            "    accuracy                           0.80       180\n",
            "   macro avg       0.80      0.80      0.80       180\n",
            "weighted avg       0.80      0.80      0.80       180\n",
            "\n",
            "hello\n"
          ],
          "name": "stdout"
        },
        {
          "output_type": "display_data",
          "data": {
            "image/png": "[encoded data removed]",
            "text/plain": [
              "<Figure size 432x288 with 2 Axes>"
            ]
          },
          "metadata": {
            "tags": [],
            "needs_background": "light"
          }
        }
      ]
    },
    {
      "cell_type": "code",
      "metadata": {
        "colab": {
          "base_uri": "https://localhost:8080/",
          "height": 510
        },
        "id": "gM6RmORpKfGM",
        "outputId": "46fb36e1-0a72-4d47-8ef1-becbf229b465"
      },
      "source": [
        "X_train, X_test, y_train, y_test = train_test_split(X,y,test_size = 0.1,random_state =42)\n",
        "X_train.shape, X_test.shape, y_train.shape, y_test.shape\n",
        "print(\"Best split ratio 10%, random state 42\")\n",
        "X_train = vectoriser.transform(X_train)\n",
        "X_train\n",
        "# print(X_train[0])\n",
        "X_test = vectoriser.transform(X_test)\n",
        "X_test\n",
        "PAClass = PassiveAggressiveClassifier(max_iter=1000, tol=1e-3)\n",
        "\n",
        "PAClass.fit(X_train, y_train)\n",
        "\n",
        "model_Evaluate(PAClass,X_test,y_test)\n",
        "\n",
        "y_pred5 = PAClass.predict(X_test)\n",
        "print(\"hello\")"
      ],
      "execution_count": null,
      "outputs": [
        {
          "output_type": "stream",
          "text": [
            "Best split ratio 10%, random state 42\n",
            "              precision    recall  f1-score   support\n",
            "\n",
            "           0       0.79      0.71      0.75        42\n",
            "           1       0.77      0.83      0.80        48\n",
            "\n",
            "    accuracy                           0.78        90\n",
            "   macro avg       0.78      0.77      0.78        90\n",
            "weighted avg       0.78      0.78      0.78        90\n",
            "\n",
            "hello\n"
          ],
          "name": "stdout"
        },
        {
          "output_type": "display_data",
          "data": {
            "image/png": "[encoded data removed]",
            "text/plain": [
              "<Figure size 432x288 with 2 Axes>"
            ]
          },
          "metadata": {
            "tags": [],
            "needs_background": "light"
          }
        }
      ]
    },
    {
      "cell_type": "code",
      "metadata": {
        "colab": {
          "base_uri": "https://localhost:8080/",
          "height": 510
        },
        "id": "PItZN0pEUaa1",
        "outputId": "907fc718-8965-4933-ebb5-a37acce7f23e"
      },
      "source": [
        "X_train, X_test, y_train, y_test = train_test_split(X,y,test_size = 0.2,random_state =42)\n",
        "X_train.shape, X_test.shape, y_train.shape, y_test.shape\n",
        "print(\"Best split ratio 20%, random state 42\")\n",
        "X_train = vectoriser.transform(X_train)\n",
        "X_train\n",
        "# print(X_train[0])\n",
        "X_test = vectoriser.transform(X_test)\n",
        "X_test\n",
        "PAClass = PassiveAggressiveClassifier(max_iter=1000, tol=1e-3)\n",
        "\n",
        "PAClass.fit(X_train, y_train)\n",
        "\n",
        "model_Evaluate(PAClass,X_test,y_test)\n",
        "\n",
        "y_pred5 = PAClass.predict(X_test)\n",
        "print(\"hello\")"
      ],
      "execution_count": null,
      "outputs": [
        {
          "output_type": "stream",
          "text": [
            "Best split ratio 20%, random state 42\n",
            "              precision    recall  f1-score   support\n",
            "\n",
            "           0       0.80      0.78      0.79        86\n",
            "           1       0.80      0.82      0.81        94\n",
            "\n",
            "    accuracy                           0.80       180\n",
            "   macro avg       0.80      0.80      0.80       180\n",
            "weighted avg       0.80      0.80      0.80       180\n",
            "\n",
            "hello\n"
          ],
          "name": "stdout"
        },
        {
          "output_type": "display_data",
          "data": {
            "image/png": "[encoded data removed]",
            "text/plain": [
              "<Figure size 432x288 with 2 Axes>"
            ]
          },
          "metadata": {
            "tags": [],
            "needs_background": "light"
          }
        }
      ]
    },
    {
      "cell_type": "code",
      "metadata": {
        "colab": {
          "base_uri": "https://localhost:8080/",
          "height": 493
        },
        "id": "PVAKItspFklN",
        "outputId": "277d67bd-981c-401a-af6f-7907d82ed5a0"
      },
      "source": [
        "X_train, X_test, y_train, y_test = train_test_split(X,y,test_size = 0.3,random_state =42)\n",
        "X_train.shape, X_test.shape, y_train.shape, y_test.shape\n",
        "# print(\"Best split ratio 20%, random state 42\")\n",
        "X_train = vectoriser.transform(X_train)\n",
        "X_train\n",
        "# print(X_train[0])\n",
        "X_test = vectoriser.transform(X_test)\n",
        "X_test\n",
        "PAClass = PassiveAggressiveClassifier(max_iter=1000, tol=1e-3)\n",
        "\n",
        "PAClass.fit(X_train, y_train)\n",
        "\n",
        "model_Evaluate(PAClass,X_test,y_test)\n",
        "\n",
        "y_pred5 = PAClass.predict(X_test)\n",
        "print(\"hello\")"
      ],
      "execution_count": null,
      "outputs": [
        {
          "output_type": "stream",
          "text": [
            "              precision    recall  f1-score   support\n",
            "\n",
            "           0       0.75      0.71      0.73       129\n",
            "           1       0.75      0.78      0.76       141\n",
            "\n",
            "    accuracy                           0.75       270\n",
            "   macro avg       0.75      0.75      0.75       270\n",
            "weighted avg       0.75      0.75      0.75       270\n",
            "\n",
            "hello\n"
          ],
          "name": "stdout"
        },
        {
          "output_type": "display_data",
          "data": {
            "image/png": "[encoded data removed]",
            "text/plain": [
              "<Figure size 432x288 with 2 Axes>"
            ]
          },
          "metadata": {
            "tags": [],
            "needs_background": "light"
          }
        }
      ]
    },
    {
      "cell_type": "code",
      "metadata": {
        "colab": {
          "base_uri": "https://localhost:8080/",
          "height": 493
        },
        "id": "y4mXqz9jft5n",
        "outputId": "afbc3d12-0716-4690-8508-74fd152c7367"
      },
      "source": [
        "X_train, X_test, y_train, y_test = train_test_split(X,y,test_size = 0.4,random_state =42)\n",
        "X_train.shape, X_test.shape, y_train.shape, y_test.shape\n",
        "# print(\"Best split ratio 20%, random state 42\")\n",
        "X_train = vectoriser.transform(X_train)\n",
        "X_train\n",
        "# print(X_train[0])\n",
        "X_test = vectoriser.transform(X_test)\n",
        "X_test\n",
        "PAClass = PassiveAggressiveClassifier(max_iter=1000, tol=1e-3)\n",
        "\n",
        "PAClass.fit(X_train, y_train)\n",
        "\n",
        "model_Evaluate(PAClass,X_test,y_test)\n",
        "\n",
        "y_pred5 = PAClass.predict(X_test)\n",
        "print(\"hello\")"
      ],
      "execution_count": null,
      "outputs": [
        {
          "output_type": "stream",
          "text": [
            "              precision    recall  f1-score   support\n",
            "\n",
            "           0       0.72      0.67      0.70       169\n",
            "           1       0.73      0.77      0.75       191\n",
            "\n",
            "    accuracy                           0.73       360\n",
            "   macro avg       0.72      0.72      0.72       360\n",
            "weighted avg       0.72      0.72      0.72       360\n",
            "\n",
            "hello\n"
          ],
          "name": "stdout"
        },
        {
          "output_type": "display_data",
          "data": {
            "image/png": "[encoded data removed]",
            "text/plain": [
              "<Figure size 432x288 with 2 Axes>"
            ]
          },
          "metadata": {
            "tags": [],
            "needs_background": "light"
          }
        }
      ]
    },
    {
      "cell_type": "code",
      "metadata": {
        "colab": {
          "base_uri": "https://localhost:8080/",
          "height": 493
        },
        "id": "ENFwqoA5fxWk",
        "outputId": "6907aa38-db40-4c96-9fda-3fe7c96d5abe"
      },
      "source": [
        "X_train, X_test, y_train, y_test = train_test_split(X,y,test_size = 0.5,random_state =42)\n",
        "X_train.shape, X_test.shape, y_train.shape, y_test.shape\n",
        "# print(\"Best split ratio 20%, random state 42\")\n",
        "X_train = vectoriser.transform(X_train)\n",
        "X_train\n",
        "# print(X_train[0])\n",
        "X_test = vectoriser.transform(X_test)\n",
        "X_test\n",
        "PAClass = PassiveAggressiveClassifier(max_iter=1000, tol=1e-3)\n",
        "\n",
        "PAClass.fit(X_train, y_train)\n",
        "\n",
        "model_Evaluate(PAClass,X_test,y_test)\n",
        "\n",
        "y_pred5 = PAClass.predict(X_test)\n",
        "print(\"hello\")"
      ],
      "execution_count": null,
      "outputs": [
        {
          "output_type": "stream",
          "text": [
            "              precision    recall  f1-score   support\n",
            "\n",
            "           0       0.69      0.66      0.68       213\n",
            "           1       0.71      0.73      0.72       237\n",
            "\n",
            "    accuracy                           0.70       450\n",
            "   macro avg       0.70      0.70      0.70       450\n",
            "weighted avg       0.70      0.70      0.70       450\n",
            "\n",
            "hello\n"
          ],
          "name": "stdout"
        },
        {
          "output_type": "display_data",
          "data": {
            "image/png": "[encoded data removed]",
            "text/plain": [
              "<Figure size 432x288 with 2 Axes>"
            ]
          },
          "metadata": {
            "tags": [],
            "needs_background": "light"
          }
        }
      ]
    },
    {
      "cell_type": "code",
      "metadata": {
        "id": "HW_ylGSIf1Ta"
      },
      "source": [
        ""
      ],
      "execution_count": null,
      "outputs": []
    }
  ]
}
