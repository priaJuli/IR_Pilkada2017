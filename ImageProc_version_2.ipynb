{
  "nbformat": 4,
  "nbformat_minor": 0,
  "metadata": {
    "colab": {
      "name": "ImageProc.ipynb",
      "provenance": [],
      "collapsed_sections": [],
      "authorship_tag": "ABX9TyMn6lLZU4rw6oUArw9SNfN4",
      "include_colab_link": true
    },
    "kernelspec": {
      "display_name": "Python 3",
      "name": "python3"
    },
    "language_info": {
      "name": "python"
    }
  },
  "cells": [
    {
      "cell_type": "markdown",
      "metadata": {
        "id": "view-in-github",
        "colab_type": "text"
      },
      "source": [
        "<a href=\"https://colab.research.google.com/github/priaJuli/IR_Pilkada2017/blob/main/ImageProc_version_2.ipynb\" target=\"_parent\"><img src=\"https://colab.research.google.com/assets/colab-badge.svg\" alt=\"Open In Colab\"/></a>"
      ]
    },
    {
      "cell_type": "code",
      "metadata": {
        "colab": {
          "base_uri": "https://localhost:8080/"
        },
        "id": "nz5FuV3p5mDS",
        "outputId": "24610686-a095-4234-a22a-220cd3b51875"
      },
      "source": [
        "!pip install scikit-image\n",
        "\n",
        "from google.colab import drive\n",
        "\n",
        "drive.mount('/content/drive/')"
      ],
      "execution_count": 1,
      "outputs": [
        {
          "output_type": "stream",
          "text": [
            "Requirement already satisfied: scikit-image in /usr/local/lib/python3.7/dist-packages (0.16.2)\n",
            "Requirement already satisfied: pillow>=4.3.0 in /usr/local/lib/python3.7/dist-packages (from scikit-image) (7.1.2)\n",
            "Requirement already satisfied: scipy>=0.19.0 in /usr/local/lib/python3.7/dist-packages (from scikit-image) (1.4.1)\n",
            "Requirement already satisfied: networkx>=2.0 in /usr/local/lib/python3.7/dist-packages (from scikit-image) (2.6.2)\n",
            "Requirement already satisfied: matplotlib!=3.0.0,>=2.0.0 in /usr/local/lib/python3.7/dist-packages (from scikit-image) (3.2.2)\n",
            "Requirement already satisfied: PyWavelets>=0.4.0 in /usr/local/lib/python3.7/dist-packages (from scikit-image) (1.1.1)\n",
            "Requirement already satisfied: imageio>=2.3.0 in /usr/local/lib/python3.7/dist-packages (from scikit-image) (2.4.1)\n",
            "Requirement already satisfied: numpy in /usr/local/lib/python3.7/dist-packages (from imageio>=2.3.0->scikit-image) (1.19.5)\n",
            "Requirement already satisfied: kiwisolver>=1.0.1 in /usr/local/lib/python3.7/dist-packages (from matplotlib!=3.0.0,>=2.0.0->scikit-image) (1.3.1)\n",
            "Requirement already satisfied: cycler>=0.10 in /usr/local/lib/python3.7/dist-packages (from matplotlib!=3.0.0,>=2.0.0->scikit-image) (0.10.0)\n",
            "Requirement already satisfied: python-dateutil>=2.1 in /usr/local/lib/python3.7/dist-packages (from matplotlib!=3.0.0,>=2.0.0->scikit-image) (2.8.2)\n",
            "Requirement already satisfied: pyparsing!=2.0.4,!=2.1.2,!=2.1.6,>=2.0.1 in /usr/local/lib/python3.7/dist-packages (from matplotlib!=3.0.0,>=2.0.0->scikit-image) (2.4.7)\n",
            "Requirement already satisfied: six in /usr/local/lib/python3.7/dist-packages (from cycler>=0.10->matplotlib!=3.0.0,>=2.0.0->scikit-image) (1.15.0)\n",
            "Drive already mounted at /content/drive/; to attempt to forcibly remount, call drive.mount(\"/content/drive/\", force_remount=True).\n"
          ],
          "name": "stdout"
        }
      ]
    },
    {
      "cell_type": "code",
      "metadata": {
        "id": "4qsrC6HO6Epn"
      },
      "source": [
        "path = \"drive/MyDrive/TUGAS IMAGE PROCESSING/Citra LUBANG JALAN/Citra/Citra Pelatihan/\""
      ],
      "execution_count": 2,
      "outputs": []
    },
    {
      "cell_type": "code",
      "metadata": {
        "id": "sReiscVa82jq"
      },
      "source": [
        "%matplotlib inline\n",
        " \n",
        "import matplotlib.pyplot as plt\n",
        "import numpy as np\n",
        "import os\n",
        "import pprint\n",
        "pp = pprint.PrettyPrinter(indent=4)"
      ],
      "execution_count": 3,
      "outputs": []
    },
    {
      "cell_type": "code",
      "metadata": {
        "id": "Xwgwy9fM83K4"
      },
      "source": [
        "import joblib\n",
        "from skimage.io import imread\n",
        "from skimage.transform import resize\n",
        " \n",
        "def resize_all(src, pklname, include, width=150, height=None):\n",
        "    \"\"\"\n",
        "    load images from path, resize them and write them as arrays to a dictionary, \n",
        "    together with labels and metadata. The dictionary is written to a pickle file \n",
        "    named '{pklname}_{width}x{height}px.pkl'.\n",
        "     \n",
        "    Parameter\n",
        "    ---------\n",
        "    src: str\n",
        "        path to data\n",
        "    pklname: str\n",
        "        path to output file\n",
        "    width: int\n",
        "        target width of the image in pixels\n",
        "    include: set[str]\n",
        "        set containing str\n",
        "    \"\"\"\n",
        "     \n",
        "    height = height if height is not None else width\n",
        "     \n",
        "    data = dict()\n",
        "    data['description'] = 'resized ({0}x{1})animal images in rgb'.format(int(width), int(height))\n",
        "    data['label'] = []\n",
        "    data['filename'] = []\n",
        "    data['data'] = []   \n",
        "     \n",
        "    pklname = f\"{pklname}_{width}x{height}px.pkl\"\n",
        " \n",
        "    # read all images in PATH, resize and write to DESTINATION_PATH\n",
        "    for subdir in os.listdir(src):\n",
        "        if subdir in include:\n",
        "            print(subdir)\n",
        "            current_path = os.path.join(src, subdir)\n",
        " \n",
        "            for file in os.listdir(current_path):\n",
        "                if file[-3:] in {'jpg', 'png'}:\n",
        "                    im = imread(os.path.join(current_path, file))\n",
        "                    im = resize(im, (width, height)) #[:,:,::-1]\n",
        "                    data['label'].append(subdir)\n",
        "                    data['filename'].append(file)\n",
        "                    data['data'].append(im)\n",
        " \n",
        "        joblib.dump(data, pklname)"
      ],
      "execution_count": 4,
      "outputs": []
    },
    {
      "cell_type": "code",
      "metadata": {
        "id": "vpj0VbDY8_UU",
        "colab": {
          "base_uri": "https://localhost:8080/"
        },
        "outputId": "d3a83703-d013-4259-ba10-d4ca08cc50f7"
      },
      "source": [
        "# modify to fit your system\n",
        "data_path = fr'drive/MyDrive/TUGAS IMAGE PROCESSING/Citra LUBANG JALAN/Citra/Citra Pelatihan/'\n",
        "os.listdir(data_path)"
      ],
      "execution_count": 5,
      "outputs": [
        {
          "output_type": "execute_result",
          "data": {
            "text/plain": [
              "['Jalan Marka', 'Jalan Lubang', 'Jalan Baik']"
            ]
          },
          "metadata": {},
          "execution_count": 5
        }
      ]
    },
    {
      "cell_type": "code",
      "metadata": {
        "id": "LIMw2P8K9EVP",
        "colab": {
          "base_uri": "https://localhost:8080/"
        },
        "outputId": "c29d87be-b81e-451f-e2be-9ea3c76c9c71"
      },
      "source": [
        "base_name = 'jalan'\n",
        "width = 80\n",
        " \n",
        "include = {'Jalan Marka', 'Jalan Lubang', 'Jalan Baik'}\n",
        " \n",
        "resize_all(src=data_path, pklname=base_name, width=width, include=include)\n"
      ],
      "execution_count": 6,
      "outputs": [
        {
          "output_type": "stream",
          "text": [
            "Jalan Marka\n",
            "Jalan Lubang\n",
            "Jalan Baik\n"
          ],
          "name": "stdout"
        }
      ]
    },
    {
      "cell_type": "code",
      "metadata": {
        "id": "3LafHo0h9vgG",
        "colab": {
          "base_uri": "https://localhost:8080/"
        },
        "outputId": "d794cbfa-c1ab-4f4d-c732-b0118487a746"
      },
      "source": [
        "from collections import Counter\n",
        " \n",
        "data = joblib.load(f'{base_name}_{width}x{width}px.pkl')\n",
        "print(data['label']) \n",
        "print('number of samples: ', len(data['data']))\n",
        "print('keys: ', list(data.keys()))\n",
        "print('description: ', data['description'])\n",
        "print('image shape: ', data['data'][0].shape)\n",
        "print('labels:', np.unique(data['label']))\n",
        " \n",
        "Counter(data['label'])"
      ],
      "execution_count": 7,
      "outputs": [
        {
          "output_type": "stream",
          "text": [
            "['Jalan Marka', 'Jalan Marka', 'Jalan Marka', 'Jalan Marka', 'Jalan Marka', 'Jalan Marka', 'Jalan Marka', 'Jalan Marka', 'Jalan Marka', 'Jalan Marka', 'Jalan Marka', 'Jalan Marka', 'Jalan Marka', 'Jalan Marka', 'Jalan Marka', 'Jalan Marka', 'Jalan Marka', 'Jalan Marka', 'Jalan Marka', 'Jalan Marka', 'Jalan Marka', 'Jalan Marka', 'Jalan Marka', 'Jalan Marka', 'Jalan Marka', 'Jalan Marka', 'Jalan Marka', 'Jalan Marka', 'Jalan Marka', 'Jalan Marka', 'Jalan Marka', 'Jalan Marka', 'Jalan Marka', 'Jalan Marka', 'Jalan Marka', 'Jalan Marka', 'Jalan Marka', 'Jalan Marka', 'Jalan Marka', 'Jalan Marka', 'Jalan Marka', 'Jalan Marka', 'Jalan Marka', 'Jalan Marka', 'Jalan Marka', 'Jalan Marka', 'Jalan Marka', 'Jalan Marka', 'Jalan Marka', 'Jalan Marka', 'Jalan Marka', 'Jalan Marka', 'Jalan Marka', 'Jalan Marka', 'Jalan Marka', 'Jalan Marka', 'Jalan Marka', 'Jalan Marka', 'Jalan Marka', 'Jalan Marka', 'Jalan Marka', 'Jalan Marka', 'Jalan Marka', 'Jalan Marka', 'Jalan Marka', 'Jalan Marka', 'Jalan Marka', 'Jalan Marka', 'Jalan Marka', 'Jalan Marka', 'Jalan Marka', 'Jalan Marka', 'Jalan Marka', 'Jalan Marka', 'Jalan Marka', 'Jalan Marka', 'Jalan Marka', 'Jalan Marka', 'Jalan Marka', 'Jalan Marka', 'Jalan Marka', 'Jalan Marka', 'Jalan Marka', 'Jalan Marka', 'Jalan Marka', 'Jalan Marka', 'Jalan Marka', 'Jalan Marka', 'Jalan Marka', 'Jalan Marka', 'Jalan Marka', 'Jalan Marka', 'Jalan Marka', 'Jalan Marka', 'Jalan Marka', 'Jalan Marka', 'Jalan Marka', 'Jalan Marka', 'Jalan Marka', 'Jalan Marka', 'Jalan Lubang', 'Jalan Lubang', 'Jalan Lubang', 'Jalan Lubang', 'Jalan Lubang', 'Jalan Lubang', 'Jalan Lubang', 'Jalan Lubang', 'Jalan Lubang', 'Jalan Lubang', 'Jalan Lubang', 'Jalan Lubang', 'Jalan Lubang', 'Jalan Lubang', 'Jalan Lubang', 'Jalan Lubang', 'Jalan Lubang', 'Jalan Lubang', 'Jalan Lubang', 'Jalan Lubang', 'Jalan Lubang', 'Jalan Lubang', 'Jalan Lubang', 'Jalan Lubang', 'Jalan Lubang', 'Jalan Lubang', 'Jalan Lubang', 'Jalan Lubang', 'Jalan Lubang', 'Jalan Lubang', 'Jalan Lubang', 'Jalan Lubang', 'Jalan Lubang', 'Jalan Lubang', 'Jalan Lubang', 'Jalan Lubang', 'Jalan Lubang', 'Jalan Lubang', 'Jalan Lubang', 'Jalan Lubang', 'Jalan Lubang', 'Jalan Lubang', 'Jalan Lubang', 'Jalan Lubang', 'Jalan Lubang', 'Jalan Lubang', 'Jalan Lubang', 'Jalan Lubang', 'Jalan Lubang', 'Jalan Lubang', 'Jalan Lubang', 'Jalan Lubang', 'Jalan Lubang', 'Jalan Lubang', 'Jalan Lubang', 'Jalan Lubang', 'Jalan Lubang', 'Jalan Lubang', 'Jalan Lubang', 'Jalan Lubang', 'Jalan Lubang', 'Jalan Lubang', 'Jalan Lubang', 'Jalan Lubang', 'Jalan Lubang', 'Jalan Lubang', 'Jalan Lubang', 'Jalan Lubang', 'Jalan Lubang', 'Jalan Lubang', 'Jalan Lubang', 'Jalan Lubang', 'Jalan Lubang', 'Jalan Lubang', 'Jalan Lubang', 'Jalan Lubang', 'Jalan Lubang', 'Jalan Lubang', 'Jalan Lubang', 'Jalan Lubang', 'Jalan Lubang', 'Jalan Lubang', 'Jalan Lubang', 'Jalan Lubang', 'Jalan Lubang', 'Jalan Lubang', 'Jalan Lubang', 'Jalan Lubang', 'Jalan Lubang', 'Jalan Lubang', 'Jalan Lubang', 'Jalan Lubang', 'Jalan Lubang', 'Jalan Lubang', 'Jalan Lubang', 'Jalan Lubang', 'Jalan Lubang', 'Jalan Lubang', 'Jalan Lubang', 'Jalan Lubang', 'Jalan Baik', 'Jalan Baik', 'Jalan Baik', 'Jalan Baik', 'Jalan Baik', 'Jalan Baik', 'Jalan Baik', 'Jalan Baik', 'Jalan Baik', 'Jalan Baik', 'Jalan Baik', 'Jalan Baik', 'Jalan Baik', 'Jalan Baik', 'Jalan Baik', 'Jalan Baik', 'Jalan Baik', 'Jalan Baik', 'Jalan Baik', 'Jalan Baik', 'Jalan Baik', 'Jalan Baik', 'Jalan Baik', 'Jalan Baik', 'Jalan Baik', 'Jalan Baik', 'Jalan Baik', 'Jalan Baik', 'Jalan Baik', 'Jalan Baik', 'Jalan Baik', 'Jalan Baik', 'Jalan Baik', 'Jalan Baik', 'Jalan Baik', 'Jalan Baik', 'Jalan Baik', 'Jalan Baik', 'Jalan Baik', 'Jalan Baik', 'Jalan Baik', 'Jalan Baik', 'Jalan Baik', 'Jalan Baik', 'Jalan Baik', 'Jalan Baik', 'Jalan Baik', 'Jalan Baik', 'Jalan Baik', 'Jalan Baik', 'Jalan Baik', 'Jalan Baik', 'Jalan Baik', 'Jalan Baik', 'Jalan Baik', 'Jalan Baik', 'Jalan Baik', 'Jalan Baik', 'Jalan Baik', 'Jalan Baik', 'Jalan Baik', 'Jalan Baik', 'Jalan Baik', 'Jalan Baik', 'Jalan Baik', 'Jalan Baik', 'Jalan Baik', 'Jalan Baik', 'Jalan Baik', 'Jalan Baik', 'Jalan Baik', 'Jalan Baik', 'Jalan Baik', 'Jalan Baik', 'Jalan Baik', 'Jalan Baik', 'Jalan Baik', 'Jalan Baik', 'Jalan Baik', 'Jalan Baik', 'Jalan Baik', 'Jalan Baik', 'Jalan Baik', 'Jalan Baik', 'Jalan Baik', 'Jalan Baik', 'Jalan Baik', 'Jalan Baik', 'Jalan Baik', 'Jalan Baik', 'Jalan Baik', 'Jalan Baik', 'Jalan Baik', 'Jalan Baik', 'Jalan Baik', 'Jalan Baik', 'Jalan Baik', 'Jalan Baik', 'Jalan Baik', 'Jalan Baik']\n",
            "number of samples:  300\n",
            "keys:  ['description', 'label', 'filename', 'data']\n",
            "description:  resized (80x80)animal images in rgb\n",
            "image shape:  (80, 80, 3)\n",
            "labels: ['Jalan Baik' 'Jalan Lubang' 'Jalan Marka']\n"
          ],
          "name": "stdout"
        },
        {
          "output_type": "execute_result",
          "data": {
            "text/plain": [
              "Counter({'Jalan Baik': 100, 'Jalan Lubang': 100, 'Jalan Marka': 100})"
            ]
          },
          "metadata": {},
          "execution_count": 7
        }
      ]
    },
    {
      "cell_type": "code",
      "metadata": {
        "id": "FKkMdvB3-aF0",
        "colab": {
          "base_uri": "https://localhost:8080/",
          "height": 292
        },
        "outputId": "89de40ed-3be7-416c-d8ea-f1801dcbbc38"
      },
      "source": [
        "# use np.unique to get all unique values in the list of labels\n",
        "labels = np.unique(data['label'])\n",
        " \n",
        "# set up the matplotlib figure and axes, based on the number of labels\n",
        "fig, axes = plt.subplots(1, len(labels))\n",
        "fig.set_size_inches(15,4)\n",
        "fig.tight_layout()\n",
        " \n",
        "# make a plot for every label (equipment) type. The index method returns the \n",
        "# index of the first item corresponding to its search string, label in this case\n",
        "for ax, label in zip(axes, labels):\n",
        "    idx = data['label'].index(label)\n",
        "     \n",
        "    ax.imshow(data['data'][idx])\n",
        "    ax.axis('off')\n",
        "    ax.set_title(label)"
      ],
      "execution_count": 8,
      "outputs": [
        {
          "output_type": "display_data",
          "data": {
            "image/png": "[encoded data removed]",
            "text/plain": [
              "<Figure size 1080x288 with 3 Axes>"
            ]
          },
          "metadata": {
            "needs_background": "light"
          }
        }
      ]
    },
    {
      "cell_type": "code",
      "metadata": {
        "id": "uSBScMdg-igU"
      },
      "source": [
        "X_train = np.array(data['data'])\n",
        "y_train = np.array(data['label'])"
      ],
      "execution_count": 9,
      "outputs": []
    },
    {
      "cell_type": "code",
      "metadata": {
        "id": "VFcy8TQcrMnf",
        "colab": {
          "base_uri": "https://localhost:8080/"
        },
        "outputId": "371f8d96-9062-4703-f2ce-2bdc62ddf76f"
      },
      "source": [
        "# GET TESTING\n",
        "\n",
        "data_path_tesing = fr'drive/MyDrive/TUGAS IMAGE PROCESSING/Citra LUBANG JALAN/Citra/CItra Pengujian/'\n",
        "os.listdir(data_path_tesing)\n",
        "\n",
        "base_name_test = 'jalan'\n",
        "width = 80\n",
        " \n",
        "include = {'Jalan Marka', 'Jalan Lubang', 'Jalan Baik'}\n",
        " \n",
        "resize_all(src=data_path_tesing, pklname=base_name_test, width=width, include=include)\n",
        " \n",
        "data_testing = joblib.load(f'{base_name_test}_{width}x{width}px.pkl')\n",
        "print(data_testing['label']) \n",
        "print('number of samples: ', len(data_testing['data']))\n",
        "print('keys: ', list(data_testing.keys()))\n",
        "print('description: ', data_testing['description'])\n",
        "print('image shape: ', data_testing['data'][0].shape)\n",
        "print('labels:', np.unique(data_testing['label']))\n",
        " \n",
        "Counter(data_testing['label'])\n"
      ],
      "execution_count": 10,
      "outputs": [
        {
          "output_type": "stream",
          "text": [
            "Jalan Marka\n",
            "Jalan Lubang\n",
            "Jalan Baik\n",
            "['Jalan Marka', 'Jalan Marka', 'Jalan Marka', 'Jalan Marka', 'Jalan Marka', 'Jalan Marka', 'Jalan Marka', 'Jalan Marka', 'Jalan Marka', 'Jalan Marka', 'Jalan Lubang', 'Jalan Lubang', 'Jalan Lubang', 'Jalan Lubang', 'Jalan Lubang', 'Jalan Lubang', 'Jalan Lubang', 'Jalan Lubang', 'Jalan Lubang', 'Jalan Lubang', 'Jalan Baik', 'Jalan Baik', 'Jalan Baik', 'Jalan Baik', 'Jalan Baik', 'Jalan Baik', 'Jalan Baik', 'Jalan Baik', 'Jalan Baik', 'Jalan Baik']\n",
            "number of samples:  30\n",
            "keys:  ['description', 'label', 'filename', 'data']\n",
            "description:  resized (80x80)animal images in rgb\n",
            "image shape:  (80, 80, 3)\n",
            "labels: ['Jalan Baik' 'Jalan Lubang' 'Jalan Marka']\n"
          ],
          "name": "stdout"
        },
        {
          "output_type": "execute_result",
          "data": {
            "text/plain": [
              "Counter({'Jalan Baik': 10, 'Jalan Lubang': 10, 'Jalan Marka': 10})"
            ]
          },
          "metadata": {},
          "execution_count": 10
        }
      ]
    },
    {
      "cell_type": "code",
      "metadata": {
        "colab": {
          "base_uri": "https://localhost:8080/",
          "height": 292
        },
        "id": "2ml03UIksfGM",
        "outputId": "f93be387-0e68-4132-f0c6-c0d138986c23"
      },
      "source": [
        "# use np.unique to get all unique values in the list of labels\n",
        "labels_testing = np.unique(data_testing['label'])\n",
        " \n",
        "# set up the matplotlib figure and axes, based on the number of labels\n",
        "fig, axes = plt.subplots(1, len(labels_testing))\n",
        "fig.set_size_inches(15,4)\n",
        "fig.tight_layout()\n",
        " \n",
        "# make a plot for every label (equipment) type. The index method returns the \n",
        "# index of the first item corresponding to its search string, label in this case\n",
        "for ax, label_test in zip(axes, labels_testing):\n",
        "    idx = data_testing['label'].index(label_test)\n",
        "     \n",
        "    ax.imshow(data_testing['data'][idx])\n",
        "    ax.axis('off')\n",
        "    ax.set_title(label)"
      ],
      "execution_count": 11,
      "outputs": [
        {
          "output_type": "display_data",
          "data": {
            "image/png": "[encoded data removed]",
            "text/plain": [
              "<Figure size 1080x288 with 3 Axes>"
            ]
          },
          "metadata": {
            "needs_background": "light"
          }
        }
      ]
    },
    {
      "cell_type": "code",
      "metadata": {
        "id": "5dbUb7PK-m2i"
      },
      "source": [
        "X_test = np.array(data_testing['data'])\n",
        "y_test = np.array(data_testing['label'])\n",
        "\n",
        "# from sklearn.model_selection import train_test_split\n",
        " \n",
        "# X_train, X_test, y_train, y_test = train_test_split(\n",
        "#     X, \n",
        "#     y, \n",
        "#     test_size=0.1, \n",
        "#     shuffle=True,\n",
        "#     random_state=42,\n",
        "# )"
      ],
      "execution_count": 12,
      "outputs": []
    },
    {
      "cell_type": "code",
      "metadata": {
        "colab": {
          "base_uri": "https://localhost:8080/",
          "height": 351
        },
        "id": "4mNmDjut-tGm",
        "outputId": "b952840f-ee14-4ba5-d3ee-23ad039958af"
      },
      "source": [
        "def plot_bar(y, loc='left', relative=True):\n",
        "    width = 0.35\n",
        "    if loc == 'left':\n",
        "        n = -0.5\n",
        "    elif loc == 'right':\n",
        "        n = 0.5\n",
        "     \n",
        "    # calculate counts per type and sort, to ensure their order\n",
        "    unique, counts = np.unique(y, return_counts=True)\n",
        "    sorted_index = np.argsort(unique)\n",
        "    unique = unique[sorted_index]\n",
        "     \n",
        "    if relative:\n",
        "        # plot as a percentage\n",
        "        counts = 100*counts[sorted_index]/len(y)\n",
        "        ylabel_text = '% count'\n",
        "    else:\n",
        "        # plot counts\n",
        "        counts = counts[sorted_index]\n",
        "        ylabel_text = 'count'\n",
        "         \n",
        "    xtemp = np.arange(len(unique))\n",
        "     \n",
        "    plt.bar(xtemp + n*width, counts, align='center', alpha=.7, width=width)\n",
        "    plt.xticks(xtemp, unique, rotation=45)\n",
        "    plt.xlabel('equipment type')\n",
        "    plt.ylabel(ylabel_text)\n",
        " \n",
        "plt.suptitle('relative amount of photos per type')\n",
        "plot_bar(y_train, loc='left')\n",
        "plot_bar(y_test, loc='right')\n",
        "plt.legend([\n",
        "    'train ({0} photos)'.format(len(y_train)), \n",
        "    'test ({0} photos)'.format(len(y_test))\n",
        "]);"
      ],
      "execution_count": 13,
      "outputs": [
        {
          "output_type": "display_data",
          "data": {
            "image/png": "[encoded data removed]",
            "text/plain": [
              "<Figure size 432x288 with 1 Axes>"
            ]
          },
          "metadata": {
            "needs_background": "light"
          }
        }
      ]
    },
    {
      "cell_type": "code",
      "metadata": {
        "colab": {
          "base_uri": "https://localhost:8080/",
          "height": 250
        },
        "id": "19iDBJJ6AXAx",
        "outputId": "f609fbfa-eb25-49b3-ad10-1a5acc8f518e"
      },
      "source": [
        "from skimage.feature import hog\n",
        "from skimage.io import imread\n",
        "from skimage.transform import rescale\n",
        "\n",
        "path_sample = \"drive/MyDrive/TUGAS IMAGE PROCESSING/Citra LUBANG JALAN/Citra/Citra Pelatihan/Jalan Lubang/1.jpg\"\n",
        " \n",
        "dog = imread(path_sample, as_gray=True)\n",
        "# https://en.wikipedia.org/wiki/German_Shepherd#/media/File:Kim_at_14_weeks.jpg\n",
        " \n",
        "# scale down the image to one third\n",
        "dog = rescale(dog, 1/3, mode='reflect')\n",
        "# calculate the hog and return a visual representation.\n",
        "dog_hog, dog_hog_img = hog(\n",
        "    dog, pixels_per_cell=(14,14), \n",
        "    cells_per_block=(2, 2), \n",
        "    orientations=9, \n",
        "    visualize=True, \n",
        "    block_norm='L2-Hys')\n",
        " \n",
        "fig, ax = plt.subplots(1,2)\n",
        "fig.set_size_inches(8,6)\n",
        "# remove ticks and their labels\n",
        "[a.tick_params(bottom=False, left=False, labelbottom=False, labelleft=False) \n",
        "    for a in ax]\n",
        " \n",
        "ax[0].imshow(dog, cmap='gray')\n",
        "ax[0].set_title('dog')\n",
        "ax[1].imshow(dog_hog_img, cmap='gray')\n",
        "ax[1].set_title('hog')\n",
        "plt.show()"
      ],
      "execution_count": 14,
      "outputs": [
        {
          "output_type": "display_data",
          "data": {
            "image/png": "[encoded data removed]",
            "text/plain": [
              "<Figure size 576x432 with 2 Axes>"
            ]
          },
          "metadata": {}
        }
      ]
    },
    {
      "cell_type": "code",
      "metadata": {
        "id": "2fvcQGXv-w-S"
      },
      "source": [
        "from sklearn.base import BaseEstimator, TransformerMixin\n",
        " \n",
        "class RGB2GrayTransformer(BaseEstimator, TransformerMixin):\n",
        "    \"\"\"\n",
        "    Convert an array of RGB images to grayscale\n",
        "    \"\"\"\n",
        " \n",
        "    def __init__(self):\n",
        "        pass\n",
        " \n",
        "    def fit(self, X, y=None):\n",
        "        \"\"\"returns itself\"\"\"\n",
        "        return self\n",
        " \n",
        "    def transform(self, X, y=None):\n",
        "        \"\"\"perform the transformation and return an array\"\"\"\n",
        "        return np.array([skimage.color.rgb2gray(img) for img in X])\n",
        "     \n",
        " \n",
        "class HogTransformer(BaseEstimator, TransformerMixin):\n",
        "    \"\"\"\n",
        "    Expects an array of 2d arrays (1 channel images)\n",
        "    Calculates hog features for each img\n",
        "    \"\"\"\n",
        " \n",
        "    def __init__(self, y=None, orientations=9,\n",
        "                 pixels_per_cell=(8, 8),\n",
        "                 cells_per_block=(3, 3), block_norm='L2-Hys'):\n",
        "        self.y = y\n",
        "        self.orientations = orientations\n",
        "        self.pixels_per_cell = pixels_per_cell\n",
        "        self.cells_per_block = cells_per_block\n",
        "        self.block_norm = block_norm\n",
        " \n",
        "    def fit(self, X, y=None):\n",
        "        return self\n",
        " \n",
        "    def transform(self, X, y=None):\n",
        " \n",
        "        def local_hog(X):\n",
        "            return hog(X,\n",
        "                       orientations=self.orientations,\n",
        "                       pixels_per_cell=self.pixels_per_cell,\n",
        "                       cells_per_block=self.cells_per_block,\n",
        "                       block_norm=self.block_norm)\n",
        " \n",
        "        try: # parallel\n",
        "            return np.array([local_hog(img) for img in X])\n",
        "        except:\n",
        "            return np.array([local_hog(img) for img in X])\n"
      ],
      "execution_count": 15,
      "outputs": []
    },
    {
      "cell_type": "code",
      "metadata": {
        "colab": {
          "base_uri": "https://localhost:8080/"
        },
        "id": "u9S5yGF0_iF7",
        "outputId": "6c778ccd-6d6c-4b68-fed2-674e04b56eb9"
      },
      "source": [
        "from sklearn.linear_model import SGDClassifier\n",
        "from sklearn.model_selection import cross_val_predict\n",
        "from sklearn.preprocessing import StandardScaler, Normalizer\n",
        "import skimage\n",
        " \n",
        "# create an instance of each transformer\n",
        "grayify = RGB2GrayTransformer()\n",
        "hogify = HogTransformer(\n",
        "    pixels_per_cell=(14, 14), \n",
        "    cells_per_block=(3,3), \n",
        "    orientations=8, \n",
        "    block_norm='L2-Hys'\n",
        ")\n",
        "scalify = StandardScaler()\n",
        "print(X_train.shape) \n",
        "# call fit_transform on each transform converting X_train step by step\n",
        "X_train_gray = grayify.fit_transform(X_train)\n",
        "print(X_train_gray.shape) \n",
        "X_train_hog = hogify.fit_transform(X_train_gray)\n",
        "print(X_train_hog.shape) \n",
        "X_train_prepared = scalify.fit_transform(X_train_hog)\n",
        " \n",
        "print(X_train_prepared.shape)"
      ],
      "execution_count": 16,
      "outputs": [
        {
          "output_type": "stream",
          "text": [
            "(300, 80, 80, 3)\n",
            "(300, 80, 80)\n",
            "(300, 648)\n",
            "(300, 648)\n"
          ],
          "name": "stdout"
        }
      ]
    },
    {
      "cell_type": "code",
      "metadata": {
        "colab": {
          "base_uri": "https://localhost:8080/"
        },
        "id": "nYTwqK90_k9-",
        "outputId": "18855090-83e9-44b7-f83a-bb76dd6627a1"
      },
      "source": [
        "sgd_clf = SGDClassifier(loss=\"perceptron\", random_state=42, max_iter=1000, tol=1e-3)\n",
        "sgd_clf.fit(X_train_prepared, y_train)\n"
      ],
      "execution_count": 17,
      "outputs": [
        {
          "output_type": "execute_result",
          "data": {
            "text/plain": [
              "SGDClassifier(alpha=0.0001, average=False, class_weight=None,\n",
              "              early_stopping=False, epsilon=0.1, eta0=0.0, fit_intercept=True,\n",
              "              l1_ratio=0.15, learning_rate='optimal', loss='perceptron',\n",
              "              max_iter=1000, n_iter_no_change=5, n_jobs=None, penalty='l2',\n",
              "              power_t=0.5, random_state=42, shuffle=True, tol=0.001,\n",
              "              validation_fraction=0.1, verbose=0, warm_start=False)"
            ]
          },
          "metadata": {},
          "execution_count": 17
        }
      ]
    },
    {
      "cell_type": "code",
      "metadata": {
        "id": "BKwB1-WsBTL8"
      },
      "source": [
        "X_test_gray = grayify.transform(X_test)\n",
        "X_test_hog = hogify.transform(X_test_gray)\n",
        "X_test_prepared = scalify.transform(X_test_hog)\n"
      ],
      "execution_count": 18,
      "outputs": []
    },
    {
      "cell_type": "code",
      "metadata": {
        "colab": {
          "base_uri": "https://localhost:8080/"
        },
        "id": "Nn97OYiJBZF5",
        "outputId": "f84f3a89-e01c-44e0-de6d-2f8873ba9376"
      },
      "source": [
        "y_pred = sgd_clf.predict(X_test_prepared)\n",
        "print(np.array(y_pred == y_test)[:30])\n",
        "print('')\n",
        "print('Percentage correct: ', 100*np.sum(y_pred == y_test)/len(y_test))\n"
      ],
      "execution_count": 19,
      "outputs": [
        {
          "output_type": "stream",
          "text": [
            "[ True  True  True  True  True  True  True  True  True  True  True  True\n",
            "  True  True  True  True  True  True  True  True  True  True  True False\n",
            "  True  True  True False  True  True]\n",
            "\n",
            "Percentage correct:  93.33333333333333\n"
          ],
          "name": "stdout"
        }
      ]
    },
    {
      "cell_type": "code",
      "metadata": {
        "id": "35F8-nj1Bb09"
      },
      "source": [
        "import pandas as pd"
      ],
      "execution_count": 20,
      "outputs": []
    },
    {
      "cell_type": "code",
      "metadata": {
        "colab": {
          "base_uri": "https://localhost:8080/",
          "height": 979
        },
        "id": "Wbx2E5UmBhRP",
        "outputId": "93400564-ae52-4272-a395-7b0de6a56ae2"
      },
      "source": [
        "# labels = ['yes', 'yes', 'yes', 'yes', 'yes', 'yes', 'no',  'no', 'no', 'no']\n",
        "# predictions = ['yes', 'yes', 'yes', 'yes', 'no',  'no',  'yes', 'no', 'no', 'no']\n",
        "labels = y_test\n",
        "predictions = y_pred\n",
        "\n",
        "# put the data in a dataframe for pretty printing\n",
        "df = pd.DataFrame(\n",
        "    np.c_[labels, predictions], \n",
        "    columns=['true_label', 'prediction']\n",
        ")\n",
        "df"
      ],
      "execution_count": 21,
      "outputs": [
        {
          "output_type": "execute_result",
          "data": {
            "text/html": [
              "<div>\n",
              "<style scoped>\n",
              "    .dataframe tbody tr th:only-of-type {\n",
              "        vertical-align: middle;\n",
              "    }\n",
              "\n",
              "    .dataframe tbody tr th {\n",
              "        vertical-align: top;\n",
              "    }\n",
              "\n",
              "    .dataframe thead th {\n",
              "        text-align: right;\n",
              "    }\n",
              "</style>\n",
              "<table border=\"1\" class=\"dataframe\">\n",
              "  <thead>\n",
              "    <tr style=\"text-align: right;\">\n",
              "      <th></th>\n",
              "      <th>true_label</th>\n",
              "      <th>prediction</th>\n",
              "    </tr>\n",
              "  </thead>\n",
              "  <tbody>\n",
              "    <tr>\n",
              "      <th>0</th>\n",
              "      <td>Jalan Marka</td>\n",
              "      <td>Jalan Marka</td>\n",
              "    </tr>\n",
              "    <tr>\n",
              "      <th>1</th>\n",
              "      <td>Jalan Marka</td>\n",
              "      <td>Jalan Marka</td>\n",
              "    </tr>\n",
              "    <tr>\n",
              "      <th>2</th>\n",
              "      <td>Jalan Marka</td>\n",
              "      <td>Jalan Marka</td>\n",
              "    </tr>\n",
              "    <tr>\n",
              "      <th>3</th>\n",
              "      <td>Jalan Marka</td>\n",
              "      <td>Jalan Marka</td>\n",
              "    </tr>\n",
              "    <tr>\n",
              "      <th>4</th>\n",
              "      <td>Jalan Marka</td>\n",
              "      <td>Jalan Marka</td>\n",
              "    </tr>\n",
              "    <tr>\n",
              "      <th>5</th>\n",
              "      <td>Jalan Marka</td>\n",
              "      <td>Jalan Marka</td>\n",
              "    </tr>\n",
              "    <tr>\n",
              "      <th>6</th>\n",
              "      <td>Jalan Marka</td>\n",
              "      <td>Jalan Marka</td>\n",
              "    </tr>\n",
              "    <tr>\n",
              "      <th>7</th>\n",
              "      <td>Jalan Marka</td>\n",
              "      <td>Jalan Marka</td>\n",
              "    </tr>\n",
              "    <tr>\n",
              "      <th>8</th>\n",
              "      <td>Jalan Marka</td>\n",
              "      <td>Jalan Marka</td>\n",
              "    </tr>\n",
              "    <tr>\n",
              "      <th>9</th>\n",
              "      <td>Jalan Marka</td>\n",
              "      <td>Jalan Marka</td>\n",
              "    </tr>\n",
              "    <tr>\n",
              "      <th>10</th>\n",
              "      <td>Jalan Lubang</td>\n",
              "      <td>Jalan Lubang</td>\n",
              "    </tr>\n",
              "    <tr>\n",
              "      <th>11</th>\n",
              "      <td>Jalan Lubang</td>\n",
              "      <td>Jalan Lubang</td>\n",
              "    </tr>\n",
              "    <tr>\n",
              "      <th>12</th>\n",
              "      <td>Jalan Lubang</td>\n",
              "      <td>Jalan Lubang</td>\n",
              "    </tr>\n",
              "    <tr>\n",
              "      <th>13</th>\n",
              "      <td>Jalan Lubang</td>\n",
              "      <td>Jalan Lubang</td>\n",
              "    </tr>\n",
              "    <tr>\n",
              "      <th>14</th>\n",
              "      <td>Jalan Lubang</td>\n",
              "      <td>Jalan Lubang</td>\n",
              "    </tr>\n",
              "    <tr>\n",
              "      <th>15</th>\n",
              "      <td>Jalan Lubang</td>\n",
              "      <td>Jalan Lubang</td>\n",
              "    </tr>\n",
              "    <tr>\n",
              "      <th>16</th>\n",
              "      <td>Jalan Lubang</td>\n",
              "      <td>Jalan Lubang</td>\n",
              "    </tr>\n",
              "    <tr>\n",
              "      <th>17</th>\n",
              "      <td>Jalan Lubang</td>\n",
              "      <td>Jalan Lubang</td>\n",
              "    </tr>\n",
              "    <tr>\n",
              "      <th>18</th>\n",
              "      <td>Jalan Lubang</td>\n",
              "      <td>Jalan Lubang</td>\n",
              "    </tr>\n",
              "    <tr>\n",
              "      <th>19</th>\n",
              "      <td>Jalan Lubang</td>\n",
              "      <td>Jalan Lubang</td>\n",
              "    </tr>\n",
              "    <tr>\n",
              "      <th>20</th>\n",
              "      <td>Jalan Baik</td>\n",
              "      <td>Jalan Baik</td>\n",
              "    </tr>\n",
              "    <tr>\n",
              "      <th>21</th>\n",
              "      <td>Jalan Baik</td>\n",
              "      <td>Jalan Baik</td>\n",
              "    </tr>\n",
              "    <tr>\n",
              "      <th>22</th>\n",
              "      <td>Jalan Baik</td>\n",
              "      <td>Jalan Baik</td>\n",
              "    </tr>\n",
              "    <tr>\n",
              "      <th>23</th>\n",
              "      <td>Jalan Baik</td>\n",
              "      <td>Jalan Lubang</td>\n",
              "    </tr>\n",
              "    <tr>\n",
              "      <th>24</th>\n",
              "      <td>Jalan Baik</td>\n",
              "      <td>Jalan Baik</td>\n",
              "    </tr>\n",
              "    <tr>\n",
              "      <th>25</th>\n",
              "      <td>Jalan Baik</td>\n",
              "      <td>Jalan Baik</td>\n",
              "    </tr>\n",
              "    <tr>\n",
              "      <th>26</th>\n",
              "      <td>Jalan Baik</td>\n",
              "      <td>Jalan Baik</td>\n",
              "    </tr>\n",
              "    <tr>\n",
              "      <th>27</th>\n",
              "      <td>Jalan Baik</td>\n",
              "      <td>Jalan Lubang</td>\n",
              "    </tr>\n",
              "    <tr>\n",
              "      <th>28</th>\n",
              "      <td>Jalan Baik</td>\n",
              "      <td>Jalan Baik</td>\n",
              "    </tr>\n",
              "    <tr>\n",
              "      <th>29</th>\n",
              "      <td>Jalan Baik</td>\n",
              "      <td>Jalan Baik</td>\n",
              "    </tr>\n",
              "  </tbody>\n",
              "</table>\n",
              "</div>"
            ],
            "text/plain": [
              "      true_label    prediction\n",
              "0    Jalan Marka   Jalan Marka\n",
              "1    Jalan Marka   Jalan Marka\n",
              "2    Jalan Marka   Jalan Marka\n",
              "3    Jalan Marka   Jalan Marka\n",
              "4    Jalan Marka   Jalan Marka\n",
              "5    Jalan Marka   Jalan Marka\n",
              "6    Jalan Marka   Jalan Marka\n",
              "7    Jalan Marka   Jalan Marka\n",
              "8    Jalan Marka   Jalan Marka\n",
              "9    Jalan Marka   Jalan Marka\n",
              "10  Jalan Lubang  Jalan Lubang\n",
              "11  Jalan Lubang  Jalan Lubang\n",
              "12  Jalan Lubang  Jalan Lubang\n",
              "13  Jalan Lubang  Jalan Lubang\n",
              "14  Jalan Lubang  Jalan Lubang\n",
              "15  Jalan Lubang  Jalan Lubang\n",
              "16  Jalan Lubang  Jalan Lubang\n",
              "17  Jalan Lubang  Jalan Lubang\n",
              "18  Jalan Lubang  Jalan Lubang\n",
              "19  Jalan Lubang  Jalan Lubang\n",
              "20    Jalan Baik    Jalan Baik\n",
              "21    Jalan Baik    Jalan Baik\n",
              "22    Jalan Baik    Jalan Baik\n",
              "23    Jalan Baik  Jalan Lubang\n",
              "24    Jalan Baik    Jalan Baik\n",
              "25    Jalan Baik    Jalan Baik\n",
              "26    Jalan Baik    Jalan Baik\n",
              "27    Jalan Baik  Jalan Lubang\n",
              "28    Jalan Baik    Jalan Baik\n",
              "29    Jalan Baik    Jalan Baik"
            ]
          },
          "metadata": {},
          "execution_count": 21
        }
      ]
    },
    {
      "cell_type": "code",
      "metadata": {
        "colab": {
          "base_uri": "https://localhost:8080/",
          "height": 173
        },
        "id": "QAjAgzMFBkBY",
        "outputId": "3968de8c-5336-4605-fa4d-488e0095f70a"
      },
      "source": [
        "from sklearn.metrics import confusion_matrix, classification_report\n",
        " \n",
        "label_names = ['Jalan Baik', 'Jalan Marka', 'Jalan Lubang']\n",
        "cmx = confusion_matrix(labels, predictions, labels=label_names)\n",
        "df = pd.DataFrame(cmx, columns=label_names, index=label_names)\n",
        "df.columns.name = 'prediction'\n",
        "df.index.name = 'label'\n",
        "df"
      ],
      "execution_count": 22,
      "outputs": [
        {
          "output_type": "execute_result",
          "data": {
            "text/html": [
              "<div>\n",
              "<style scoped>\n",
              "    .dataframe tbody tr th:only-of-type {\n",
              "        vertical-align: middle;\n",
              "    }\n",
              "\n",
              "    .dataframe tbody tr th {\n",
              "        vertical-align: top;\n",
              "    }\n",
              "\n",
              "    .dataframe thead th {\n",
              "        text-align: right;\n",
              "    }\n",
              "</style>\n",
              "<table border=\"1\" class=\"dataframe\">\n",
              "  <thead>\n",
              "    <tr style=\"text-align: right;\">\n",
              "      <th>prediction</th>\n",
              "      <th>Jalan Baik</th>\n",
              "      <th>Jalan Marka</th>\n",
              "      <th>Jalan Lubang</th>\n",
              "    </tr>\n",
              "    <tr>\n",
              "      <th>label</th>\n",
              "      <th></th>\n",
              "      <th></th>\n",
              "      <th></th>\n",
              "    </tr>\n",
              "  </thead>\n",
              "  <tbody>\n",
              "    <tr>\n",
              "      <th>Jalan Baik</th>\n",
              "      <td>8</td>\n",
              "      <td>0</td>\n",
              "      <td>2</td>\n",
              "    </tr>\n",
              "    <tr>\n",
              "      <th>Jalan Marka</th>\n",
              "      <td>0</td>\n",
              "      <td>10</td>\n",
              "      <td>0</td>\n",
              "    </tr>\n",
              "    <tr>\n",
              "      <th>Jalan Lubang</th>\n",
              "      <td>0</td>\n",
              "      <td>0</td>\n",
              "      <td>10</td>\n",
              "    </tr>\n",
              "  </tbody>\n",
              "</table>\n",
              "</div>"
            ],
            "text/plain": [
              "prediction    Jalan Baik  Jalan Marka  Jalan Lubang\n",
              "label                                              \n",
              "Jalan Baik             8            0             2\n",
              "Jalan Marka            0           10             0\n",
              "Jalan Lubang           0            0            10"
            ]
          },
          "metadata": {},
          "execution_count": 22
        }
      ]
    },
    {
      "cell_type": "code",
      "metadata": {
        "colab": {
          "base_uri": "https://localhost:8080/",
          "height": 258
        },
        "id": "r6tqOBXhBnKo",
        "outputId": "91a2d700-6c30-4b7b-a8a4-956fe05deff9"
      },
      "source": [
        "plt.imshow(cmx)\n",
        "plt.xticks([])\n",
        "plt.yticks([])\n",
        "plt.colorbar();"
      ],
      "execution_count": 23,
      "outputs": [
        {
          "output_type": "display_data",
          "data": {
            "image/png": "[encoded data removed]",
            "text/plain": [
              "<Figure size 432x288 with 2 Axes>"
            ]
          },
          "metadata": {
            "needs_background": "light"
          }
        }
      ]
    },
    {
      "cell_type": "code",
      "metadata": {
        "colab": {
          "base_uri": "https://localhost:8080/"
        },
        "id": "d0PXxsFpBr2m",
        "outputId": "1d2d56bc-4c59-49c4-fc02-000a12b451ba"
      },
      "source": [
        "cmx = confusion_matrix(y_test, y_pred)\n",
        "print(classification_report(y_test, y_pred))\n",
        "cmx"
      ],
      "execution_count": 24,
      "outputs": [
        {
          "output_type": "stream",
          "text": [
            "              precision    recall  f1-score   support\n",
            "\n",
            "  Jalan Baik       1.00      0.80      0.89        10\n",
            "Jalan Lubang       0.83      1.00      0.91        10\n",
            " Jalan Marka       1.00      1.00      1.00        10\n",
            "\n",
            "    accuracy                           0.93        30\n",
            "   macro avg       0.94      0.93      0.93        30\n",
            "weighted avg       0.94      0.93      0.93        30\n",
            "\n"
          ],
          "name": "stdout"
        },
        {
          "output_type": "execute_result",
          "data": {
            "text/plain": [
              "array([[ 8,  2,  0],\n",
              "       [ 0, 10,  0],\n",
              "       [ 0,  0, 10]])"
            ]
          },
          "metadata": {},
          "execution_count": 24
        }
      ]
    },
    {
      "cell_type": "code",
      "metadata": {
        "colab": {
          "base_uri": "https://localhost:8080/",
          "height": 259
        },
        "id": "LknFyJCzBuUW",
        "outputId": "e6328362-6a22-4e85-e945-db2f495cda24"
      },
      "source": [
        "from mpl_toolkits.axes_grid1 import make_axes_locatable\n",
        " \n",
        "def plot_confusion_matrix(cmx, vmax1=None, vmax2=None, vmax3=None):\n",
        "    cmx_norm = 100*cmx / cmx.sum(axis=1, keepdims=True)\n",
        "    cmx_zero_diag = cmx_norm.copy()\n",
        " \n",
        "    np.fill_diagonal(cmx_zero_diag, 0)\n",
        " \n",
        "    fig, ax = plt.subplots(ncols=3)\n",
        "    fig.set_size_inches(12, 3)\n",
        "    [a.set_xticks(range(len(cmx)+1)) for a in ax]\n",
        "    [a.set_yticks(range(len(cmx)+1)) for a in ax]\n",
        "         \n",
        "    im1 = ax[0].imshow(cmx, vmax=vmax1)\n",
        "    ax[0].set_title('as is')\n",
        "    im2 = ax[1].imshow(cmx_norm, vmax=vmax2)\n",
        "    ax[1].set_title('%')\n",
        "    im3 = ax[2].imshow(cmx_zero_diag, vmax=vmax3)\n",
        "    ax[2].set_title('% and 0 diagonal')\n",
        " \n",
        "    dividers = [make_axes_locatable(a) for a in ax]\n",
        "    cax1, cax2, cax3 = [divider.append_axes(\"right\", size=\"5%\", pad=0.1) \n",
        "                        for divider in dividers]\n",
        " \n",
        "    fig.colorbar(im1, cax=cax1)\n",
        "    fig.colorbar(im2, cax=cax2)\n",
        "    fig.colorbar(im3, cax=cax3)\n",
        "    fig.tight_layout()\n",
        "     \n",
        "plot_confusion_matrix(cmx)\n",
        " \n",
        "# the types appear in this order\n",
        "print('\\n', sorted(np.unique(y_test)))"
      ],
      "execution_count": 25,
      "outputs": [
        {
          "output_type": "stream",
          "text": [
            "\n",
            " ['Jalan Baik', 'Jalan Lubang', 'Jalan Marka']\n"
          ],
          "name": "stdout"
        },
        {
          "output_type": "display_data",
          "data": {
            "image/png": "[encoded data removed]",
            "text/plain": [
              "<Figure size 864x216 with 6 Axes>"
            ]
          },
          "metadata": {
            "needs_background": "light"
          }
        }
      ]
    },
    {
      "cell_type": "code",
      "metadata": {
        "colab": {
          "base_uri": "https://localhost:8080/"
        },
        "id": "AYXveQPWByub",
        "outputId": "7a214236-c2b2-4194-b480-8e50efc4e6db"
      },
      "source": [
        "from sklearn.pipeline import Pipeline\n",
        "from sklearn import svm\n",
        " \n",
        "HOG_pipeline = Pipeline([\n",
        "    ('grayify', RGB2GrayTransformer()),\n",
        "    ('hogify', HogTransformer(\n",
        "        pixels_per_cell=(14, 14), \n",
        "        cells_per_block=(3, 3), \n",
        "        orientations=8, \n",
        "        block_norm='L2-Hys')\n",
        "    ),\n",
        "    ('scalify', StandardScaler()),\n",
        "    ('classify', SGDClassifier(loss=\"perceptron\", random_state=42, max_iter=1000, tol=1e-3))\n",
        "])\n",
        " \n",
        "clf = HOG_pipeline.fit(X_train, y_train)\n",
        "y_pred = clf.predict(X_test)\n",
        "print('Percentage correct: ', 100*np.sum(clf.predict(X_test) == y_test)/len(y_test))\n",
        "print(classification_report(y_test, y_pred))\n"
      ],
      "execution_count": 26,
      "outputs": [
        {
          "output_type": "stream",
          "text": [
            "Percentage correct:  93.33333333333333\n",
            "              precision    recall  f1-score   support\n",
            "\n",
            "  Jalan Baik       1.00      0.80      0.89        10\n",
            "Jalan Lubang       0.83      1.00      0.91        10\n",
            " Jalan Marka       1.00      1.00      1.00        10\n",
            "\n",
            "    accuracy                           0.93        30\n",
            "   macro avg       0.94      0.93      0.93        30\n",
            "weighted avg       0.94      0.93      0.93        30\n",
            "\n"
          ],
          "name": "stdout"
        }
      ]
    },
    {
      "cell_type": "code",
      "metadata": {
        "id": "6JXYoOXBB41P"
      },
      "source": [
        "from sklearn.model_selection import GridSearchCV\n",
        " \n",
        "param_grid = [\n",
        "    {\n",
        "        'hogify__orientations': [8, 9],\n",
        "        'hogify__cells_per_block': [(2, 2), (3, 3), (4, 4)],\n",
        "        'hogify__pixels_per_cell': [(8, 8), (10, 10), (12, 12), (14, 14)]\n",
        "    },\n",
        "    {\n",
        "        'hogify__orientations': [8],\n",
        "         'hogify__cells_per_block': [(2,2), (3, 3), (4, 4)],\n",
        "         'hogify__pixels_per_cell': [(8, 8), (10,10), (12, 12), (14, 14)],\n",
        "         'classify': [\n",
        "             SGDClassifier(loss=\"perceptron\", random_state=42, max_iter=1000, tol=1e-3),\n",
        "             SGDClassifier(loss=\"perceptron\", random_state=42, max_iter=500, tol=1e-3),\n",
        "             SGDClassifier(loss=\"perceptron\", random_state=42, max_iter=200, tol=1e-3),\n",
        "             svm.SVC(kernel='linear')\n",
        "         ]\n",
        "    }\n",
        "]"
      ],
      "execution_count": 27,
      "outputs": []
    },
    {
      "cell_type": "code",
      "metadata": {
        "colab": {
          "base_uri": "https://localhost:8080/"
        },
        "id": "vbCohF1YB83Y",
        "outputId": "9d4e5ee9-cb52-421b-e9c2-140dd8f85766"
      },
      "source": [
        "grid_search = GridSearchCV(HOG_pipeline, \n",
        "                           param_grid, \n",
        "                           cv=3,\n",
        "                           n_jobs=-1,\n",
        "                           scoring='accuracy',\n",
        "                           verbose=1,\n",
        "                           return_train_score=True)\n",
        " \n",
        "grid_res = grid_search.fit(X_train, y_train)"
      ],
      "execution_count": 28,
      "outputs": [
        {
          "output_type": "stream",
          "text": [
            "Fitting 3 folds for each of 72 candidates, totalling 216 fits\n"
          ],
          "name": "stdout"
        },
        {
          "output_type": "stream",
          "text": [
            "[Parallel(n_jobs=-1)]: Using backend LokyBackend with 2 concurrent workers.\n",
            "[Parallel(n_jobs=-1)]: Done  46 tasks      | elapsed:   42.2s\n",
            "[Parallel(n_jobs=-1)]: Done 196 tasks      | elapsed:  2.7min\n",
            "[Parallel(n_jobs=-1)]: Done 216 out of 216 | elapsed:  3.0min finished\n"
          ],
          "name": "stderr"
        }
      ]
    },
    {
      "cell_type": "code",
      "metadata": {
        "colab": {
          "base_uri": "https://localhost:8080/"
        },
        "id": "KzTl8-UbCAtw",
        "outputId": "75f0d356-9ad9-401e-8789-a2ffadda6294"
      },
      "source": [
        "# save the model to disk\n",
        "joblib.dump(grid_res, 'hog_sgd_model.pkl');\n",
        "\n",
        "# description of the best performing object, a pipeline in our case.\n",
        "grid_res.best_estimator_"
      ],
      "execution_count": 29,
      "outputs": [
        {
          "output_type": "execute_result",
          "data": {
            "text/plain": [
              "Pipeline(memory=None,\n",
              "         steps=[('grayify', RGB2GrayTransformer()),\n",
              "                ('hogify',\n",
              "                 HogTransformer(block_norm='L2-Hys', cells_per_block=(4, 4),\n",
              "                                orientations=8, pixels_per_cell=(10, 10),\n",
              "                                y=None)),\n",
              "                ('scalify',\n",
              "                 StandardScaler(copy=True, with_mean=True, with_std=True)),\n",
              "                ('classify',\n",
              "                 SVC(C=1.0, break_ties=False, cache_size=200, class_weight=None,\n",
              "                     coef0=0.0, decision_function_shape='ovr', degree=3,\n",
              "                     gamma='scale', kernel='linear', max_iter=-1,\n",
              "                     probability=False, random_state=None, shrinking=True,\n",
              "                     tol=0.001, verbose=False))],\n",
              "         verbose=False)"
            ]
          },
          "metadata": {},
          "execution_count": 29
        }
      ]
    },
    {
      "cell_type": "code",
      "metadata": {
        "colab": {
          "base_uri": "https://localhost:8080/"
        },
        "id": "DYjsfE5PCMln",
        "outputId": "ed53a0f2-ae37-439e-ecc6-40eb32a7d6e3"
      },
      "source": [
        "# the highscore during the search\n",
        "grid_res.best_score_"
      ],
      "execution_count": 30,
      "outputs": [
        {
          "output_type": "execute_result",
          "data": {
            "text/plain": [
              "0.87"
            ]
          },
          "metadata": {},
          "execution_count": 30
        }
      ]
    },
    {
      "cell_type": "code",
      "metadata": {
        "colab": {
          "base_uri": "https://localhost:8080/"
        },
        "id": "R_PSe4eLCNxl",
        "outputId": "a8786e6f-57b9-4361-c2d3-7b77a14dcf19"
      },
      "source": [
        "\n",
        "pp.pprint(grid_res.best_params_)\n"
      ],
      "execution_count": 31,
      "outputs": [
        {
          "output_type": "stream",
          "text": [
            "{   'classify': SVC(C=1.0, break_ties=False, cache_size=200, class_weight=None, coef0=0.0,\n",
            "    decision_function_shape='ovr', degree=3, gamma='scale', kernel='linear',\n",
            "    max_iter=-1, probability=False, random_state=None, shrinking=True,\n",
            "    tol=0.001, verbose=False),\n",
            "    'hogify__cells_per_block': (4, 4),\n",
            "    'hogify__orientations': 8,\n",
            "    'hogify__pixels_per_cell': (10, 10)}\n"
          ],
          "name": "stdout"
        }
      ]
    },
    {
      "cell_type": "code",
      "metadata": {
        "colab": {
          "base_uri": "https://localhost:8080/",
          "height": 1000
        },
        "id": "ecoQCWeiCRKi",
        "outputId": "123533f9-9be3-48da-8ff0-c6c5578ccc1f"
      },
      "source": [
        "best_pred = grid_res.predict(X_test)\n",
        "\n",
        "print('Percentage correct: ', 100*np.sum(best_pred == y_test)/len(y_test))\n",
        "print(classification_report(y_test, best_pred))\n",
        "labels = y_test\n",
        "predictions = best_pred\n",
        "\n",
        "# put the data in a dataframe for pretty printing\n",
        "df = pd.DataFrame(\n",
        "    np.c_[labels, predictions], \n",
        "    columns=['true_label', 'prediction']\n",
        ")\n",
        "df"
      ],
      "execution_count": 32,
      "outputs": [
        {
          "output_type": "stream",
          "text": [
            "Percentage correct:  80.0\n",
            "              precision    recall  f1-score   support\n",
            "\n",
            "  Jalan Baik       0.82      0.90      0.86        10\n",
            "Jalan Lubang       0.67      0.80      0.73        10\n",
            " Jalan Marka       1.00      0.70      0.82        10\n",
            "\n",
            "    accuracy                           0.80        30\n",
            "   macro avg       0.83      0.80      0.80        30\n",
            "weighted avg       0.83      0.80      0.80        30\n",
            "\n"
          ],
          "name": "stdout"
        },
        {
          "output_type": "execute_result",
          "data": {
            "text/html": [
              "<div>\n",
              "<style scoped>\n",
              "    .dataframe tbody tr th:only-of-type {\n",
              "        vertical-align: middle;\n",
              "    }\n",
              "\n",
              "    .dataframe tbody tr th {\n",
              "        vertical-align: top;\n",
              "    }\n",
              "\n",
              "    .dataframe thead th {\n",
              "        text-align: right;\n",
              "    }\n",
              "</style>\n",
              "<table border=\"1\" class=\"dataframe\">\n",
              "  <thead>\n",
              "    <tr style=\"text-align: right;\">\n",
              "      <th></th>\n",
              "      <th>true_label</th>\n",
              "      <th>prediction</th>\n",
              "    </tr>\n",
              "  </thead>\n",
              "  <tbody>\n",
              "    <tr>\n",
              "      <th>0</th>\n",
              "      <td>Jalan Marka</td>\n",
              "      <td>Jalan Lubang</td>\n",
              "    </tr>\n",
              "    <tr>\n",
              "      <th>1</th>\n",
              "      <td>Jalan Marka</td>\n",
              "      <td>Jalan Marka</td>\n",
              "    </tr>\n",
              "    <tr>\n",
              "      <th>2</th>\n",
              "      <td>Jalan Marka</td>\n",
              "      <td>Jalan Marka</td>\n",
              "    </tr>\n",
              "    <tr>\n",
              "      <th>3</th>\n",
              "      <td>Jalan Marka</td>\n",
              "      <td>Jalan Marka</td>\n",
              "    </tr>\n",
              "    <tr>\n",
              "      <th>4</th>\n",
              "      <td>Jalan Marka</td>\n",
              "      <td>Jalan Lubang</td>\n",
              "    </tr>\n",
              "    <tr>\n",
              "      <th>5</th>\n",
              "      <td>Jalan Marka</td>\n",
              "      <td>Jalan Lubang</td>\n",
              "    </tr>\n",
              "    <tr>\n",
              "      <th>6</th>\n",
              "      <td>Jalan Marka</td>\n",
              "      <td>Jalan Marka</td>\n",
              "    </tr>\n",
              "    <tr>\n",
              "      <th>7</th>\n",
              "      <td>Jalan Marka</td>\n",
              "      <td>Jalan Marka</td>\n",
              "    </tr>\n",
              "    <tr>\n",
              "      <th>8</th>\n",
              "      <td>Jalan Marka</td>\n",
              "      <td>Jalan Marka</td>\n",
              "    </tr>\n",
              "    <tr>\n",
              "      <th>9</th>\n",
              "      <td>Jalan Marka</td>\n",
              "      <td>Jalan Marka</td>\n",
              "    </tr>\n",
              "    <tr>\n",
              "      <th>10</th>\n",
              "      <td>Jalan Lubang</td>\n",
              "      <td>Jalan Lubang</td>\n",
              "    </tr>\n",
              "    <tr>\n",
              "      <th>11</th>\n",
              "      <td>Jalan Lubang</td>\n",
              "      <td>Jalan Lubang</td>\n",
              "    </tr>\n",
              "    <tr>\n",
              "      <th>12</th>\n",
              "      <td>Jalan Lubang</td>\n",
              "      <td>Jalan Lubang</td>\n",
              "    </tr>\n",
              "    <tr>\n",
              "      <th>13</th>\n",
              "      <td>Jalan Lubang</td>\n",
              "      <td>Jalan Lubang</td>\n",
              "    </tr>\n",
              "    <tr>\n",
              "      <th>14</th>\n",
              "      <td>Jalan Lubang</td>\n",
              "      <td>Jalan Lubang</td>\n",
              "    </tr>\n",
              "    <tr>\n",
              "      <th>15</th>\n",
              "      <td>Jalan Lubang</td>\n",
              "      <td>Jalan Baik</td>\n",
              "    </tr>\n",
              "    <tr>\n",
              "      <th>16</th>\n",
              "      <td>Jalan Lubang</td>\n",
              "      <td>Jalan Lubang</td>\n",
              "    </tr>\n",
              "    <tr>\n",
              "      <th>17</th>\n",
              "      <td>Jalan Lubang</td>\n",
              "      <td>Jalan Lubang</td>\n",
              "    </tr>\n",
              "    <tr>\n",
              "      <th>18</th>\n",
              "      <td>Jalan Lubang</td>\n",
              "      <td>Jalan Lubang</td>\n",
              "    </tr>\n",
              "    <tr>\n",
              "      <th>19</th>\n",
              "      <td>Jalan Lubang</td>\n",
              "      <td>Jalan Baik</td>\n",
              "    </tr>\n",
              "    <tr>\n",
              "      <th>20</th>\n",
              "      <td>Jalan Baik</td>\n",
              "      <td>Jalan Baik</td>\n",
              "    </tr>\n",
              "    <tr>\n",
              "      <th>21</th>\n",
              "      <td>Jalan Baik</td>\n",
              "      <td>Jalan Baik</td>\n",
              "    </tr>\n",
              "    <tr>\n",
              "      <th>22</th>\n",
              "      <td>Jalan Baik</td>\n",
              "      <td>Jalan Baik</td>\n",
              "    </tr>\n",
              "    <tr>\n",
              "      <th>23</th>\n",
              "      <td>Jalan Baik</td>\n",
              "      <td>Jalan Baik</td>\n",
              "    </tr>\n",
              "    <tr>\n",
              "      <th>24</th>\n",
              "      <td>Jalan Baik</td>\n",
              "      <td>Jalan Baik</td>\n",
              "    </tr>\n",
              "    <tr>\n",
              "      <th>25</th>\n",
              "      <td>Jalan Baik</td>\n",
              "      <td>Jalan Baik</td>\n",
              "    </tr>\n",
              "    <tr>\n",
              "      <th>26</th>\n",
              "      <td>Jalan Baik</td>\n",
              "      <td>Jalan Baik</td>\n",
              "    </tr>\n",
              "    <tr>\n",
              "      <th>27</th>\n",
              "      <td>Jalan Baik</td>\n",
              "      <td>Jalan Lubang</td>\n",
              "    </tr>\n",
              "    <tr>\n",
              "      <th>28</th>\n",
              "      <td>Jalan Baik</td>\n",
              "      <td>Jalan Baik</td>\n",
              "    </tr>\n",
              "    <tr>\n",
              "      <th>29</th>\n",
              "      <td>Jalan Baik</td>\n",
              "      <td>Jalan Baik</td>\n",
              "    </tr>\n",
              "  </tbody>\n",
              "</table>\n",
              "</div>"
            ],
            "text/plain": [
              "      true_label    prediction\n",
              "0    Jalan Marka  Jalan Lubang\n",
              "1    Jalan Marka   Jalan Marka\n",
              "2    Jalan Marka   Jalan Marka\n",
              "3    Jalan Marka   Jalan Marka\n",
              "4    Jalan Marka  Jalan Lubang\n",
              "5    Jalan Marka  Jalan Lubang\n",
              "6    Jalan Marka   Jalan Marka\n",
              "7    Jalan Marka   Jalan Marka\n",
              "8    Jalan Marka   Jalan Marka\n",
              "9    Jalan Marka   Jalan Marka\n",
              "10  Jalan Lubang  Jalan Lubang\n",
              "11  Jalan Lubang  Jalan Lubang\n",
              "12  Jalan Lubang  Jalan Lubang\n",
              "13  Jalan Lubang  Jalan Lubang\n",
              "14  Jalan Lubang  Jalan Lubang\n",
              "15  Jalan Lubang    Jalan Baik\n",
              "16  Jalan Lubang  Jalan Lubang\n",
              "17  Jalan Lubang  Jalan Lubang\n",
              "18  Jalan Lubang  Jalan Lubang\n",
              "19  Jalan Lubang    Jalan Baik\n",
              "20    Jalan Baik    Jalan Baik\n",
              "21    Jalan Baik    Jalan Baik\n",
              "22    Jalan Baik    Jalan Baik\n",
              "23    Jalan Baik    Jalan Baik\n",
              "24    Jalan Baik    Jalan Baik\n",
              "25    Jalan Baik    Jalan Baik\n",
              "26    Jalan Baik    Jalan Baik\n",
              "27    Jalan Baik  Jalan Lubang\n",
              "28    Jalan Baik    Jalan Baik\n",
              "29    Jalan Baik    Jalan Baik"
            ]
          },
          "metadata": {},
          "execution_count": 32
        }
      ]
    },
    {
      "cell_type": "code",
      "metadata": {
        "colab": {
          "base_uri": "https://localhost:8080/",
          "height": 173
        },
        "id": "FUgz6mzECU9Y",
        "outputId": "833459b6-6a44-47af-cee4-dabe3dfb3102"
      },
      "source": [
        "# cmx_svm = confusion_matrix(y_test, best_pred)\n",
        "# print(cmx_svm)\n",
        "# labels = y_test\n",
        "# predictions = best_pred\n",
        "\n",
        "# from sklearn.metrics import confusion_matrix\n",
        " \n",
        "label_names = ['Jalan Baik', 'Jalan Marka', 'Jalan Lubang']\n",
        "cmx_svm = confusion_matrix(y_test, best_pred, labels=label_names)\n",
        "df = pd.DataFrame(cmx_svm, columns=label_names, index=label_names)\n",
        "df.columns.name = 'prediction'\n",
        "df.index.name = 'label'\n",
        "df"
      ],
      "execution_count": 33,
      "outputs": [
        {
          "output_type": "execute_result",
          "data": {
            "text/html": [
              "<div>\n",
              "<style scoped>\n",
              "    .dataframe tbody tr th:only-of-type {\n",
              "        vertical-align: middle;\n",
              "    }\n",
              "\n",
              "    .dataframe tbody tr th {\n",
              "        vertical-align: top;\n",
              "    }\n",
              "\n",
              "    .dataframe thead th {\n",
              "        text-align: right;\n",
              "    }\n",
              "</style>\n",
              "<table border=\"1\" class=\"dataframe\">\n",
              "  <thead>\n",
              "    <tr style=\"text-align: right;\">\n",
              "      <th>prediction</th>\n",
              "      <th>Jalan Baik</th>\n",
              "      <th>Jalan Marka</th>\n",
              "      <th>Jalan Lubang</th>\n",
              "    </tr>\n",
              "    <tr>\n",
              "      <th>label</th>\n",
              "      <th></th>\n",
              "      <th></th>\n",
              "      <th></th>\n",
              "    </tr>\n",
              "  </thead>\n",
              "  <tbody>\n",
              "    <tr>\n",
              "      <th>Jalan Baik</th>\n",
              "      <td>9</td>\n",
              "      <td>0</td>\n",
              "      <td>1</td>\n",
              "    </tr>\n",
              "    <tr>\n",
              "      <th>Jalan Marka</th>\n",
              "      <td>0</td>\n",
              "      <td>7</td>\n",
              "      <td>3</td>\n",
              "    </tr>\n",
              "    <tr>\n",
              "      <th>Jalan Lubang</th>\n",
              "      <td>2</td>\n",
              "      <td>0</td>\n",
              "      <td>8</td>\n",
              "    </tr>\n",
              "  </tbody>\n",
              "</table>\n",
              "</div>"
            ],
            "text/plain": [
              "prediction    Jalan Baik  Jalan Marka  Jalan Lubang\n",
              "label                                              \n",
              "Jalan Baik             9            0             1\n",
              "Jalan Marka            0            7             3\n",
              "Jalan Lubang           2            0             8"
            ]
          },
          "metadata": {},
          "execution_count": 33
        }
      ]
    },
    {
      "cell_type": "code",
      "metadata": {
        "colab": {
          "base_uri": "https://localhost:8080/",
          "height": 225
        },
        "id": "5smc3UyDCYUN",
        "outputId": "2fc80b79-d1d4-4b8d-85ac-af3c1cf89a9e"
      },
      "source": [
        "plot_confusion_matrix(cmx, vmax1=225, vmax2=100, vmax3=12)"
      ],
      "execution_count": 34,
      "outputs": [
        {
          "output_type": "display_data",
          "data": {
            "image/png": "[encoded data removed]",
            "text/plain": [
              "<Figure size 864x216 with 6 Axes>"
            ]
          },
          "metadata": {
            "needs_background": "light"
          }
        }
      ]
    },
    {
      "cell_type": "code",
      "metadata": {
        "colab": {
          "base_uri": "https://localhost:8080/",
          "height": 225
        },
        "id": "Kb1qod7DCa9G",
        "outputId": "e8075432-af65-4700-cabc-6323d9e94de4"
      },
      "source": [
        "plot_confusion_matrix(cmx_svm, vmax1=225, vmax2=100, vmax3=12)"
      ],
      "execution_count": 35,
      "outputs": [
        {
          "output_type": "display_data",
          "data": {
            "image/png": "[encoded data removed]",
            "text/plain": [
              "<Figure size 864x216 with 6 Axes>"
            ]
          },
          "metadata": {
            "needs_background": "light"
          }
        }
      ]
    },
    {
      "cell_type": "code",
      "metadata": {
        "colab": {
          "base_uri": "https://localhost:8080/"
        },
        "id": "VDeLkEuLCeAF",
        "outputId": "c54bef36-7e14-4a4e-faaa-30c19a5854fb"
      },
      "source": [
        "from sklearn.neural_network import MLPClassifier\n",
        "\n",
        "mlp_gs = MLPClassifier(max_iter=400, alpha= 0.001, learning_rate='adaptive', solver= 'adam', shuffle=False)\n",
        "\n",
        "mlp_gs.fit(X_train_prepared, y_train)\n"
      ],
      "execution_count": 36,
      "outputs": [
        {
          "output_type": "execute_result",
          "data": {
            "text/plain": [
              "MLPClassifier(activation='relu', alpha=0.001, batch_size='auto', beta_1=0.9,\n",
              "              beta_2=0.999, early_stopping=False, epsilon=1e-08,\n",
              "              hidden_layer_sizes=(100,), learning_rate='adaptive',\n",
              "              learning_rate_init=0.001, max_fun=15000, max_iter=400,\n",
              "              momentum=0.9, n_iter_no_change=10, nesterovs_momentum=True,\n",
              "              power_t=0.5, random_state=None, shuffle=False, solver='adam',\n",
              "              tol=0.0001, validation_fraction=0.1, verbose=False,\n",
              "              warm_start=False)"
            ]
          },
          "metadata": {},
          "execution_count": 36
        }
      ]
    },
    {
      "cell_type": "code",
      "metadata": {
        "id": "iWfXJ_ZcKGA1"
      },
      "source": [
        "X_test_gray = grayify.transform(X_test)\n",
        "X_test_hog = hogify.transform(X_test_gray)\n",
        "X_test_prepared = scalify.transform(X_test_hog)\n"
      ],
      "execution_count": 37,
      "outputs": []
    },
    {
      "cell_type": "code",
      "metadata": {
        "colab": {
          "base_uri": "https://localhost:8080/"
        },
        "id": "vcMNthyhKUJ7",
        "outputId": "a6c401fb-5868-4603-929d-faad777cfe92"
      },
      "source": [
        "y_pred = mlp_gs.predict(X_test_prepared)\n",
        "print(np.array(y_pred == y_test)[:30])\n",
        "print('')\n",
        "print('Percentage correct: ', 100*np.sum(y_pred == y_test)/len(y_test))\n",
        "\n"
      ],
      "execution_count": 38,
      "outputs": [
        {
          "output_type": "stream",
          "text": [
            "[ True  True  True  True False  True  True  True  True  True False  True\n",
            "  True  True  True  True  True  True  True  True  True  True  True False\n",
            "  True  True  True False  True  True]\n",
            "\n",
            "Percentage correct:  86.66666666666667\n"
          ],
          "name": "stdout"
        }
      ]
    },
    {
      "cell_type": "code",
      "metadata": {
        "colab": {
          "base_uri": "https://localhost:8080/",
          "height": 979
        },
        "id": "B56kYKZCKUKL",
        "outputId": "2571299f-5ce1-4cd0-f0ce-f769a9a63855"
      },
      "source": [
        "labels = y_test\n",
        "predictions = y_pred\n",
        "\n",
        "# put the data in a dataframe for pretty printing\n",
        "df = pd.DataFrame(\n",
        "    np.c_[labels, predictions], \n",
        "    columns=['true_label', 'prediction']\n",
        ")\n",
        "df"
      ],
      "execution_count": 39,
      "outputs": [
        {
          "output_type": "execute_result",
          "data": {
            "text/html": [
              "<div>\n",
              "<style scoped>\n",
              "    .dataframe tbody tr th:only-of-type {\n",
              "        vertical-align: middle;\n",
              "    }\n",
              "\n",
              "    .dataframe tbody tr th {\n",
              "        vertical-align: top;\n",
              "    }\n",
              "\n",
              "    .dataframe thead th {\n",
              "        text-align: right;\n",
              "    }\n",
              "</style>\n",
              "<table border=\"1\" class=\"dataframe\">\n",
              "  <thead>\n",
              "    <tr style=\"text-align: right;\">\n",
              "      <th></th>\n",
              "      <th>true_label</th>\n",
              "      <th>prediction</th>\n",
              "    </tr>\n",
              "  </thead>\n",
              "  <tbody>\n",
              "    <tr>\n",
              "      <th>0</th>\n",
              "      <td>Jalan Marka</td>\n",
              "      <td>Jalan Marka</td>\n",
              "    </tr>\n",
              "    <tr>\n",
              "      <th>1</th>\n",
              "      <td>Jalan Marka</td>\n",
              "      <td>Jalan Marka</td>\n",
              "    </tr>\n",
              "    <tr>\n",
              "      <th>2</th>\n",
              "      <td>Jalan Marka</td>\n",
              "      <td>Jalan Marka</td>\n",
              "    </tr>\n",
              "    <tr>\n",
              "      <th>3</th>\n",
              "      <td>Jalan Marka</td>\n",
              "      <td>Jalan Marka</td>\n",
              "    </tr>\n",
              "    <tr>\n",
              "      <th>4</th>\n",
              "      <td>Jalan Marka</td>\n",
              "      <td>Jalan Lubang</td>\n",
              "    </tr>\n",
              "    <tr>\n",
              "      <th>5</th>\n",
              "      <td>Jalan Marka</td>\n",
              "      <td>Jalan Marka</td>\n",
              "    </tr>\n",
              "    <tr>\n",
              "      <th>6</th>\n",
              "      <td>Jalan Marka</td>\n",
              "      <td>Jalan Marka</td>\n",
              "    </tr>\n",
              "    <tr>\n",
              "      <th>7</th>\n",
              "      <td>Jalan Marka</td>\n",
              "      <td>Jalan Marka</td>\n",
              "    </tr>\n",
              "    <tr>\n",
              "      <th>8</th>\n",
              "      <td>Jalan Marka</td>\n",
              "      <td>Jalan Marka</td>\n",
              "    </tr>\n",
              "    <tr>\n",
              "      <th>9</th>\n",
              "      <td>Jalan Marka</td>\n",
              "      <td>Jalan Marka</td>\n",
              "    </tr>\n",
              "    <tr>\n",
              "      <th>10</th>\n",
              "      <td>Jalan Lubang</td>\n",
              "      <td>Jalan Baik</td>\n",
              "    </tr>\n",
              "    <tr>\n",
              "      <th>11</th>\n",
              "      <td>Jalan Lubang</td>\n",
              "      <td>Jalan Lubang</td>\n",
              "    </tr>\n",
              "    <tr>\n",
              "      <th>12</th>\n",
              "      <td>Jalan Lubang</td>\n",
              "      <td>Jalan Lubang</td>\n",
              "    </tr>\n",
              "    <tr>\n",
              "      <th>13</th>\n",
              "      <td>Jalan Lubang</td>\n",
              "      <td>Jalan Lubang</td>\n",
              "    </tr>\n",
              "    <tr>\n",
              "      <th>14</th>\n",
              "      <td>Jalan Lubang</td>\n",
              "      <td>Jalan Lubang</td>\n",
              "    </tr>\n",
              "    <tr>\n",
              "      <th>15</th>\n",
              "      <td>Jalan Lubang</td>\n",
              "      <td>Jalan Lubang</td>\n",
              "    </tr>\n",
              "    <tr>\n",
              "      <th>16</th>\n",
              "      <td>Jalan Lubang</td>\n",
              "      <td>Jalan Lubang</td>\n",
              "    </tr>\n",
              "    <tr>\n",
              "      <th>17</th>\n",
              "      <td>Jalan Lubang</td>\n",
              "      <td>Jalan Lubang</td>\n",
              "    </tr>\n",
              "    <tr>\n",
              "      <th>18</th>\n",
              "      <td>Jalan Lubang</td>\n",
              "      <td>Jalan Lubang</td>\n",
              "    </tr>\n",
              "    <tr>\n",
              "      <th>19</th>\n",
              "      <td>Jalan Lubang</td>\n",
              "      <td>Jalan Lubang</td>\n",
              "    </tr>\n",
              "    <tr>\n",
              "      <th>20</th>\n",
              "      <td>Jalan Baik</td>\n",
              "      <td>Jalan Baik</td>\n",
              "    </tr>\n",
              "    <tr>\n",
              "      <th>21</th>\n",
              "      <td>Jalan Baik</td>\n",
              "      <td>Jalan Baik</td>\n",
              "    </tr>\n",
              "    <tr>\n",
              "      <th>22</th>\n",
              "      <td>Jalan Baik</td>\n",
              "      <td>Jalan Baik</td>\n",
              "    </tr>\n",
              "    <tr>\n",
              "      <th>23</th>\n",
              "      <td>Jalan Baik</td>\n",
              "      <td>Jalan Lubang</td>\n",
              "    </tr>\n",
              "    <tr>\n",
              "      <th>24</th>\n",
              "      <td>Jalan Baik</td>\n",
              "      <td>Jalan Baik</td>\n",
              "    </tr>\n",
              "    <tr>\n",
              "      <th>25</th>\n",
              "      <td>Jalan Baik</td>\n",
              "      <td>Jalan Baik</td>\n",
              "    </tr>\n",
              "    <tr>\n",
              "      <th>26</th>\n",
              "      <td>Jalan Baik</td>\n",
              "      <td>Jalan Baik</td>\n",
              "    </tr>\n",
              "    <tr>\n",
              "      <th>27</th>\n",
              "      <td>Jalan Baik</td>\n",
              "      <td>Jalan Lubang</td>\n",
              "    </tr>\n",
              "    <tr>\n",
              "      <th>28</th>\n",
              "      <td>Jalan Baik</td>\n",
              "      <td>Jalan Baik</td>\n",
              "    </tr>\n",
              "    <tr>\n",
              "      <th>29</th>\n",
              "      <td>Jalan Baik</td>\n",
              "      <td>Jalan Baik</td>\n",
              "    </tr>\n",
              "  </tbody>\n",
              "</table>\n",
              "</div>"
            ],
            "text/plain": [
              "      true_label    prediction\n",
              "0    Jalan Marka   Jalan Marka\n",
              "1    Jalan Marka   Jalan Marka\n",
              "2    Jalan Marka   Jalan Marka\n",
              "3    Jalan Marka   Jalan Marka\n",
              "4    Jalan Marka  Jalan Lubang\n",
              "5    Jalan Marka   Jalan Marka\n",
              "6    Jalan Marka   Jalan Marka\n",
              "7    Jalan Marka   Jalan Marka\n",
              "8    Jalan Marka   Jalan Marka\n",
              "9    Jalan Marka   Jalan Marka\n",
              "10  Jalan Lubang    Jalan Baik\n",
              "11  Jalan Lubang  Jalan Lubang\n",
              "12  Jalan Lubang  Jalan Lubang\n",
              "13  Jalan Lubang  Jalan Lubang\n",
              "14  Jalan Lubang  Jalan Lubang\n",
              "15  Jalan Lubang  Jalan Lubang\n",
              "16  Jalan Lubang  Jalan Lubang\n",
              "17  Jalan Lubang  Jalan Lubang\n",
              "18  Jalan Lubang  Jalan Lubang\n",
              "19  Jalan Lubang  Jalan Lubang\n",
              "20    Jalan Baik    Jalan Baik\n",
              "21    Jalan Baik    Jalan Baik\n",
              "22    Jalan Baik    Jalan Baik\n",
              "23    Jalan Baik  Jalan Lubang\n",
              "24    Jalan Baik    Jalan Baik\n",
              "25    Jalan Baik    Jalan Baik\n",
              "26    Jalan Baik    Jalan Baik\n",
              "27    Jalan Baik  Jalan Lubang\n",
              "28    Jalan Baik    Jalan Baik\n",
              "29    Jalan Baik    Jalan Baik"
            ]
          },
          "metadata": {},
          "execution_count": 39
        }
      ]
    },
    {
      "cell_type": "code",
      "metadata": {
        "id": "KnhK0VQkPGNa"
      },
      "source": [
        ""
      ],
      "execution_count": 39,
      "outputs": []
    }
  ]
}