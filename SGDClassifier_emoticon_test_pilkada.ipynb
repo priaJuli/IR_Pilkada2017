{
  "nbformat": 4,
  "nbformat_minor": 0,
  "metadata": {
    "colab": {
      "name": "SGDClassifier emoticon_test_pilkada.ipynb",
      "provenance": [],
      "collapsed_sections": [],
      "include_colab_link": true
    },
    "kernelspec": {
      "display_name": "Python 3",
      "language": "python",
      "name": "python3"
    },
    "language_info": {
      "codemirror_mode": {
        "name": "ipython",
        "version": 3
      },
      "file_extension": ".py",
      "mimetype": "text/x-python",
      "name": "python",
      "nbconvert_exporter": "python",
      "pygments_lexer": "ipython3",
      "version": "3.8.10"
    }
  },
  "cells": [
    {
      "cell_type": "markdown",
      "metadata": {
        "id": "view-in-github",
        "colab_type": "text"
      },
      "source": [
        "<a href=\"https://colab.research.google.com/github/priaJuli/IR_Pilkada2017/blob/main/SGDClassifier_emoticon_test_pilkada.ipynb\" target=\"_parent\"><img src=\"https://colab.research.google.com/assets/colab-badge.svg\" alt=\"Open In Colab\"/></a>"
      ]
    },
    {
      "cell_type": "code",
      "metadata": {
        "id": "L1P1RY3LKfFk"
      },
      "source": [
        "import re\n",
        "import numpy as np\n",
        "import pandas as pd\n",
        "\n",
        "pd.options.display.max_colwidth = 300"
      ],
      "execution_count": 1,
      "outputs": []
    },
    {
      "cell_type": "code",
      "metadata": {
        "id": "4QcOFWzfKfFo"
      },
      "source": [
        "import seaborn as sns\n",
        "from wordcloud import WordCloud\n",
        "import matplotlib.pyplot as plt"
      ],
      "execution_count": 2,
      "outputs": []
    },
    {
      "cell_type": "code",
      "metadata": {
        "id": "rcQUPLmtKfFp"
      },
      "source": [
        "# nltk\n",
        "# from nltk.stem import WordNetLemmatizer\n",
        "\n",
        "from nltk.stem import PorterStemmer \n",
        "   \n",
        "ps = PorterStemmer() "
      ],
      "execution_count": 3,
      "outputs": []
    },
    {
      "cell_type": "code",
      "metadata": {
        "id": "4ctNW6reKfFq"
      },
      "source": [
        "# sklearn\n",
        "from sklearn.svm import LinearSVC\n",
        "from sklearn.naive_bayes import BernoulliNB\n",
        "from sklearn.linear_model import LogisticRegression\n",
        "from sklearn.linear_model import SGDClassifier\n",
        "from sklearn.model_selection import train_test_split\n",
        "from sklearn.feature_extraction.text import TfidfVectorizer\n",
        "from sklearn.metrics import confusion_matrix, classification_report, accuracy_score "
      ],
      "execution_count": 4,
      "outputs": []
    },
    {
      "cell_type": "code",
      "metadata": {
        "colab": {
          "base_uri": "https://localhost:8080/"
        },
        "id": "JnJwm5XzKfFq",
        "outputId": "79317b0e-b93b-4a2f-f556-626996daf77b"
      },
      "source": [
        "url = 'https://raw.githubusercontent.com/priaJuli/IR_research/main/dataset_tweet_sentiment_pilkada_DKI_2017.csv'\n",
        "\n",
        "url_emoticon = 'https://raw.githubusercontent.com/FLAIST/emosent-py/master/emosent/data/Emoji_Sentiment_Data_v1.0.csv'\n",
        "\n",
        "# Importing the dataset\n",
        "DATASET_COLUMNS=['Id','target','Pasangan Calon','text']\n",
        "# ['target','ids','date','flag','user','text']\n",
        "emoticon_columns = ['Emoji','Unicode' 'codepoint','Unicode name']\n",
        "DATASET_ENCODING = \"ISO-8859-1\"\n",
        "df = pd.read_csv(url, names=DATASET_COLUMNS, skiprows=[0])\n",
        "\n",
        "df_emo = pd.read_csv(url_emoticon)\n",
        "\n",
        "df[\"target\"] = (df['target'] == \"positive\").astype(int)\n",
        "\n",
        "print(df.head())\n",
        "\n",
        "df_emo['Unicode name'] = df_emo['Unicode name'].str.lower()\n",
        "\n",
        "dictionary_emoticons = df_emo['Unicode name'].values\n",
        "\n",
        "dict_emoticons_replace = df_emo['Emoji'].values\n",
        "\n",
        "# print(df_emo['Unicode name'].head())\n",
        "\n",
        "# print(df_emo['Emoji'])\n",
        "\n",
        "print(dictionary_emoticons[0:5])\n",
        "\n",
        "print(dict_emoticons_replace[0:5])"
      ],
      "execution_count": 5,
      "outputs": [
        {
          "output_type": "stream",
          "text": [
            "   Id  ...                                                                                                                                     text\n",
            "0   1  ...  Banyak akun kloning seolah2 pendukung #agussilvy mulai menyerang paslon #aniessandi dengan opini dan argumen pmbenaran..jangan terkecoh\n",
            "1   2  ...                                                                         #agussilvy bicara apa kasihan yaa...lap itu air matanya wkwkwkwk\n",
            "2   3  ...             Kalau aku sih gak nunggu hasil akhir QC tp lagi nunggu motif cuitan pak @SBYudhoyono kayak apa.. pasca #AgusSilvy Nyungsep..\n",
            "3   4  ...           Kasian oh kasian dengan peluru 1milyar untuk tiap RW #agussilvy tidak mempan menangin pilkada #QuickCount #PilkadaSerentak2017\n",
            "4   5  ...                                              Maaf ya pendukung #AgusSilvy..hayo dukung #AniesSandi diputaran 2 @ronavioleta @NetizenTofa\n",
            "\n",
            "[5 rows x 4 columns]\n",
            "['face with tears of joy' 'heavy black heart' 'black heart suit'\n",
            " 'smiling face with heart-shaped eyes' 'loudly crying face']\n",
            "['😂' '❤' '♥' '😍' '😭']\n"
          ],
          "name": "stdout"
        }
      ]
    },
    {
      "cell_type": "code",
      "metadata": {
        "colab": {
          "base_uri": "https://localhost:8080/",
          "height": 238
        },
        "id": "0iyPjHNiKfFs",
        "outputId": "531df4a0-bdd7-4022-eb74-348bb87018ea"
      },
      "source": [
        "\n",
        "df.sample(5)\n"
      ],
      "execution_count": 6,
      "outputs": [
        {
          "output_type": "execute_result",
          "data": {
            "text/html": [
              "<div>\n",
              "<style scoped>\n",
              "    .dataframe tbody tr th:only-of-type {\n",
              "        vertical-align: middle;\n",
              "    }\n",
              "\n",
              "    .dataframe tbody tr th {\n",
              "        vertical-align: top;\n",
              "    }\n",
              "\n",
              "    .dataframe thead th {\n",
              "        text-align: right;\n",
              "    }\n",
              "</style>\n",
              "<table border=\"1\" class=\"dataframe\">\n",
              "  <thead>\n",
              "    <tr style=\"text-align: right;\">\n",
              "      <th></th>\n",
              "      <th>Id</th>\n",
              "      <th>target</th>\n",
              "      <th>Pasangan Calon</th>\n",
              "      <th>text</th>\n",
              "    </tr>\n",
              "  </thead>\n",
              "  <tbody>\n",
              "    <tr>\n",
              "      <th>740</th>\n",
              "      <td>741</td>\n",
              "      <td>0</td>\n",
              "      <td>Anies-Sandi</td>\n",
              "      <td>Boss.. bisa cabut pasang kaya kebijakan reklamasi! #OKEOCE</td>\n",
              "    </tr>\n",
              "    <tr>\n",
              "      <th>766</th>\n",
              "      <td>767</td>\n",
              "      <td>1</td>\n",
              "      <td>Anies-Sandi</td>\n",
              "      <td>Selamat untuk Pasangan No. 3 Anies- Sandi. #pilkadadki2017 @ Duren Tiga Selatan https://www.instagram.com/p/BTD7zIdFCwC/</td>\n",
              "    </tr>\n",
              "    <tr>\n",
              "      <th>169</th>\n",
              "      <td>170</td>\n",
              "      <td>1</td>\n",
              "      <td>Agus-Sylvi</td>\n",
              "      <td>soal mental kalah Pilkada, Indonesia harus berguru pada sosok AHY.</td>\n",
              "    </tr>\n",
              "    <tr>\n",
              "      <th>691</th>\n",
              "      <td>692</td>\n",
              "      <td>0</td>\n",
              "      <td>Anies-Sandi</td>\n",
              "      <td>#aniessandi #bhinekatunggalika #isusara Kubu Anies-Sandi Serukan Stop Politisasi Kebhinekaan http://dlvr.it/NtcTLN</td>\n",
              "    </tr>\n",
              "    <tr>\n",
              "      <th>274</th>\n",
              "      <td>275</td>\n",
              "      <td>1</td>\n",
              "      <td>Agus-Sylvi</td>\n",
              "      <td>#Djarot Apresiasi #AHY Relakan Relawannya Dukung #Ahok &lt;Clapping Hands&gt; &lt;Clapping Hands&gt; http://merahputih.com #merahputih #Indonesia #Jakarta #PilgubDKI #2017</td>\n",
              "    </tr>\n",
              "  </tbody>\n",
              "</table>\n",
              "</div>"
            ],
            "text/plain": [
              "      Id  ...                                                                                                                                                             text\n",
              "740  741  ...                                                                                                       Boss.. bisa cabut pasang kaya kebijakan reklamasi! #OKEOCE\n",
              "766  767  ...                                         Selamat untuk Pasangan No. 3 Anies- Sandi. #pilkadadki2017 @ Duren Tiga Selatan https://www.instagram.com/p/BTD7zIdFCwC/\n",
              "169  170  ...                                                                                               soal mental kalah Pilkada, Indonesia harus berguru pada sosok AHY.\n",
              "691  692  ...                                               #aniessandi #bhinekatunggalika #isusara Kubu Anies-Sandi Serukan Stop Politisasi Kebhinekaan http://dlvr.it/NtcTLN\n",
              "274  275  ...  #Djarot Apresiasi #AHY Relakan Relawannya Dukung #Ahok <Clapping Hands> <Clapping Hands> http://merahputih.com #merahputih #Indonesia #Jakarta #PilgubDKI #2017\n",
              "\n",
              "[5 rows x 4 columns]"
            ]
          },
          "metadata": {
            "tags": []
          },
          "execution_count": 6
        }
      ]
    },
    {
      "cell_type": "code",
      "metadata": {
        "colab": {
          "base_uri": "https://localhost:8080/"
        },
        "id": "NCoehkO7KfFt",
        "outputId": "354fec9c-bcb1-4dd3-8789-153d9145e821"
      },
      "source": [
        "df.columns"
      ],
      "execution_count": 7,
      "outputs": [
        {
          "output_type": "execute_result",
          "data": {
            "text/plain": [
              "Index(['Id', 'target', 'Pasangan Calon', 'text'], dtype='object')"
            ]
          },
          "metadata": {
            "tags": []
          },
          "execution_count": 7
        }
      ]
    },
    {
      "cell_type": "code",
      "metadata": {
        "colab": {
          "base_uri": "https://localhost:8080/"
        },
        "id": "3ierDn0nKfFu",
        "outputId": "6e60ab70-62c8-4853-f913-ad282cef2abc"
      },
      "source": [
        "print('length of data is', len(df))"
      ],
      "execution_count": 8,
      "outputs": [
        {
          "output_type": "stream",
          "text": [
            "length of data is 900\n"
          ],
          "name": "stdout"
        }
      ]
    },
    {
      "cell_type": "code",
      "metadata": {
        "colab": {
          "base_uri": "https://localhost:8080/"
        },
        "id": "edx84dcbKfFv",
        "outputId": "b9e6b83e-3e06-4299-f2c0-0c505018c237"
      },
      "source": [
        "df.shape"
      ],
      "execution_count": 9,
      "outputs": [
        {
          "output_type": "execute_result",
          "data": {
            "text/plain": [
              "(900, 4)"
            ]
          },
          "metadata": {
            "tags": []
          },
          "execution_count": 9
        }
      ]
    },
    {
      "cell_type": "code",
      "metadata": {
        "colab": {
          "base_uri": "https://localhost:8080/"
        },
        "id": "gA2QYdcmKfFw",
        "outputId": "f23524a8-77dd-4421-d071-432e0491657a"
      },
      "source": [
        "df.info()"
      ],
      "execution_count": 10,
      "outputs": [
        {
          "output_type": "stream",
          "text": [
            "<class 'pandas.core.frame.DataFrame'>\n",
            "RangeIndex: 900 entries, 0 to 899\n",
            "Data columns (total 4 columns):\n",
            " #   Column          Non-Null Count  Dtype \n",
            "---  ------          --------------  ----- \n",
            " 0   Id              900 non-null    int64 \n",
            " 1   target          900 non-null    int64 \n",
            " 2   Pasangan Calon  900 non-null    object\n",
            " 3   text            900 non-null    object\n",
            "dtypes: int64(2), object(2)\n",
            "memory usage: 28.2+ KB\n"
          ],
          "name": "stdout"
        }
      ]
    },
    {
      "cell_type": "code",
      "metadata": {
        "colab": {
          "base_uri": "https://localhost:8080/"
        },
        "id": "gK2p71YyKfFx",
        "outputId": "71044a16-d1bf-4af2-e272-283d485eb5f9"
      },
      "source": [
        "df.dtypes"
      ],
      "execution_count": 11,
      "outputs": [
        {
          "output_type": "execute_result",
          "data": {
            "text/plain": [
              "Id                 int64\n",
              "target             int64\n",
              "Pasangan Calon    object\n",
              "text              object\n",
              "dtype: object"
            ]
          },
          "metadata": {
            "tags": []
          },
          "execution_count": 11
        }
      ]
    },
    {
      "cell_type": "code",
      "metadata": {
        "colab": {
          "base_uri": "https://localhost:8080/"
        },
        "id": "m027waTqKfFy",
        "outputId": "c32378fb-8545-44d5-8275-b40cdf653fd3"
      },
      "source": [
        "df.isnull().sum()"
      ],
      "execution_count": 12,
      "outputs": [
        {
          "output_type": "execute_result",
          "data": {
            "text/plain": [
              "Id                0\n",
              "target            0\n",
              "Pasangan Calon    0\n",
              "text              0\n",
              "dtype: int64"
            ]
          },
          "metadata": {
            "tags": []
          },
          "execution_count": 12
        }
      ]
    },
    {
      "cell_type": "code",
      "metadata": {
        "colab": {
          "base_uri": "https://localhost:8080/"
        },
        "id": "osnkasx5KfFy",
        "outputId": "8cc13851-72d4-4d43-9eb9-ab17b63d9cca"
      },
      "source": [
        "print('Count of columns in the data is:  ', len(df.columns))\n",
        "print('Count of rows in the data is:     ', len(df))"
      ],
      "execution_count": 13,
      "outputs": [
        {
          "output_type": "stream",
          "text": [
            "Count of columns in the data is:   4\n",
            "Count of rows in the data is:      900\n"
          ],
          "name": "stdout"
        }
      ]
    },
    {
      "cell_type": "code",
      "metadata": {
        "colab": {
          "base_uri": "https://localhost:8080/"
        },
        "id": "eZB6rgxnKfFz",
        "outputId": "5ccc9923-3e65-4243-ec02-275dca3d7a39"
      },
      "source": [
        "df['target'].unique()"
      ],
      "execution_count": 14,
      "outputs": [
        {
          "output_type": "execute_result",
          "data": {
            "text/plain": [
              "array([0, 1])"
            ]
          },
          "metadata": {
            "tags": []
          },
          "execution_count": 14
        }
      ]
    },
    {
      "cell_type": "code",
      "metadata": {
        "colab": {
          "base_uri": "https://localhost:8080/"
        },
        "id": "InU3qjnVKfF0",
        "outputId": "3afd08dd-d9d1-4ed9-a780-eedc1c31350c"
      },
      "source": [
        "df['target'].nunique()"
      ],
      "execution_count": 15,
      "outputs": [
        {
          "output_type": "execute_result",
          "data": {
            "text/plain": [
              "2"
            ]
          },
          "metadata": {
            "tags": []
          },
          "execution_count": 15
        }
      ]
    },
    {
      "cell_type": "code",
      "metadata": {
        "colab": {
          "base_uri": "https://localhost:8080/",
          "height": 447
        },
        "id": "4jin3vQrKfF1",
        "outputId": "14e28060-df0d-4f8b-9601-578a866a38aa"
      },
      "source": [
        "# Plotting the distribution for dataset.\n",
        "print(df.groupby('target').count())\n",
        "ax = df.groupby('target').count().plot(kind='bar', title='Distribution of data',legend=True,figsize=(20, 5))\n",
        "ax.set_xticklabels(['Negative','Positive'], rotation=45)\n",
        "# for p in ax.patches:\n",
        "    # ax.annotate(str(p.get_height()), (p.get_x() * 1.01 , p.get_height() * 1.01))\n",
        "# Storing data in lists.\n",
        "text, sentiment = list(df['text']), list(df['target'])"
      ],
      "execution_count": 16,
      "outputs": [
        {
          "output_type": "stream",
          "text": [
            "         Id  Pasangan Calon  text\n",
            "target                           \n",
            "0       450             450   450\n",
            "1       450             450   450\n"
          ],
          "name": "stdout"
        },
        {
          "output_type": "display_data",
          "data": {
            "image/png": "[encoded data removed]",
            "text/plain": [
              "<Figure size 1440x360 with 1 Axes>"
            ]
          },
          "metadata": {
            "tags": [],
            "needs_background": "light"
          }
        }
      ]
    },
    {
      "cell_type": "code",
      "metadata": {
        "colab": {
          "base_uri": "https://localhost:8080/",
          "height": 334
        },
        "id": "YCAO2kZ2KfF2",
        "outputId": "e61f8fd6-2507-4c01-ecf0-d32bf0b8ceb7"
      },
      "source": [
        "import seaborn as sns\n",
        "plt.figure(figsize = (20,5))\n",
        "ax=sns.countplot(x='target', data=df)\n",
        "for p in ax.patches:\n",
        "    ax.annotate(str(p.get_height()), (p.get_x() * 1.01 , p.get_height() * 1.01))"
      ],
      "execution_count": 17,
      "outputs": [
        {
          "output_type": "display_data",
          "data": {
            "image/png": "[encoded data removed]",
            "text/plain": [
              "<Figure size 1440x360 with 1 Axes>"
            ]
          },
          "metadata": {
            "tags": [],
            "needs_background": "light"
          }
        }
      ]
    },
    {
      "cell_type": "code",
      "metadata": {
        "colab": {
          "base_uri": "https://localhost:8080/",
          "height": 204
        },
        "id": "kAq6aYIwKfF2",
        "outputId": "663267d2-dbf5-4d01-d108-edbbd7814e89"
      },
      "source": [
        "data=df[['text','target']]\n",
        "data.head()"
      ],
      "execution_count": 18,
      "outputs": [
        {
          "output_type": "execute_result",
          "data": {
            "text/html": [
              "<div>\n",
              "<style scoped>\n",
              "    .dataframe tbody tr th:only-of-type {\n",
              "        vertical-align: middle;\n",
              "    }\n",
              "\n",
              "    .dataframe tbody tr th {\n",
              "        vertical-align: top;\n",
              "    }\n",
              "\n",
              "    .dataframe thead th {\n",
              "        text-align: right;\n",
              "    }\n",
              "</style>\n",
              "<table border=\"1\" class=\"dataframe\">\n",
              "  <thead>\n",
              "    <tr style=\"text-align: right;\">\n",
              "      <th></th>\n",
              "      <th>text</th>\n",
              "      <th>target</th>\n",
              "    </tr>\n",
              "  </thead>\n",
              "  <tbody>\n",
              "    <tr>\n",
              "      <th>0</th>\n",
              "      <td>Banyak akun kloning seolah2 pendukung #agussilvy mulai menyerang paslon #aniessandi dengan opini dan argumen pmbenaran..jangan terkecoh</td>\n",
              "      <td>0</td>\n",
              "    </tr>\n",
              "    <tr>\n",
              "      <th>1</th>\n",
              "      <td>#agussilvy bicara apa kasihan yaa...lap itu air matanya wkwkwkwk</td>\n",
              "      <td>0</td>\n",
              "    </tr>\n",
              "    <tr>\n",
              "      <th>2</th>\n",
              "      <td>Kalau aku sih gak nunggu hasil akhir QC tp lagi nunggu motif cuitan pak @SBYudhoyono kayak apa.. pasca #AgusSilvy Nyungsep..</td>\n",
              "      <td>0</td>\n",
              "    </tr>\n",
              "    <tr>\n",
              "      <th>3</th>\n",
              "      <td>Kasian oh kasian dengan peluru 1milyar untuk tiap RW #agussilvy tidak mempan menangin pilkada #QuickCount #PilkadaSerentak2017</td>\n",
              "      <td>0</td>\n",
              "    </tr>\n",
              "    <tr>\n",
              "      <th>4</th>\n",
              "      <td>Maaf ya pendukung #AgusSilvy..hayo dukung #AniesSandi diputaran 2 @ronavioleta @NetizenTofa</td>\n",
              "      <td>0</td>\n",
              "    </tr>\n",
              "  </tbody>\n",
              "</table>\n",
              "</div>"
            ],
            "text/plain": [
              "                                                                                                                                      text  target\n",
              "0  Banyak akun kloning seolah2 pendukung #agussilvy mulai menyerang paslon #aniessandi dengan opini dan argumen pmbenaran..jangan terkecoh       0\n",
              "1                                                                         #agussilvy bicara apa kasihan yaa...lap itu air matanya wkwkwkwk       0\n",
              "2             Kalau aku sih gak nunggu hasil akhir QC tp lagi nunggu motif cuitan pak @SBYudhoyono kayak apa.. pasca #AgusSilvy Nyungsep..       0\n",
              "3           Kasian oh kasian dengan peluru 1milyar untuk tiap RW #agussilvy tidak mempan menangin pilkada #QuickCount #PilkadaSerentak2017       0\n",
              "4                                              Maaf ya pendukung #AgusSilvy..hayo dukung #AniesSandi diputaran 2 @ronavioleta @NetizenTofa       0"
            ]
          },
          "metadata": {
            "tags": []
          },
          "execution_count": 18
        }
      ]
    },
    {
      "cell_type": "code",
      "metadata": {
        "colab": {
          "base_uri": "https://localhost:8080/"
        },
        "id": "4Aip300eKfF3",
        "outputId": "78d00432-1e36-4dce-dde8-5a5d33e8bbe2"
      },
      "source": [
        "data['target'] = data['target'].replace(4,1)\n",
        "data['target'].value_counts()"
      ],
      "execution_count": 19,
      "outputs": [
        {
          "output_type": "stream",
          "text": [
            "/usr/local/lib/python3.7/dist-packages/ipykernel_launcher.py:1: SettingWithCopyWarning: \n",
            "A value is trying to be set on a copy of a slice from a DataFrame.\n",
            "Try using .loc[row_indexer,col_indexer] = value instead\n",
            "\n",
            "See the caveats in the documentation: https://pandas.pydata.org/pandas-docs/stable/user_guide/indexing.html#returning-a-view-versus-a-copy\n",
            "  \"\"\"Entry point for launching an IPython kernel.\n"
          ],
          "name": "stderr"
        },
        {
          "output_type": "execute_result",
          "data": {
            "text/plain": [
              "1    450\n",
              "0    450\n",
              "Name: target, dtype: int64"
            ]
          },
          "metadata": {
            "tags": []
          },
          "execution_count": 19
        }
      ]
    },
    {
      "cell_type": "code",
      "metadata": {
        "colab": {
          "base_uri": "https://localhost:8080/"
        },
        "id": "466bxSDHKfF3",
        "outputId": "9bd6d317-ce1c-4caa-99c8-1d7cb559068f"
      },
      "source": [
        "data['target'].unique()"
      ],
      "execution_count": 20,
      "outputs": [
        {
          "output_type": "execute_result",
          "data": {
            "text/plain": [
              "array([0, 1])"
            ]
          },
          "metadata": {
            "tags": []
          },
          "execution_count": 20
        }
      ]
    },
    {
      "cell_type": "code",
      "metadata": {
        "colab": {
          "base_uri": "https://localhost:8080/"
        },
        "id": "vPl_JU1IKfF4",
        "scrolled": true,
        "outputId": "f17e2f16-7852-4dcd-934b-ccec166156fc"
      },
      "source": [
        "data_pos = data[data['target'] == 1]\n",
        "data_pos.head()\n",
        "print(len(data_pos))"
      ],
      "execution_count": 21,
      "outputs": [
        {
          "output_type": "stream",
          "text": [
            "450\n"
          ],
          "name": "stdout"
        }
      ]
    },
    {
      "cell_type": "code",
      "metadata": {
        "colab": {
          "base_uri": "https://localhost:8080/"
        },
        "id": "RaHSaOqqKfF4",
        "outputId": "eb3fde24-e80f-4c05-8c47-51de1a91933d"
      },
      "source": [
        "data_neg = data[data['target'] == 0]\n",
        "data_neg.head()\n",
        "print(len(data_neg))"
      ],
      "execution_count": 22,
      "outputs": [
        {
          "output_type": "stream",
          "text": [
            "450\n"
          ],
          "name": "stdout"
        }
      ]
    },
    {
      "cell_type": "code",
      "metadata": {
        "colab": {
          "base_uri": "https://localhost:8080/",
          "height": 238
        },
        "id": "PVUdDR-aKfF4",
        "outputId": "b48f85f8-aca0-45ec-e3f1-dc90ff179668"
      },
      "source": [
        "data_pos = data_pos.iloc[:]\n",
        "data_neg = data_neg.iloc[:]\n",
        "print(type(data_pos))\n",
        "print(type(data_neg))\n",
        "dataset = pd.concat([data_pos, data_neg])\n",
        "dataset\n",
        "dataset.head()"
      ],
      "execution_count": 23,
      "outputs": [
        {
          "output_type": "stream",
          "text": [
            "<class 'pandas.core.frame.DataFrame'>\n",
            "<class 'pandas.core.frame.DataFrame'>\n"
          ],
          "name": "stdout"
        },
        {
          "output_type": "execute_result",
          "data": {
            "text/html": [
              "<div>\n",
              "<style scoped>\n",
              "    .dataframe tbody tr th:only-of-type {\n",
              "        vertical-align: middle;\n",
              "    }\n",
              "\n",
              "    .dataframe tbody tr th {\n",
              "        vertical-align: top;\n",
              "    }\n",
              "\n",
              "    .dataframe thead th {\n",
              "        text-align: right;\n",
              "    }\n",
              "</style>\n",
              "<table border=\"1\" class=\"dataframe\">\n",
              "  <thead>\n",
              "    <tr style=\"text-align: right;\">\n",
              "      <th></th>\n",
              "      <th>text</th>\n",
              "      <th>target</th>\n",
              "    </tr>\n",
              "  </thead>\n",
              "  <tbody>\n",
              "    <tr>\n",
              "      <th>150</th>\n",
              "      <td>Doa ku.. Semoga suaranya mas Agus-Sylvi beneran ke #Badja #PilkadaDKI2017 yakin kan mas Agus.. Aku pada mu..</td>\n",
              "      <td>1</td>\n",
              "    </tr>\n",
              "    <tr>\n",
              "      <th>151</th>\n",
              "      <td>Terima kasih mas @AgusYudhoyono, karenamu anak muda telah berani menyuarakan perubahan. Kami tetap bersamamu #YNWA</td>\n",
              "      <td>1</td>\n",
              "    </tr>\n",
              "    <tr>\n",
              "      <th>152</th>\n",
              "      <td>KETEMU DI ISTIQLAL Bangga Pernah Jadi Bagian Dari @AgusYudhoyono dan @sylviana_murni @ZaraZettiraZr @AhyCenter @SohibAHY</td>\n",
              "      <td>1</td>\n",
              "    </tr>\n",
              "    <tr>\n",
              "      <th>153</th>\n",
              "      <td>Tersingkir dari kancah pilkada DKI, rupanya ada cara lain untuk mengangkat seseorang #AHY Mendunia</td>\n",
              "      <td>1</td>\n",
              "    </tr>\n",
              "    <tr>\n",
              "      <th>154</th>\n",
              "      <td>Dalam Pilkada DKI, AHY juga mampu menunjukkan kualitasnya sebagai seorang pemimpin muda yang berjiwa ksatria. (AHY mendunia)</td>\n",
              "      <td>1</td>\n",
              "    </tr>\n",
              "  </tbody>\n",
              "</table>\n",
              "</div>"
            ],
            "text/plain": [
              "                                                                                                                             text  target\n",
              "150                  Doa ku.. Semoga suaranya mas Agus-Sylvi beneran ke #Badja #PilkadaDKI2017 yakin kan mas Agus.. Aku pada mu..       1\n",
              "151            Terima kasih mas @AgusYudhoyono, karenamu anak muda telah berani menyuarakan perubahan. Kami tetap bersamamu #YNWA       1\n",
              "152      KETEMU DI ISTIQLAL Bangga Pernah Jadi Bagian Dari @AgusYudhoyono dan @sylviana_murni @ZaraZettiraZr @AhyCenter @SohibAHY       1\n",
              "153                            Tersingkir dari kancah pilkada DKI, rupanya ada cara lain untuk mengangkat seseorang #AHY Mendunia       1\n",
              "154  Dalam Pilkada DKI, AHY juga mampu menunjukkan kualitasnya sebagai seorang pemimpin muda yang berjiwa ksatria. (AHY mendunia)       1"
            ]
          },
          "metadata": {
            "tags": []
          },
          "execution_count": 23
        }
      ]
    },
    {
      "cell_type": "code",
      "metadata": {
        "colab": {
          "base_uri": "https://localhost:8080/"
        },
        "id": "cwPwh0DbKfF5",
        "outputId": "447c56f1-ed26-4bc9-aaf5-3aff68f412bb"
      },
      "source": [
        "dataset['text']=dataset['text'].str.lower()\n",
        "print(dataset['text'][13])\n",
        "print(dataset['text'][210])\n",
        "print(dataset['text'][305])\n",
        "print(dataset['text'][373])\n",
        "print(dataset['text'][552])\n",
        "\n",
        "dataset['text'].sample(5)"
      ],
      "execution_count": 24,
      "outputs": [
        {
          "output_type": "stream",
          "text": [
            "aku juga kemarin #ahy 19april2017 suaraku utk paslon 3 #dki\n",
            "salam untuk kaum muda. hormat pada yang tua. #ahy\n",
            "ahok menang tipis di tps tempat habib rizieq mencoblos https://goo.gl/fb/4fdytd  #seruji #fokus #pilkadadki2017\n",
            "hati hati komentar tentang #ahokdjarot #kalahpilkada, ujung2nya anda dituduh nyinyir\n",
            "#duajari #ahokdjarot #badja #salamduajari #duajari #kode #code #gangster #farmer #foodhero https://www.instagram.com/p/bs1x10_bovd/\n"
          ],
          "name": "stdout"
        },
        {
          "output_type": "execute_result",
          "data": {
            "text/plain": [
              "16                                                                   kalau pencatutan nama #ahy dan mpo #silvi melanggar hukum ga ya.. wkwkwkwkkwkk\n",
              "635    jangan kotori lagi balai kota dengan karangan bunga http://obsessionnews.com @habiburokhman #ahokdjarot #ahok #anies #aniessandi #mayday2017\n",
              "111         ahy sangat cemas terhadap situasi sosial usai pilkada jakarta: pilkada dki jakarta berdampak negatif bukan hanyaâ€¦ http://dlvr.it/pgqy\n",
              "641                                   bikin macet, warga kelapa gading harap proyek tidak mangkrak https://goo.gl/nlm8xl  #aniessandi #kelapagading\n",
              "756                                         mari lebih bekerja keras dan semoga dapat mengemban amanah. #aniessandi #amanatnasional #pilkadadki2017\n",
              "Name: text, dtype: object"
            ]
          },
          "metadata": {
            "tags": []
          },
          "execution_count": 24
        }
      ]
    },
    {
      "cell_type": "code",
      "metadata": {
        "colab": {
          "base_uri": "https://localhost:8080/"
        },
        "id": "y5ow6cdtLH1s",
        "outputId": "95844255-1d0f-43d5-b319-45aa124bea66"
      },
      "source": [
        "!pip install Sastrawi"
      ],
      "execution_count": 25,
      "outputs": [
        {
          "output_type": "stream",
          "text": [
            "Requirement already satisfied: Sastrawi in /usr/local/lib/python3.7/dist-packages (1.0.1)\n"
          ],
          "name": "stdout"
        }
      ]
    },
    {
      "cell_type": "code",
      "metadata": {
        "colab": {
          "base_uri": "https://localhost:8080/"
        },
        "id": "iNjLKBTaei7f",
        "outputId": "72e078fb-a54a-420a-a510-9e2c786a399d"
      },
      "source": [
        "# print(dataset['text'][305])\n",
        "# print(dataset['text'][564])\n",
        "\n",
        "# a_string = \"this is a <ki_te2> <ki_te1> message\"\n",
        "# result = re.findall(r\"\\<([A-Za-z0-9_]+)\\>\", a_string)\n",
        "# print(\"\".join(result))\n",
        "\n",
        "# print(dictionary_emoticons[0:5])\n",
        "# print(dict_emoticons_replace[0:5])\n",
        "\n",
        "for idx in range(len(dictionary_emoticons)):\n",
        "  dict_emoji = \"<{}>\".format(dictionary_emoticons[idx])\n",
        "  dictionary_emoticons[idx] = dict_emoji\n",
        "  # print(dict_emoji)\n",
        "  emoji_replace = dict_emoticons_replace[idx]\n",
        "  dataset['text'] = dataset['text'].replace(dict_emoji, emoji_replace, regex=True)\n",
        "\n",
        "# dataset['text'] = dataset['text'].replace(\"<face without mouth>\", \"LOL\", regex=True)\n",
        "print(dataset['text'][305])\n",
        "print(dataset['text'][564])\n",
        "print(dataset['text'][725])"
      ],
      "execution_count": 26,
      "outputs": [
        {
          "output_type": "stream",
          "text": [
            "ahok menang tipis di tps tempat habib rizieq mencoblos https://goo.gl/fb/4fdytd  #seruji #fokus #pilkadadki2017\n",
            "saya percaya, kondisi cuaca beberapa hari sebelum pilkada dki ikut serta memberikan kontribusi positif ke ahok-djarot. aku 2!! ✌ ✌\n",
            "dan nginulpun terdiam 😶 . #dacademy4 salam #okeoce, #coblospecinya\n"
          ],
          "name": "stdout"
        }
      ]
    },
    {
      "cell_type": "code",
      "metadata": {
        "colab": {
          "base_uri": "https://localhost:8080/"
        },
        "id": "8y2bRLB3VWIy",
        "outputId": "0aa5e772-2ca5-4c28-8735-5df58db15035"
      },
      "source": [
        "def get_emoticon(text):\n",
        "    values = \" \".join([word for word in str(text).split() if word in dict_emoticons_replace])\n",
        "    values = \" \"+values\n",
        "    return values\n",
        "\n",
        "dataset['only_emoji'] = dataset['text'].apply(lambda text: get_emoticon(text))\n",
        "print(dataset['only_emoji'][725])\n",
        "print(dataset['text'][305])\n",
        "print(dataset['text'][564])\n",
        "print(dataset['text'][725])"
      ],
      "execution_count": 27,
      "outputs": [
        {
          "output_type": "stream",
          "text": [
            " 😶\n",
            "ahok menang tipis di tps tempat habib rizieq mencoblos https://goo.gl/fb/4fdytd  #seruji #fokus #pilkadadki2017\n",
            "saya percaya, kondisi cuaca beberapa hari sebelum pilkada dki ikut serta memberikan kontribusi positif ke ahok-djarot. aku 2!! ✌ ✌\n",
            "dan nginulpun terdiam 😶 . #dacademy4 salam #okeoce, #coblospecinya\n"
          ],
          "name": "stdout"
        }
      ]
    },
    {
      "cell_type": "code",
      "metadata": {
        "colab": {
          "base_uri": "https://localhost:8080/"
        },
        "id": "weRkONHWKfF5",
        "outputId": "7f3304af-05fa-48e0-a7f2-fd6c8e81cedd"
      },
      "source": [
        "from Sastrawi.StopWordRemover.StopWordRemoverFactory import StopWordRemoverFactory, StopWordRemover, ArrayDictionary\n",
        "from nltk.tokenize import word_tokenize \n",
        " \n",
        "\n",
        "stop_factory = StopWordRemoverFactory().get_stop_words()\n",
        "print(stop_factory)"
      ],
      "execution_count": 28,
      "outputs": [
        {
          "output_type": "stream",
          "text": [
            "['yang', 'untuk', 'pada', 'ke', 'para', 'namun', 'menurut', 'antara', 'dia', 'dua', 'ia', 'seperti', 'jika', 'jika', 'sehingga', 'kembali', 'dan', 'tidak', 'ini', 'karena', 'kepada', 'oleh', 'saat', 'harus', 'sementara', 'setelah', 'belum', 'kami', 'sekitar', 'bagi', 'serta', 'di', 'dari', 'telah', 'sebagai', 'masih', 'hal', 'ketika', 'adalah', 'itu', 'dalam', 'bisa', 'bahwa', 'atau', 'hanya', 'kita', 'dengan', 'akan', 'juga', 'ada', 'mereka', 'sudah', 'saya', 'terhadap', 'secara', 'agar', 'lain', 'anda', 'begitu', 'mengapa', 'kenapa', 'yaitu', 'yakni', 'daripada', 'itulah', 'lagi', 'maka', 'tentang', 'demi', 'dimana', 'kemana', 'pula', 'sambil', 'sebelum', 'sesudah', 'supaya', 'guna', 'kah', 'pun', 'sampai', 'sedangkan', 'selagi', 'sementara', 'tetapi', 'apakah', 'kecuali', 'sebab', 'selain', 'seolah', 'seraya', 'seterusnya', 'tanpa', 'agak', 'boleh', 'dapat', 'dsb', 'dst', 'dll', 'dahulu', 'dulunya', 'anu', 'demikian', 'tapi', 'ingin', 'juga', 'nggak', 'mari', 'nanti', 'melainkan', 'oh', 'ok', 'seharusnya', 'sebetulnya', 'setiap', 'setidaknya', 'sesuatu', 'pasti', 'saja', 'toh', 'ya', 'walau', 'tolong', 'tentu', 'amat', 'apalagi', 'bagaimanapun']\n"
          ],
          "name": "stdout"
        }
      ]
    },
    {
      "cell_type": "code",
      "metadata": {
        "colab": {
          "base_uri": "https://localhost:8080/"
        },
        "id": "HioZfXf6KfF6",
        "outputId": "2855d650-8c7c-4cb6-d106-d6b8818b47e9"
      },
      "source": [
        "def cleaning_stopwords(text):\n",
        "    return \" \".join([word for word in str(text).split() if word not in stop_factory])\n",
        "dataset['text'] = dataset['text'].apply(lambda text: cleaning_stopwords(text))\n",
        "\n",
        "print(dataset['text'][305])\n",
        "print(dataset['text'][552])\n",
        "\n",
        "dataset['text'].sample(5)"
      ],
      "execution_count": 29,
      "outputs": [
        {
          "output_type": "stream",
          "text": [
            "ahok menang tipis tps tempat habib rizieq mencoblos https://goo.gl/fb/4fdytd #seruji #fokus #pilkadadki2017\n",
            "#duajari #ahokdjarot #badja #salamduajari #duajari #kode #code #gangster #farmer #foodhero https://www.instagram.com/p/bs1x10_bovd/\n"
          ],
          "name": "stdout"
        },
        {
          "output_type": "execute_result",
          "data": {
            "text/plain": [
              "41                                               cari teman kok cara gitu ya.. pdhal #ahy sdh jelas. gubernur baru...@mastbp\n",
              "423    kuota @aagym habis makanya mengikuti berita @warta_mui @mata #indonesia #pilkadadki #aniessandi #voteahok #ahokdjarot\n",
              "395                                                       simpatik aja segini, ga simpatik seberapa yak #ahok4ri #ahokdjarot\n",
              "299                                       bukan #ahy sdh menunjukkan jiwa besar hasil pilkada sulit, sungguh sulit deklarasi\n",
              "738         ko beberapa polling, kini goreng soal kpud netral, kamvreetttt.... #pilkadadki2017 #debatfinalpilkadadki #okeoce\n",
              "Name: text, dtype: object"
            ]
          },
          "metadata": {
            "tags": []
          },
          "execution_count": 29
        }
      ]
    },
    {
      "cell_type": "code",
      "metadata": {
        "colab": {
          "base_uri": "https://localhost:8080/"
        },
        "id": "JLMWuWFeKfF6",
        "outputId": "a7137bf8-a585-4590-e61a-ea06053f1c76"
      },
      "source": [
        "def cleaning_URLs(data):\n",
        "    return re.sub('http[s]?://\\S+', '', data)\n",
        "dataset['text'] = dataset['text'].apply(lambda x: cleaning_URLs(x))\n",
        "\n",
        "print(dataset['text'][305])\n",
        "print(dataset['text'][552])\n",
        "\n",
        "dataset['text'].head()\n",
        "\n"
      ],
      "execution_count": 30,
      "outputs": [
        {
          "output_type": "stream",
          "text": [
            "ahok menang tipis tps tempat habib rizieq mencoblos  #seruji #fokus #pilkadadki2017\n",
            "#duajari #ahokdjarot #badja #salamduajari #duajari #kode #code #gangster #farmer #foodhero \n"
          ],
          "name": "stdout"
        },
        {
          "output_type": "execute_result",
          "data": {
            "text/plain": [
              "150            doa ku.. semoga suaranya mas agus-sylvi beneran #badja #pilkadadki2017 yakin kan mas agus.. aku mu..\n",
              "151         terima kasih mas @agusyudhoyono, karenamu anak muda berani menyuarakan perubahan. tetap bersamamu #ynwa\n",
              "152    ketemu istiqlal bangga pernah jadi bagian @agusyudhoyono @sylviana_murni @zarazettirazr @ahycenter @sohibahy\n",
              "153                                  tersingkir kancah pilkada dki, rupanya cara mengangkat seseorang #ahy mendunia\n",
              "154            pilkada dki, ahy mampu menunjukkan kualitasnya seorang pemimpin muda berjiwa ksatria. (ahy mendunia)\n",
              "Name: text, dtype: object"
            ]
          },
          "metadata": {
            "tags": []
          },
          "execution_count": 30
        }
      ]
    },
    {
      "cell_type": "code",
      "metadata": {
        "colab": {
          "base_uri": "https://localhost:8080/"
        },
        "id": "UWo9fS99KfF7",
        "outputId": "26f8968b-5e63-4201-9349-2b87554b2486"
      },
      "source": [
        "import string\n",
        "english_punctuations = string.punctuation\n",
        "punctuations_list = english_punctuations\n",
        "def cleaning_punctuations(text):\n",
        "    translator = str.maketrans('', '', punctuations_list)\n",
        "    return text.translate(translator)\n",
        "dataset['text']= dataset['text'].apply(lambda x: cleaning_punctuations(x))\n",
        "\n",
        "print(dataset['text'][305])\n",
        "print(dataset['text'][552])\n",
        "\n",
        "dataset['text'].sample(5)\n"
      ],
      "execution_count": 31,
      "outputs": [
        {
          "output_type": "stream",
          "text": [
            "ahok menang tipis tps tempat habib rizieq mencoblos  seruji fokus pilkadadki2017\n",
            "duajari ahokdjarot badja salamduajari duajari kode code gangster farmer foodhero \n"
          ],
          "name": "stdout"
        },
        {
          "output_type": "execute_result",
          "data": {
            "text/plain": [
              "4                                        maaf pendukung agussilvyhayo dukung aniessandi diputaran 2 ronavioleta netizentofa\n",
              "625                 ko beberapa polling kini goreng soal kpud netral kamvreetttt pilkadadki2017 debatfinalpilkadadki okeoce\n",
              "249    salam wallahulmuwafiq ilaaqwamithoriq sandiuno mencerminkan beliau nu sejak jatuh hati meski waktu ahy agusyudhoyono\n",
              "255                                     waktu  ah sudahlah frowning face didienazhar ahy no 1 thumbs up thumbs up thumbs up\n",
              "160          agusyudhoyono semangat terus pak ahy faktor kekalahan pilkada waktu kemarin wakil pak ahy maju lagi insyaalloh\n",
              "Name: text, dtype: object"
            ]
          },
          "metadata": {
            "tags": []
          },
          "execution_count": 31
        }
      ]
    },
    {
      "cell_type": "code",
      "metadata": {
        "colab": {
          "base_uri": "https://localhost:8080/"
        },
        "id": "DW2r37F4KfF7",
        "outputId": "2979bfcd-6a84-452d-a831-973fbbf03d2b"
      },
      "source": [
        "\n",
        "def cleaning_repeating_char(text):\n",
        "    return ' '.join(dict.fromkeys(text.split()))\n",
        "dataset['text'] = dataset['text'].apply(lambda x: cleaning_repeating_char(x))\n",
        "print(dataset['text'][305])\n",
        "print(dataset['text'][552])\n"
      ],
      "execution_count": 32,
      "outputs": [
        {
          "output_type": "stream",
          "text": [
            "ahok menang tipis tps tempat habib rizieq mencoblos seruji fokus pilkadadki2017\n",
            "duajari ahokdjarot badja salamduajari kode code gangster farmer foodhero\n"
          ],
          "name": "stdout"
        }
      ]
    },
    {
      "cell_type": "code",
      "metadata": {
        "colab": {
          "base_uri": "https://localhost:8080/"
        },
        "id": "kgwYLsLfKfF7",
        "outputId": "2c1c7c61-f78b-404b-a199-7db001e26075"
      },
      "source": [
        "def cleaning_numbers(data):\n",
        "    return re.sub('[0-9]+', '', data)\n",
        "dataset['text'] = dataset['text'].apply(lambda x: cleaning_numbers(x))\n",
        "print(dataset['text'][13])\n",
        "print(dataset['text'][210])\n",
        "print(dataset['text'][305])\n",
        "print(dataset['text'][373])\n",
        "print(dataset['text'][725])\n",
        "dataset['text'].head()"
      ],
      "execution_count": 33,
      "outputs": [
        {
          "output_type": "stream",
          "text": [
            "aku kemarin ahy april suaraku utk paslon  dki\n",
            "salam kaum muda hormat tua ahy\n",
            "ahok menang tipis tps tempat habib rizieq mencoblos seruji fokus pilkadadki\n",
            "hati komentar ahokdjarot kalahpilkada ujungnya dituduh nyinyir\n",
            "nginulpun terdiam 😶 dacademy salam okeoce coblospecinya\n"
          ],
          "name": "stdout"
        },
        {
          "output_type": "execute_result",
          "data": {
            "text/plain": [
              "150                       doa ku semoga suaranya mas agussylvi beneran badja pilkadadki yakin kan agus aku mu\n",
              "151       terima kasih mas agusyudhoyono karenamu anak muda berani menyuarakan perubahan tetap bersamamu ynwa\n",
              "152    ketemu istiqlal bangga pernah jadi bagian agusyudhoyono sylvianamurni zarazettirazr ahycenter sohibahy\n",
              "153                              tersingkir kancah pilkada dki rupanya cara mengangkat seseorang ahy mendunia\n",
              "154              pilkada dki ahy mampu menunjukkan kualitasnya seorang pemimpin muda berjiwa ksatria mendunia\n",
              "Name: text, dtype: object"
            ]
          },
          "metadata": {
            "tags": []
          },
          "execution_count": 33
        }
      ]
    },
    {
      "cell_type": "code",
      "metadata": {
        "colab": {
          "base_uri": "https://localhost:8080/"
        },
        "id": "FHE4DymyKfF8",
        "outputId": "d6767705-cd86-49bf-d8d0-1c425c9ee294"
      },
      "source": [
        "import nltk\n",
        "st = nltk.PorterStemmer()\n",
        "\n",
        "from Sastrawi.Stemmer.StemmerFactory import StemmerFactory\n",
        "factory = StemmerFactory()\n",
        "st = factory.create_stemmer()\n",
        "\n",
        "def stemming_on_text(data):\n",
        "    return st.stem(data)\n",
        "dataset['text']= dataset['text'].apply(lambda x: stemming_on_text(x))\n",
        "\n",
        "print(dataset['text'][13])\n",
        "print(dataset['text'][210])\n",
        "print(dataset['text'][305])\n",
        "print(dataset['text'][373])\n",
        "print(dataset['text'][552])\n",
        "\n",
        "dataset['text'].head()\n",
        "\n"
      ],
      "execution_count": 34,
      "outputs": [
        {
          "output_type": "stream",
          "text": [
            "aku kemarin ahy april suara utk paslon dki\n",
            "salam kaum muda hormat tua ahy\n",
            "ahok menang tipis tps tempat habib rizieq coblos ruji fokus pilkadadki\n",
            "hati komentar ahokdjarot kalahpilkada ujung tuduh nyinyir\n",
            "duajari ahokdjarot badja salamduajari kode code gangster farmer foodhero\n"
          ],
          "name": "stdout"
        },
        {
          "output_type": "execute_result",
          "data": {
            "text/plain": [
              "150                          doa ku moga suara mas agussylvi beneran badja pilkadadki yakin kan agus aku mu\n",
              "151                       terima kasih mas agusyudhoyono karena anak muda berani suara ubah tetap sama ynwa\n",
              "152    ketemu istiqlal bangga pernah jadi bagi agusyudhoyono sylvianamurni zarazettirazr ahycenter sohibahy\n",
              "153                                             singkir kancah pilkada dki rupa cara angkat orang ahy dunia\n",
              "154                              pilkada dki ahy mampu tunjuk kualitas orang pimpin muda jiwa ksatria dunia\n",
              "Name: text, dtype: object"
            ]
          },
          "metadata": {
            "tags": []
          },
          "execution_count": 34
        }
      ]
    },
    {
      "cell_type": "code",
      "metadata": {
        "id": "cSDIwXvcKfF8"
      },
      "source": [
        "# import nltk\n",
        "\n",
        "# nltk.download('wordnet')\n",
        "# from nltk.stem import WordNetLemmatizer \n",
        "\n",
        "# # Init the Wordnet Lemmatizer\n",
        "# lm = WordNetLemmatizer()\n",
        "\n",
        "# def lemmatizer_on_text(data):\n",
        "#     text = [lm.lemmatize(word) for word in data]\n",
        "#     return data\n",
        "# dataset['text'] = dataset['text'].apply(lambda x: lemmatizer_on_text(x))\n",
        "\n",
        "# print(dataset['text'][305])\n",
        "# print(dataset['text'][552])\n",
        "# print(dataset['text'][564])\n",
        "# print(dataset['text'][725])\n",
        "\n",
        "# dataset['text'].head()"
      ],
      "execution_count": 35,
      "outputs": []
    },
    {
      "cell_type": "code",
      "metadata": {
        "colab": {
          "base_uri": "https://localhost:8080/"
        },
        "id": "1hvklmqmaNgq",
        "outputId": "9e974696-4f43-46a6-ff01-9a4a422669e4"
      },
      "source": [
        "# print(dataset['only_emoji'].head())\n",
        "\n",
        "# print(dataset['only_emoji'])\n",
        "\n",
        "dataset['text'] = dataset['text'].str.cat(dataset['only_emoji'], join=\"left\")\n",
        "\n",
        "print(dataset['text'][711])\n",
        "print(dataset['text'][120])\n",
        "print(dataset['text'][712])\n",
        "print(dataset['text'][373])\n",
        "print(dataset['text'][725])"
      ],
      "execution_count": 36,
      "outputs": [
        {
          "output_type": "stream",
          "text": [
            "jadi kalo kalah badja buat curang picik prabowo sebut aniessandi menang pilkada dki curang 😬\n",
            "ahy anieshilangya ahokdjarotdirosi kompastv rosiannahi sittayohag gunawanahokers gunjkt partaisocmed ulinyusron 😬 😬\n",
            "waktu kampanye sandi malah cianjur anies minta dukung aher hhmm jabar siap landa aniessandi zippermouth face kalah pilkada \n",
            "hati komentar ahokdjarot kalahpilkada ujung tuduh nyinyir \n",
            "nginulpun diam dacademy salam okeoce coblospecinya 😶\n"
          ],
          "name": "stdout"
        }
      ]
    },
    {
      "cell_type": "code",
      "metadata": {
        "colab": {
          "base_uri": "https://localhost:8080/"
        },
        "id": "_tUnHXeEKfF9",
        "outputId": "6dcdd140-e285-4582-efa5-79ef06af27ea"
      },
      "source": [
        "\n",
        "\n",
        "X=dataset.text\n",
        "X.sample(5)\n",
        "y=dataset.target\n",
        "y.sample(5)"
      ],
      "execution_count": 37,
      "outputs": [
        {
          "output_type": "execute_result",
          "data": {
            "text/plain": [
              "286    1\n",
              "297    1\n",
              "749    0\n",
              "813    1\n",
              "523    1\n",
              "Name: target, dtype: int64"
            ]
          },
          "metadata": {
            "tags": []
          },
          "execution_count": 37
        }
      ]
    },
    {
      "cell_type": "code",
      "metadata": {
        "colab": {
          "base_uri": "https://localhost:8080/"
        },
        "id": "zgMZnL50KfF9",
        "outputId": "c07d7355-3d78-4c1d-acb0-4720dbe29e97"
      },
      "source": [
        "X_train, X_test, y_train, y_test = train_test_split(X,y,test_size = 0.1, random_state =42)\n",
        "X_train.shape, X_test.shape, y_train.shape, y_test.shape"
      ],
      "execution_count": 38,
      "outputs": [
        {
          "output_type": "execute_result",
          "data": {
            "text/plain": [
              "((810,), (90,), (810,), (90,))"
            ]
          },
          "metadata": {
            "tags": []
          },
          "execution_count": 38
        }
      ]
    },
    {
      "cell_type": "code",
      "metadata": {
        "colab": {
          "base_uri": "https://localhost:8080/"
        },
        "id": "YP0CvC_lKfF9",
        "outputId": "14eeec66-f049-48c2-be61-d2dce43f13fb"
      },
      "source": [
        "print(X[725])\n",
        "# vectoriser = TfidfVectorizer(ngram_range=(1,1), max_features=50000)\n",
        "# vectoriser.fit(X)\n",
        "# print('No. of feature_words: ', len(vectoriser.get_feature_names()))\n",
        "vectoriser = TfidfVectorizer(ngram_range=(1,1), max_features=50000, token_pattern=r'[^\\s]+')\n",
        "vectoriser.fit(X)\n",
        "print('No. of feature_words: ', len(vectoriser.get_feature_names()))\n",
        "print(vectoriser.get_feature_names())"
      ],
      "execution_count": 39,
      "outputs": [
        {
          "output_type": "stream",
          "text": [
            "nginulpun diam dacademy salam okeoce coblospecinya 😶\n",
            "No. of feature_words:  2857\n",
            "['a', 'aa', 'aagym', 'aamiin', 'abaaah', 'abal', 'abang', 'abdi', 'abis', 'absurd', 'abunawas', 'aburizal', 'abused', 'acara', 'acu', 'ada', 'adaaqua', 'addiems', 'adekku', 'adil', 'adjierimbawan', 'adjrot', 'agam', 'agama', 'agamaras', 'agus', 'agusharimurtiyudhoyono', 'agussilvy', 'agussilvyhayo', 'agussylvi', 'agusyudhoyono', 'ah', 'aher', 'ahhhh', 'ahli', 'ahmadfuadanwar', 'ahok', 'ahokbali', 'ahokbtp', 'ahokdicintairakyat', 'ahokdjarot', 'ahokdjarotdirosi', 'ahokdjarotlebihbaik', 'ahokdjarotmenang', 'ahoker', 'ahokers', 'ahokforbali', 'ahokfornobel', 'ahokfree', 'ahokhebat', 'ahokishope', 'ahokjarot', 'ahokkalah', 'ahokkeok', 'ahoklovers', 'ahokmandikembang', 'ahokmartir', 'ahokmenang', 'ahokpanikahokkalah', 'ahokpenistaagama', 'ahokpresidenrike', 'ahokrekormuri', 'ahokri', 'ahokselaludihati', 'ahokshow', 'ahoktakbersalah', 'ahoktumbang', 'ahox', 'ahy', 'ahyall', 'ahyangarukkepala', 'ahycenter', 'ahycuitan', 'ahydemiindonesia', 'ahydi', 'ahydickychandra', 'ahyfansclub', 'ahyforall', 'ahyhargamati', 'ahyhumorlagu', 'ahyjalanmu', 'ahylovers', 'ahymaininsara', 'ahysilvy', 'ahysylvi', 'ahythenextleaderahyadalahkita', 'ahywearethenextleader', 'aib', 'aiman', 'air', 'aja', 'ajak', 'ajang', 'ajar', 'aji', 'ajibarang', 'ak', 'aka', 'akakakakakk', 'akal', 'akhir', 'akhirat', 'akhlak', 'akibat', 'aksi', 'akting', 'aku', 'akucoblosaniessandi', 'akun', 'akunakun', 'ala', 'alain', 'alam', 'alas', 'alat', 'alesha', 'alexis', 'alhamdulillah', 'alhamdullilah', 'alien', 'alih', 'alir', 'allah', 'allahuakbar', 'allamin', 'alloh', 'almaidah', 'alplovers', 'alquran', 'alumni', 'ama', 'aman', 'amanah', 'amanat', 'amanatnasional', 'amat', 'ambil', 'ambisi', 'amieeennnnn', 'amien', 'amin', 'ampenan', 'ampun', 'anak', 'ananghijau', 'anas', 'ancam', 'and', 'anda', 'andai', 'aneh', 'anggap', 'anggota', 'anggrek', 'angkat', 'angsur', 'anies', 'aniesbaswedan', 'aniesbaswedanid', 'aniesgubernurbaru', 'anieshilangya', 'aniesjawarajakarta', 'anieskalahmuslimmarah', 'aniessandi', 'aniessandiaga', 'aniessandidki', 'aniessandigubernur', 'aniessandigubernurkita', 'aniessandijawarajakarta', 'aniessandikaos', 'aniessandimenang', 'aniessandino', 'aniessandiwiner', 'aniessandy', 'aniestidakkonsisten', 'anis', 'anisa', 'anisandi', 'anissandi', 'anjing', 'annisa', 'antar', 'antargolongan', 'antasari', 'antem', 'anti', 'antri', 'anut', 'anyway', 'apa', 'apaapa', 'apakah', 'aparat', 'apbd', 'apbn', 'api', 'aplikasi', 'applause', 'apreciate', 'apresiasi', 'april', 'apung', 'aqil', 'aqua', 'arah', 'arainsanr', 'arena', 'argumen', 'arifinp', 'arogan', 'arsitek', 'art', 'arti', 'artis', 'as', 'asa', 'asal', 'asalngomomg', 'asbak', 'ashari', 'asing', 'ask', 'asli', 'aspal', 'aspek', 'asset', 'astaga', 'asyik', 'at', 'atas', 'atau', 'ato', 'atur', 'aura', 'awas', 'awasin', 'awesome', 'ayah', 'ayam', 'ayang', 'ayat', 'ayatollah', 'ayo', 'ayoagusyudhoyono', 'ayopenjarakanahok', 'azab', 'azhar', 'b', 'babak', 'babe', 'baca', 'badja', 'badjaberagam', 'badjauntukjakarta', 'bagai', 'bagaimana', 'bagi', 'bagibagi', 'bagus', 'bah', 'bahagia', 'bahas', 'bahasa', 'bahaya', 'bahkan', 'baik', 'baja', 'bajak', 'bajing', 'baju', 'bakal', 'bakar', 'bakrie', 'bakti', 'bal', 'balai', 'balaikota', 'balaikotadki', 'balas', 'balik', 'ball', 'bambangelf', 'banci', 'band', 'banding', 'bandot', 'bang', 'banget', 'bangett', 'bangga', 'bangsa', 'bangsat', 'bangun', 'bangundki', 'banjir', 'banjirjkt', 'bank', 'bankdki', 'banteng', 'bantu', 'banyak', 'bapak', 'baper', 'baris', 'baru', 'barumastbp', 'barusan', 'barutunggu', 'baruu', 'basis', 'basuki', 'basukibtp', 'basukidjarot', 'basukikeokmasukbui', 'basukitjahajapurnama', 'baswedan', 'batal', 'batam', 'batas', 'batman', 'baukidjarot', 'bawa', 'bawah', 'bayar', 'bbrp', 'bebas', 'beberapa', 'beda', 'begini', 'begitu', 'bego', 'begtiu', 'bekas', 'bekasitangerangbogordepok', 'bela', 'belah', 'belakang', 'belanda', 'belebihan', 'beli', 'beliau', 'beliin', 'belum', 'benar', 'benarbenar', 'benci', 'bener', 'beneran', 'benerbener', 'bengong', 'bening', 'bentuk', 'ber', 'beragamitubasukidjarot', 'berakhlaq', 'berani', 'berantas', 'berapa', 'berat', 'beres', 'bergudanggudang', 'beri', 'berintregitas', 'berita', 'beritahati', 'beritasatu', 'berkat', 'bersatuaniessandi', 'bersih', 'bersolawat', 'bersyariah', 'berterimakasi', 'besar', 'besi', 'besok', 'besokguaahok', 'best', 'betawi', 'bete', 'betengkar', 'betul', 'bgm', 'bhineka', 'bhinekatunggalika', 'bhinneka', 'biadab', 'biar', 'biasa', 'bicara', 'bidang', 'bijak', 'bijaksana', 'bikin', 'bila', 'bilang', 'bingung', 'bini', 'binimuda', 'bioskop', 'bis', 'bisa', 'bismillah', 'black', 'bloon', 'blowing', 'blt', 'blunder', 'blush', 'blusukan', 'bngga', 'bobot', 'bodyguard', 'bogor', 'bohong', 'bola', 'boleh', 'bom', 'bongkar', 'boongya', 'bor', 'bosan', 'boss', 'bowing', 'bpk', 'bpkbasukibtp', 'bravo', 'brgabung', 'brothers', 'brow', 'brubah', 'brutal', 'bs', 'btp', 'bu', 'buah', 'buahahahhaha', 'buang', 'buanyak', 'buat', 'buatin', 'bubarkanfpi', 'bubur', 'bui', 'buka', 'bukan', 'bukti', 'bulan', 'bullshit', 'bully', 'bulog', 'bumerang', 'bunga', 'bungaahok', 'bungapak', 'bungauntukahok', 'bungkus', 'buniyani', 'bur', 'buru', 'buruh', 'buruk', 'busuk', 'buta', 'butuh', 'buzzer', 'by', 'c', 'cabut', 'cacat', 'caci', 'cagub', 'cagubnyinyir', 'cair', 'cakeeeppppbersatunya', 'calgub', 'calo', 'calon', 'campaign', 'cang', 'cangharis', 'cantik', 'capai', 'cape', 'capek', 'caper', 'cara', 'cari', 'carik', 'catat', 'catut', 'cc', 'cegah', 'cek', 'cemas', 'cenderung', 'cengkareng', 'cepat', 'cerah', 'ceramah', 'cerdas', 'cerita', 'cermat', 'cermin', 'cfd', 'chajanjr', 'chant', 'chillipari', 'china', 'chris', 'cianjur', 'cicil', 'ciduk', 'cikini', 'cina', 'cinta', 'cipali', 'ciri', 'citra', 'clapping', 'closed', 'coach', 'coba', 'coblos', 'coblosnomor', 'coblospecinya', 'cocok', 'code', 'cold', 'coldplay', 'colek', 'colok', 'concert', 'contoh', 'copy', 'corbuzier', 'count', 'counter', 'countttp', 'cover', 'cuaca', 'cuih', 'cuit', 'cukup', 'cukur', 'cuma', 'cundang', 'curang', 'curiga', 'da', 'dacademy', 'dacademyid', 'dada', 'dadak', 'daerah', 'daftar', 'dagang', 'dah', 'dahagusyudhoyono', 'dahsyat', 'dahulu', 'dakwa', 'dalang', 'damai', 'dammnn', 'dampak', 'dan', 'dana', 'dapat', 'dar', 'darah', 'dari', 'das', 'dasar', 'datang', 'debat', 'debatfinalpilgubdki', 'debatfinalpilkadadki', 'debatfinalpilkadajkt', 'debatpilkadadki', 'deddy', 'degan', 'deh', 'dek', 'deket', 'deklarasi', 'deklarasippp', 'demam', 'demiahok', 'demo', 'demokrasi', 'demokrat', 'demokratbersamarakyat', 'demokratkelilingnusantara', 'dendam', 'dengar', 'depan', 'depok', 'deteksi', 'detikcom', 'dewasa', 'dg', 'dhe', 'dhuafa', 'dia', 'diam', 'dibagibagikan', 'dicounter', 'didienazhar', 'didik', 'didiklpambudi', 'digital', 'dihimbau', 'dik', 'dikarangkarang', 'dikarbit', 'dilanjuntukan', 'dimatiin', 'dimetrotivi', 'dinamika', 'dinamis', 'dinantinantikan', 'dinas', 'dini', 'diomongin', 'diplomasi', 'direbuntukan', 'diri', 'diridhai', 'diriikut', 'diriwkkwwkkwk', 'dishare', 'diskusipolitikbola', 'disosmed', 'disurvey', 'ditengahyang', 'djagain', 'djarod', 'djarot', 'djarotsupportpersija', 'djarottahu', 'dki', 'dkijakarta', 'dkimakanya', 'dlu', 'dng', 'doa', 'doain', 'doang', 'dominasi', 'dompak', 'dong', 'dosen', 'double', 'down', 'downmatanajwa', 'doyan', 'dp', 'dpn', 'dpnol', 'dpr', 'dprd', 'dpt', 'dragon', 'dream', 'dri', 'dtg', 'dua', 'duajari', 'dudah', 'duduk', 'duh', 'duit', 'dukung', 'dulu', 'duluan', 'dunia', 'duren', 'duri', 'dusta', 'edhiebaskoro', 'edhiewibowo', 'education', 'efek', 'efeknontonmetro', 'eh', 'ekstrimis', 'ektp', 'election', 'elektabilitas', 'elektabilitasnya', 'elit', 'emang', 'emas', 'embah', 'emban', 'ember', 'emis', 'emosianahy', 'enak', 'enam', 'ente', 'enthus', 'entrepreneurship', 'era', 'erat', 'esok', 'etika', 'etnis', 'exitpoll', 'expresinya', 'eye', 'eyes', 'face', 'fadlizon', 'fahiraidris', 'fahri', 'fahrihamzah', 'fakta', 'faktor', 'fals', 'fans', 'fariz', 'farmer', 'fasisme', 'favorit', 'feeling', 'fenomena', 'figur', 'final', 'firzahots', 'fist', 'fitnah', 'fitsahats', 'fkppi', 'floor', 'fokus', 'folded', 'foodhero', 'for', 'forri', 'forumkaskus', 'foto', 'fpi', 'freak', 'freeahok', 'freely', 'from', 'frontal', 'frowning', 'ga', 'gabung', 'gading', 'gaduh', 'gagal', 'gagalfokus', 'gagalmoveone', 'gagas', 'gaji', 'gak', 'galakgalak', 'galau', 'galon', 'gambir', 'gampangmsp', 'ganggu', 'gangster', 'ganja', 'ganjal', 'ganti', 'gantung', 'gara', 'garagara', 'garagarapilkada', 'garansi', 'garis', 'garuda', 'garudaindonesia', 'gatotgagal', 'gaya', 'gbu', 'gelap', 'gelar', 'geli', 'gelintir', 'gema', 'gembira', 'gembok', 'gembos', 'gencar', 'gentle', 'gera', 'gerak', 'gerilyapolitik', 'gerindra', 'gerombol', 'getar', 'giat', 'gih', 'gila', 'gilitrawangan', 'gimana', 'gin', 'gitu', 'global', 'gmana', 'goal', 'goblok', 'golput', 'gombalinahok', 'good', 'goreng', 'governance', 'government', 'gpp', 'gratis', 'great', 'grining', 'gub', 'gubdki', 'gubenur', 'gubenurgur', 'guberner', 'gubernur', 'gubernurbaru', 'gubernurbarudkijakarta', 'gubernurdki', 'gubernurdkijakarta', 'gubernurgu', 'gubernurjakarta', 'gubernurkuaniesbaswedan', 'gubernurmuslim', 'gubernurpilihan', 'gubetnur', 'gubwagub', 'gue', 'gueahok', 'guecintankri', 'guegeram', 'gulir', 'gultik', 'guna', 'gunawan', 'gunawanahokers', 'gunjkt', 'gunromli', 'guru', 'gusahy', 'gusur', 'gw', 'gwr', 'gym', 'h', 'habib', 'habibrizieqfpi', 'habiburokhman', 'habis', 'habishabisan', 'hadir', 'hafalanbadja', 'hah', 'haha', 'hahaa', 'hahah', 'hahaha', 'hahahahahaha', 'hahakerja', 'haji', 'hajidjarot', 'hak', 'hal', 'hallo', 'hampir', 'hancur', 'hand', 'hands', 'hangat', 'hantu', 'hanya', 'hapus', 'hapusin', 'haram', 'harap', 'harga', 'hari', 'harimurti', 'haris', 'harisantrinasional', 'hariswijaya', 'harry', 'harum', 'harus', 'harytanoe', 'hashemmelech', 'hasil', 'hasilc', 'hasyim', 'hati', 'hayoo', 'hdapkan', 'headlines', 'hearteyes', 'hebat', 'heboh', 'heeebohhhhagus', 'heli', 'hellloooo', 'helm', 'heran', 'heyyang', 'hhahahaa', 'hhmm', 'hias', 'hibur', 'hidayat', 'hidup', 'high', 'hikmah', 'hilang', 'hildathawilla', 'hina', 'hincapandjaitan', 'hindar', 'hingga', 'hinggahy', 'hiruk', 'hitam', 'hitamatau', 'hitdx', 'hitung', 'hitz', 'hmmm', 'hmmmm', 'hoaks', 'hoax', 'hoaxerkepanasan', 'hoaxerpanik', 'horisontal', 'hormat', 'horns', 'hotel', 'hrs', 'ht', 'hugging', 'huhuhu', 'hujan', 'hujat', 'hukum', 'hukumyangtelahmati', 'humas', 'ibadah', 'iblis', 'ibu', 'icesardhono', 'ide', 'ideal', 'ih', 'ika', 'ikan', 'ikhlas', 'ikhtiar', 'iklan', 'ikut', 'il', 'ilaaqwamithoriq', 'ilc', 'ilcmerajutjakartakembali', 'ilctvonenews', 'imingiming', 'improvisasi', 'indah', 'indoharian', 'indonesa', 'indonesia', 'indonesiaberkabung', 'indonesiabersih', 'indonesiafilipina', 'indonesiahebat', 'indonesiaraya', 'indonesiasatu', 'indosiarid', 'info', 'ingat', 'inget', 'inggris', 'ingin', 'ingkar', 'ingus', 'ini', 'initerjadi', 'injak', 'insha', 'inspirasi', 'instagram', 'insya', 'insyaallah', 'insyaalloh', 'integrasi', 'integritas', 'intelijen', 'inti', 'intim', 'introspeksi', 'invisible', 'invoice', 'iqra', 'ira', 'iri', 'iring', 'is', 'isari', 'isi', 'isis', 'islah', 'islam', 'islami', 'islamisme', 'islamist', 'islamrahmatanlilalamin', 'issu', 'issue', 'istiqlal', 'istiqomah', 'istirahat', 'istri', 'isu', 'isue', 'isusara', 'isyarat', 'itu', 'itung', 'iwak', 'iwan', 'iya', 'jabar', 'jabat', 'jadi', 'jaga', 'jago', 'jahat', 'jaja', 'jajah', 'jakarta', 'jakartaadalahkita', 'jakartaahokdjarot', 'jakartaberaswaja', 'jakartabersuriah', 'jakartabersyariah', 'jakartacoblos', 'jakartaelection', 'jakartagubernurbaru', 'jakartakece', 'jakartakerja', 'jakartaku', 'jakartamakin', 'jakartamemilih', 'jakartamemilihjawara', 'jakartapunyasemua', 'jakartatimur', 'jakartauntukrakyat', 'jakartauntuksemua', 'jaktim', 'jalan', 'jalar', 'jam', 'jaman', 'jambi', 'jamin', 'jangan', 'janganhipokrit', 'jangansalahpilih', 'jangansombong', 'jangantakutpilih', 'janji', 'janjikampanye', 'januari', 'jari', 'jaring', 'jarot', 'jatim', 'jatuh', 'jauh', 'jawab', 'jayakarta', 'jd', 'jeblos', 'jeda', 'jek', 'jelang', 'jelas', 'jelekin', 'jenak', 'jenazah', 'jerih', 'jernih', 'jeruji', 'jgn', 'jijik', 'jilat', 'jiplak', 'jiwa', 'jka', 'jkt', 'jktmajubersama', 'jleb', 'jogja', 'joke', 'jokowi', 'jokowiahokjkt', 'jorok', 'jpnncom', 'jpu', 'jt', 'jual', 'juang', 'judi', 'jujur', 'jumat', 'jumatbarokah', 'jumatberkah', 'jumlah', 'jungkal', 'justice', 'justru', 'justsaying', 'juta', 'kab', 'kabinet', 'kabung', 'kabur', 'kacang', 'kadang', 'kader', 'kafir', 'kafirrrrrr', 'kafirun', 'kaga', 'kagak', 'kagum', 'kaji', 'kak', 'kakak', 'kaku', 'kalah', 'kalahkami', 'kalahpilkada', 'kalau', 'kaleee', 'kali', 'kalian', 'kalijodo', 'kalimatkalimat', 'kalo', 'kamaru', 'kambiang', 'kami', 'kamis', 'kampanye', 'kampanyeahokjahat', 'kampanyeahy', 'kamu', 'kamvreetttt', 'kan', 'kancah', 'kandang', 'kandidat', 'kandung', 'kangdede', 'kangen', 'kangkang', 'kantor', 'kaos', 'kapan', 'kapir', 'karakter', 'karakternyaaiman', 'karang', 'karanganbunga', 'karanganbungaahok', 'karena', 'karir', 'karma', 'karna', 'kartu', 'karunia', 'karwo', 'kasar', 'kasi', 'kasih', 'kasihan', 'kaskus', 'kaskustv', 'kasus', 'kata', 'kataahok', 'katabijak', 'katakata', 'katakitaig', 'kati', 'kau', 'kaum', 'kawal', 'kawalccoblosno', 'kawalpilkada', 'kawin', 'kaya', 'kayak', 'kayu', 'kbayang', 'ke', 'kebagusanpala', 'kebayoran', 'kebhinekaan', 'kebhinnekaan', 'kebon', 'kecebong', 'kecewa', 'kecikampek', 'kecil', 'kecoh', 'kecubung', 'keistiqomahan', 'kejaksaanri', 'kejut', 'kekalahanpernyataan', 'kekuasaannyaakan', 'kelamin', 'kelapa', 'kelapagading', 'kelas', 'kelici', 'keliling', 'kelola', 'kelompok', 'keluar', 'keluarga', 'keluargakami', 'kemaren', 'kemari', 'kemarin', 'kembali', 'kembang', 'kemendagriri', 'kemrin', 'kemudian', 'kena', 'kenal', 'kenang', 'kenape', 'kendali', 'kenti', 'kepala', 'kepri', 'kerap', 'keras', 'kerasitu', 'keren', 'keri', 'kering', 'kerja', 'kerjangobrol', 'kertas', 'kes', 'kesatria', 'ketar', 'ketemu', 'ketua', 'kh', 'khabarnya', 'khilaf', 'khilafah', 'khusus', 'kicau', 'kimjongnam', 'kini', 'kipas', 'kira', 'kiri', 'kirim', 'kisah', 'kiss', 'kitankri', 'kite', 'kjl', 'kjp', 'kkpgoid', 'kl', 'klakuan', 'klikwarga', 'klimaks', 'kloning', 'klop', 'klu', 'knapa', 'knp', 'ko', 'koalisi', 'koar', 'kocak', 'kode', 'kok', 'kokgombalinahok', 'komando', 'komen', 'komentar', 'komitmen', 'komitment', 'kompak', 'kompas', 'kompastv', 'komplek', 'kondisi', 'konferensi', 'konfirmasi', 'konseptual', 'konsisten', 'konstituen', 'konsultasi', 'kontestasi', 'kontra', 'kontrak', 'kontraproduktif', 'kontribusi', 'kopdar', 'koplak', 'korban', 'korupkinerja', 'korupsi', 'koruptor', 'kosambi', 'kosong', 'kota', 'kotak', 'kotor', 'kp', 'kpada', 'kpd', 'kpkri', 'kpu', 'kpud', 'kpudki', 'kpudkijakarta', 'kpuri', 'kreator', 'kristen', 'kritik', 'kritisi', 'kronologi', 'ksatria', 'kspgoid', 'ku', 'kualitas', 'kuasa', 'kuat', 'kubu', 'kuda', 'kuliah', 'kulon', 'kunci', 'kuoata', 'kuota', 'kurang', 'kurangpenting', 'kursi', 'kusir', 'kusno', 'kusut', 'kutu', 'kw', 'kwalitas', 'kyai', 'kyknya', 'lagi', 'lagimulai', 'lagipilkada', 'lagitinggal', 'lagu', 'lah', 'lain', 'laksana', 'laku', 'lalu', 'lama', 'lambang', 'lampau', 'lampost', 'lancar', 'landa', 'langgar', 'langkah', 'langsung', 'lanjur', 'lanjut', 'lansia', 'lantik', 'lantun', 'lapang', 'larang', 'larasati', 'lari', 'laskar', 'latih', 'laughing', 'lawa', 'lawan', 'lawansekulerradikal', 'lawinforcement', 'layan', 'lebay', 'lebih', 'lebur', 'leceh', 'legowo', 'lejit', 'lelah', 'lembaga', 'lembar', 'lempar', 'lemper', 'lengkap', 'lepas', 'lewat', 'lha', 'lho', 'lholho', 'liat', 'licik', 'lihat', 'lihatin', 'lilin', 'lilinuntukahok', 'lima', 'lindung', 'lingkar', 'lingkung', 'lini', 'lintangchrezl', 'liputandotcom', 'litbang', 'live', 'loe', 'logika', 'loh', 'lol', 'lombok', 'lompat', 'loncat', 'longredcarpet', 'longredcarpetahokdjarot', 'lontar', 'lorot', 'lovered', 'lovers', 'loyal', 'loyalis', 'loyo', 'lsi', 'lsm', 'lu', 'luar', 'luas', 'lucu', 'luka', 'lukis', 'lulung', 'lumayan', 'lupa', 'lurah', 'luviku', 'lying', 'm', 'maaf', 'maapnyampah', 'mabok', 'mabuk', 'macammacam', 'macem', 'macet', 'macetmacet', 'mah', 'mahasiswa', 'main', 'maju', 'majubersama', 'majukotanyabahagiawarganya', 'majupilkadadki', 'makan', 'makanya', 'maki', 'makin', 'makna', 'maksa', 'maksud', 'malah', 'malaka', 'malam', 'males', 'malioboro', 'mall', 'malu', 'mampang', 'mampu', 'mana', 'manado', 'manadokota', 'mancarli', 'mandi', 'manfaat', 'manggung', 'mangkrak', 'manies', 'manis', 'manismanis', 'mansyur', 'mantan', 'mantanterindah', 'mantavvv', 'manual', 'manusia', 'manuver', 'marah', 'marasa', 'mari', 'marissaanita', 'maritim', 'mart', 'martabat', 'martin', 'mas', 'masa', 'masadepanbangsa', 'masalah', 'masang', 'masjid', 'masjiduntuksemua', 'maslahat', 'maspiyuuu', 'masrilpku', 'massa', 'masuk', 'masyarakat', 'masyarakatnyatanpa', 'mat', 'mata', 'matanajwa', 'matanajwadebatjakarta', 'matang', 'matarakyat', 'mataram', 'materi', 'mati', 'mau', 'may', 'mayanlah', 'mayday', 'mayor', 'mayoritas', 'mbak', 'medan', 'media', 'medsos', 'mei', 'meja', 'mekanisme', 'melanjuntukan', 'melempem', 'melintir', 'memang', 'membludakkrn', 'membranding', 'meme', 'memo', 'mempan', 'menang', 'menangin', 'mencaripemimpin', 'mendharma', 'mendikbud', 'mending', 'mendzolimi', 'mengalahkn', 'menghalanghalangi', 'menghisap', 'menginspiras', 'menit', 'menolaklupa', 'mentah', 'mental', 'mentang', 'menteng', 'menteri', 'mentor', 'merahputih', 'merajutjakartakembali', 'merauke', 'merdeka', 'merealisir', 'mereka', 'merhatiin', 'merosot', 'mesin', 'meski', 'mesra', 'mesti', 'metamorfosis', 'metrotv', 'mikir', 'miladpks', 'milih', 'milik', 'military', 'milu', 'milyar', 'milyarrw', 'mimpi', 'mimpin', 'min', 'minimal', 'minta', 'minum', 'mio', 'miras', 'miring', 'mirip', 'miris', 'misal', 'misi', 'miskin', 'mobil', 'modal', 'model', 'moderat', 'moga', 'mohon', 'momen', 'monalisa', 'monas', 'mondok', 'monethamrin', 'moneypolitic', 'moshing', 'mosing', 'motif', 'motivasi', 'motivator', 'motivatorindonesia', 'moto', 'mouth', 'move', 'mpo', 'mpok', 'mti', 'mu', 'muas', 'muda', 'mudah', 'mudahmudahan', 'mui', 'muka', 'muktamar', 'mula', 'mulai', 'mules', 'mulia', 'mulu', 'mulut', 'mumpung', 'munafik', 'muncul', 'mundur', 'mungkin', 'murah', 'muri', 'murtadhaone', 'museum', 'muslim', 'muslimlawanrasis', 'muslimvotemuslim', 'musolah', 'musuh', 'muter', 'mutu', 'myjob', 'n', 'nafsu', 'nagih', 'nahdlatuloelama', 'nahdliyin', 'naik', 'najwa', 'nalar', 'nama', 'nampaknya', 'nang', 'nangisgak', 'nantangin', 'nanti', 'nashidik', 'nasi', 'nasib', 'nasional', 'nasionalisme', 'nazis', 'ndoroputri', 'negara', 'negarawan', 'negatif', 'negeri', 'nehh', 'nelayan', 'nenek', 'nenen', 'neng', 'net', 'netizen', 'netizenmakin', 'netizentofa', 'netral', 'news', 'ngakak', 'ngakunya', 'ngambang', 'nganan', 'ngaruh', 'ngawal', 'ngawur', 'ngayal', 'ngebor', 'ngebully', 'ngecap', 'ngelawan', 'ngeles', 'ngemis', 'ngerasa', 'ngerti', 'ngga', 'nginulpun', 'ngiri', 'nglamar', 'ngomong', 'ngomongnya', 'ngopi', 'ngopisore', 'ngorbanin', 'ngumpulin', 'ni', 'nih', 'nihil', 'nikmat', 'nilai', 'ninggalin', 'nista', 'nkri', 'no', 'nojangan', 'nol', 'nomor', 'non', 'nongkrong', 'nongol', 'nonmuslim', 'nonton', 'norman', 'nose', 'novel', 'ntb', 'ntt', 'nu', 'nuduh', 'nunggu', 'nunjuk', 'nuntut', 'nuonline', 'nurani', 'nusantara', 'nya', 'nyalon', 'nyaman', 'nyambung', 'nyampah', 'nyanyi', 'nyanyianuntukahok', 'nyasar', 'nyata', 'nyatahasil', 'nyesal', 'nyesel', 'nyinyir', 'nyoblos', 'nyungsep', 'nyuruh', 'objektif', 'oce', 'of', 'officialpan', 'ogah', 'ohh', 'ojkindonesia', 'ok', 'oke', 'okee', 'okengoceh', 'okeoce', 'okeoke', 'okezonenews', 'okoce', 'oktober', 'olah', 'olahraga', 'om', 'omgombalinahok', 'omong', 'on', 'oncoming', 'onnyah', 'open', 'opini', 'oposisi', 'optimis', 'or', 'orang', 'orangjakarta', 'orangkokbisanyinyirbgt', 'orangorang', 'orangtetapi', 'orangtua', 'orde', 'order', 'organda', 'ormas', 'ornamen', 'otak', 'otomatis', 'ottsembakoahok', 'owalah', 'pa', 'pada', 'padahal', 'padu', 'pagi', 'paham', 'pahlawan', 'pak', 'pakahok', 'pakai', 'pakar', 'pakdhe', 'pake', 'paket', 'paksa', 'paling', 'palsu', 'pan', 'panbekerja', 'panca', 'pancasila', 'pancasilais', 'pandai', 'panggang', 'panggung', 'pangkat', 'panik', 'panitia', 'panjang', 'panjangkesuksesan', 'pansus', 'pantas', 'pantasdipecat', 'pantau', 'pantes', 'pantisilaban', 'papan', 'papua', 'paradenyanyianuntukahok', 'parah', 'paris', 'parpol', 'partai', 'partaidemokrat', 'partaisocm', 'partaisocmed', 'pas', 'pasal', 'pasang', 'pasar', 'pasca', 'paska', 'paslon', 'pasrah', 'pasti', 'pastiiii', 'pastikanbesokdua', 'pasu', 'pasword', 'pathdaily', 'patut', 'paut', 'payah', 'payudarasusu', 'payung', 'pd', 'pdemokrat', 'pdhal', 'pdi', 'pdip', 'peach', 'pecah', 'pecat', 'peci', 'peduli', 'pegawai', 'peka', 'pela', 'pelan', 'peluk', 'peluru', 'pemenangdihatirakyat', 'pemerintahterimakasih', 'pemkot', 'pempmpinnya', 'pemprov', 'pemprovamanah', 'pencoblosanfotonya', 'pengaruh', 'penikmatkopi', 'penjara', 'penjarakanahok', 'pensiun', 'pensiundini', 'penting', 'pentol', 'penuh', 'pepo', 'per', 'peran', 'perang', 'perbtasan', 'percaya', 'perempuan', 'perhati', 'perintah', 'periode', 'perlu', 'pernah', 'pers', 'persen', 'persija', 'persis', 'person', 'perspektif', 'pertama', 'pertempuranakhirjawarajkt', 'pesan', 'pesanbijak', 'pesona', 'pesta', 'peta', 'petisi', 'phenomenon', 'picik', 'pidato', 'pihak', 'pikir', 'pikuk', 'pilakada', 'pilgub', 'pilgubdki', 'pilgubjkt', 'pilih', 'pilihahok', 'pilihaniessandi', 'pilihanmumasadepanmu', 'pilihbadja', 'pilihpemimpinmuslim', 'pilka', 'pilkada', 'pilkadad', 'pilkadadk', 'pilkadadki', 'pilkadadkijakarta', 'pilkadadkiternyata', 'pilkadajakarta', 'pilkadajakartaaman', 'pilkadapileg', 'pilkadapret', 'pilkadaputarankedua', 'pilkadarasapilpres', 'pilkadaserentak', 'pilkadatiap', 'pilkades', 'pilpres', 'pimpin', 'pindah', 'pingin', 'pingsan', 'pintar', 'pinter', 'piss', 'pitenahgue', 'pkb', 'pks', 'pksejahtera', 'pkslampung', 'plintirlihat', 'pluit', 'pluralis', 'pluralisme', 'pm', 'pmbenaranjangan', 'pmilih', 'pndukung', 'pohan', 'pola', 'polda', 'polemikpaluhakim', 'polisi', 'politik', 'politikbirokrasi', 'politikkotor', 'politikpalsu', 'politiksembako', 'politikuangahy', 'politisasi', 'polling', 'populerb', 'portal', 'positif', 'posko', 'postingan', 'potensi', 'potong', 'prabowo', 'prabowosubianto', 'prajurit', 'prananda', 'precariat', 'presiden', 'presidensby', 'pribadi', 'pribumi', 'prihatin', 'prilaku', 'primitif', 'prinsip', 'pro', 'produksi', 'produktif', 'program', 'programaniessandi', 'programkerja', 'proklamasi', 'proses', 'prostitusi', 'protes', 'provinsi', 'provokasi', 'provokatif', 'provokator', 'proyek', 'psikologis', 'pttransjakarta', 'puataran', 'puisi', 'puji', 'pukul', 'pula', 'pulang', 'pulsa', 'punggung', 'punya', 'pupus', 'purnama', 'purnamadjarot', 'pusat', 'pusatkemayoran', 'pusing', 'putar', 'putaranke', 'putaranmenang', 'putih', 'putri', 'putus', 'putuslantas', 'qc', 'qeren', 'quick', 'quickcount', 'r', 'rachland', 'radicals', 'radikal', 'radikalisme', 'raga', 'rahmat', 'raih', 'rais', 'raising', 'rajut', 'rakernas', 'rakernasdemokrat', 'rakyat', 'ramai', 'ramal', 'rambut', 'rame', 'ranabaja', 'rang', 'rangkul', 'rapat', 'rapi', 'rapih', 'rapuh', 'ras', 'rasa', 'rasulullah', 'ratnaspaet', 'raut', 'rawan', 'raya', 'reaksi', 'realisasi', 'realitybites', 'rebut', 'record', 'redkarpet', 'refurbish', 'regenerasi', 'rehat', 'rejeki', 'rekan', 'rekapituasi', 'rekapitulasi', 'reklamasi', 'rekonsiliasi', 'rela', 'rem', 'remuk', 'rencana', 'rendah', 'rengek', 'rentang', 'republik', 'republikaonline', 'resmi', 'respon', 'retorika', 'rezim', 'ri', 'riang', 'ribet', 'ribu', 'ridhoi', 'ridwankamil', 'rindu', 'ringan', 'rinjanijb', 'rip', 'riphukum', 'ripjustice', 'ripjusticeindonesia', 'ripjusticeinindonesia', 'risau', 'risih', 'rizieq', 'rizieqpulang', 'rmh', 'robbal', 'robbin', 'robot', 'rock', 'roket', 'rolling', 'rompiskasmaran', 'ronavioleta', 'ronde', 'roryasyari', 'rosiannahi', 'rp', 'rspun', 'rt', 'ruang', 'rugi', 'ruhutsitompul', 'ruji', 'rukun', 'rumah', 'rumit', 'rumput', 'running', 'rupa', 'rupiah', 'rusak', 'rusun', 'rw', 'saat', 'sabang', 'sabar', 'sabtu', 'sabun', 'sadar', 'sahabat', 'sahalas', 'saham', 'sahsah', 'said', 'saiful', 'saing', 'saja', 'sakit', 'saksi', 'salah', 'salam', 'salambersama', 'salamduajari', 'salamjari', 'saldo', 'sali', 'salimafillah', 'saling', 'salut', 'sama', 'sambut', 'sambutgubernurbaru', 'sampai', 'sampe', 'samurai', 'sana', 'sandi', 'sandiaga', 'sandiagauno', 'sandiapa', 'sandiuno', 'sandiunocabul', 'sandiwara', 'sang', 'sangat', 'sangkut', 'sangpemburu', 'sanjung', 'santri', 'santun', 'sapa', 'sara', 'saran', 'sarana', 'sarung', 'sasar', 'satu', 'saudara', 'saveahok', 'savedp', 'savejakarta', 'savenkri', 'saw', 'saya', 'sayang', 'sbaliknya', 'sbg', 'sby', 'sbycuitan', 'sbyudhoyono', 'sdh', 'sebar', 'sebentar', 'sebut', 'sedang', 'sedekah', 'sederhana', 'sedih', 'sedikit', 'sedikitapa', 'sedot', 'segala', 'segan', 'segera', 'sehat', 'sejahtera', 'sejak', 'sejarah', 'sejati', 'sejuk', 'sek', 'sekali', 'sekaligus', 'sekarang', 'sekjenpartaidemokrathincapandjaitan', 'selalu', 'selamat', 'selamatharisembako', 'selamatpagi', 'selang', 'selat', 'selatan', 'seleksi', 'selenakoe', 'selesai', 'selfie', 'selfienya', 'selidik', 'selisih', 'selubung', 'seluruh', 'semangat', 'semata', 'sembako', 'sembakonya', 'sembunyi', 'sementara', 'semogaamanah', 'sempat', 'semprot', 'semua', 'senang', 'senator', 'senatordkidukungagussylvi', 'sendiri', 'sengaja', 'sengsarain', 'senjata', 'sentimen', 'senyum', 'seorg', 'sepakat', 'sepenuh', 'seperti', 'sepi', 'seragam', 'serah', 'serang', 'serbu', 'serentak', 'sergap', 'seringkali', 'serta', 'seru', 'sesal', 'sesuai', 'setan', 'setia', 'settingan', 'setujuin', 'shalawat', 'sholat', 'si', 'sia', 'siang', 'siantar', 'siap', 'siapa', 'siapkalah', 'siapsiap', 'siar', 'siasia', 'sibuk', 'sidoarjo', 'sign', 'signifikan', 'sih', 'siiiip', 'sikap', 'silake', 'silaturahmi', 'silvi', 'silvy', 'simpati', 'simpatik', 'simpel', 'simpul', 'simulut', 'sinar', 'sindir', 'singkir', 'sini', 'sinyal', 'sisi', 'sistem', 'sittayohag', 'situ', 'situasi', 'situs', 'sjpkb', 'skali', 'skenario', 'skeptis', 'skg', 'skrang', 'slightly', 'sma', 'smile', 'smiling', 'sms', 'smua', 'soal', 'soang', 'sodet', 'sogok', 'sohibahy', 'sok', 'solat', 'solusi', 'sombong', 'songsong', 'soooo', 'sopir', 'sosial', 'sosialisasi', 'sosok', 'spanduk', 'speaknoevil', 'sporty', 'spt', 'stadion', 'steam', 'stelah', 'stickmoticons', 'stiker', 'stok', 'stop', 'stoppolitisasibhinneka', 'storyofthestreet', 'strategi', 'streaming', 'stres', 'stress', 'stuckout', 'suami', 'suap', 'suara', 'suarakankebenaran', 'suarart', 'suatu', 'subhanallah', 'subianto', 'subsidi', 'subyektif', 'sudah', 'suduntukan', 'sugeng', 'sujud', 'suka', 'sukses', 'suku', 'sulit', 'sultra', 'sumarmo', 'sumur', 'sunan', 'sungguh', 'super', 'surat', 'suratrakyat', 'surga', 'suruh', 'survei', 'survey', 'surveyharusnya', 'surveynya', 'susah', 'susun', 'susup', 'sutradara', 'sweat', 'swt', 'syahrirlantoni', 'syariah', 'sylvi', 'sylvianamurni', 'syuhadatps', 'syukur', 'syukurahokdjarot', 't', 'tabir', 'tabur', 'tadi', 'tagih', 'tahan', 'tahap', 'tahu', 'tahun', 'tai', 'tajam', 'tajir', 'tak', 'takbir', 'takdir', 'takjub', 'takut', 'takviri', 'talaud', 'talkshow', 'taman', 'tamat', 'tambah', 'tampak', 'tampil', 'tanah', 'tanda', 'tandatangan', 'tandatangani', 'tanding', 'tangan', 'tanggal', 'tanggap', 'tangguh', 'tanggung', 'tangis', 'tanjak', 'tanoe', 'tantang', 'tanya', 'tanyakenapa', 'target', 'tarik', 'taring', 'taruna', 'tata', 'tau', 'taufik', 'tayang', 'team', 'teamahok', 'teamanies', 'tebar', 'teduh', 'tega', 'tegak', 'tegakkankebenaran', 'tegang', 'tegar', 'tegas', 'tegur', 'teknis', 'teladan', 'telak', 'telikung', 'telinga', 'telkomsel', 'telolet', 'telu', 'teman', 'temanahok', 'temanahokfair', 'temanteman', 'temenahok', 'tempat', 'tempe', 'tempelin', 'tempodotco', 'temu', 'tenang', 'tenangkonsentrasiberdoaselalu', 'tendang', 'tendemnya', 'tengah', 'tengik', 'tentu', 'tepat', 'terap', 'terbang', 'terhornat', 'teriakteriak', 'terima', 'terimakasih', 'terimakasihahok', 'terimakasihfpi', 'terimakasihhabib', 'terimakasihpakahok', 'terimakasihulama', 'terindahpilgub', 'terkadang', 'terlalu', 'ternak', 'teroris', 'tersepona', 'tertib', 'terus', 'tetangga', 'tetap', 'tetapahok', 'tetapahokdjarot', 'tetapahy', 'tetapsemangat', 'tetep', 'tgl', 'th', 'the', 'thinking', 'thn', 'thumbs', 'tiada', 'tiap', 'tiba', 'tidak', 'tidakada', 'tidur', 'tiga', 'tiket', 'tikotumbangkantoke', 'tikung', 'tikus', 'tim', 'timeline', 'timpa', 'timpang', 'timses', 'tindak', 'tinggal', 'tinggi', 'tingkat', 'tipis', 'tipu', 'tir', 'tiru', 'titik', 'titip', 'tjahaja', 'tk', 'tko', 'tks', 'tlah', 'tlh', 'tmpat', 'tni', 'toba', 'tohh', 'tokoh', 'tol', 'tolak', 'tolakjakartabersyariah', 'tolakreklamasi', 'toleran', 'tompi', 'tongue', 'topik', 'totalpilkadadki', 'totorqq', 'tounges', 'tp', 'tps', 'tpsgambir', 'track', 'trainer', 'transisi', 'transportasi', 'trending', 'tri', 'tribunmedan', 'trima', 'trimakasih', 'triple', 'trus', 'tua', 'tuai', 'tuan', 'tubir', 'tuding', 'tuduh', 'tugas', 'tugu', 'tuh', 'tuhan', 'tuhanbakal', 'tuit', 'tuju', 'tujukkan', 'tuk', 'tukang', 'tukar', 'tulen', 'tulis', 'tulisanya', 'tulus', 'tumbang', 'tunda', 'tunggal', 'tunggu', 'tunjuk', 'tuntun', 'tuntut', 'turun', 'turut', 'tutup', 'tv', 'tvone', 'tweet', 'twit', 'twitter', 'u', 'uang', 'uangsembako', 'ubah', 'ubahjakarta', 'ucap', 'udah', 'uji', 'ujung', 'ujungujungnya', 'ukur', 'ulama', 'ulang', 'ulinyusron', 'umat', 'umatternyata', 'umkm', 'ummat', 'umrah', 'umroh', 'umum', 'undang', 'unggul', 'ungkap', 'unik', 'unit', 'uno', 'unoserurame', 'untuk', 'untung', 'up', 'upaya', 'urbaningrum', 'urus', 'usah', 'usaha', 'usai', 'usia', 'usir', 'ust', 'ustad', 'usul', 'usung', 'utak', 'utan', 'utik', 'utk', 'utus', 'uu', 'versi', 'via', 'video', 'viral', 'virallbocah', 'visi', 'visuallyyours', 'vivarevolusi', 'vocalis', 'voltage', 'vote', 'voteahok', 'voter', 'vs', 'waaaah', 'waaah', 'wacana', 'waduh', 'wagub', 'wagubdki', 'wah', 'wahabi', 'wahai', 'wahdiam', 'wahhabicc', 'wajah', 'wajib', 'wakil', 'wakiltimses', 'waktu', 'walaupun', 'wallahulmuwafiq', 'walupun', 'wangi', 'wanita', 'waras', 'warga', 'warganyabasukibtp', 'warganyanamun', 'wargapluit', 'wartamui', 'wartawan', 'wasekjen', 'waspada', 'wawancara', 'weedbegoodtogether', 'welcome', 'wiiih', 'wilayah', 'wingstourinjakarta', 'wirausaha', 'wisata', 'wisdom', 'with', 'wkwkwk', 'wkwkwkface', 'wkwkwkwk', 'wkwkwkwkkwkk', 'wpap', 'wujud', 'x', 'y', 'ya', 'yaa', 'yaaa', 'yaaaa', 'yaalap', 'yah', 'yahudi', 'yak', 'yakin', 'yang', 'yangbikinberantem', 'yasaveahok', 'ye', 'yeedan', 'yep', 'yes', 'yg', 'yme', 'ynwa', 'yogia', 'youtube', 'youtubebxrzdua', 'yra', 'yudhoyono', 'yuk', 'yusuf', 'zalim', 'zarazettirazr', 'zarazettirazz', 'zippermouth', 'zona', '✌', '✔', '🌟', '🏆', '🐽', '👅', '💔', '💘', '💣', '🔥', '😂', '😊', '😋', '😎', '😑', '😓', '😕', '😚', '😞', '😠', '😡', '😣', '😩', '😬', '😮', '😱', '😶', '😹', '🙈']\n"
          ],
          "name": "stdout"
        }
      ]
    },
    {
      "cell_type": "code",
      "metadata": {
        "colab": {
          "base_uri": "https://localhost:8080/"
        },
        "id": "tK-bIvd5KfF-",
        "outputId": "262bdd09-b52a-4c09-f086-3c3a9ae31e8a"
      },
      "source": [
        "X_train = vectoriser.transform(X_train)\n",
        "X_train"
      ],
      "execution_count": 40,
      "outputs": [
        {
          "output_type": "execute_result",
          "data": {
            "text/plain": [
              "<810x2857 sparse matrix of type '<class 'numpy.float64'>'\n",
              "\twith 8593 stored elements in Compressed Sparse Row format>"
            ]
          },
          "metadata": {
            "tags": []
          },
          "execution_count": 40
        }
      ]
    },
    {
      "cell_type": "code",
      "metadata": {
        "id": "wag_pNXgKfGE"
      },
      "source": [
        "X_test  = vectoriser.transform(X_test)\n",
        "X_test\n",
        "\n",
        "\n",
        "\n",
        "scorvar = [\"accuracy\", \"precision\", \"recall\", \"f1\"]\n",
        "# X_train = vectoriser.transform(X)\n",
        "# X_train\n",
        "# y_train = y"
      ],
      "execution_count": 41,
      "outputs": []
    },
    {
      "cell_type": "code",
      "metadata": {
        "id": "KpK_tBodcVKY"
      },
      "source": [
        ""
      ],
      "execution_count": 41,
      "outputs": []
    },
    {
      "cell_type": "code",
      "metadata": {
        "id": "SfwJSSdFKfGE"
      },
      "source": [
        "def model_Evaluate(model,X_test,y_test):\n",
        "    # Predict values for Test dataset\n",
        "    y_pred = model.predict(X_test)\n",
        "    # Print the evaluation metrics for the dataset.\n",
        "    print(classification_report(y_test, y_pred))\n",
        "    # Compute and plot the Confusion matrix\n",
        "    cf_matrix = confusion_matrix(y_test, y_pred)\n",
        "    # print(cf_matrix)\n",
        "    categories = ['Negative','Positive']\n",
        "    group_names = ['True Neg','False Pos', 'False Neg','True Pos']\n",
        "    group_percentages = ['{0:.4%}'.format(value) for value in cf_matrix.flatten() / np.sum(cf_matrix)]\n",
        "    # print(group_percentages)\n",
        "    labels = [f'{v1} : {v2}' for v1, v2 in zip(group_names,group_percentages)]\n",
        "    labels = np.asarray(labels).reshape(2,2)\n",
        "    sns.heatmap(cf_matrix, annot = labels, cmap = 'Blues',fmt = '',\n",
        "    xticklabels = categories, yticklabels = categories)\n",
        "    plt.xlabel(\"Predicted values\", fontdict = {'size':14}, labelpad = 10)\n",
        "    plt.ylabel(\"Actual values\" , fontdict = {'size':14}, labelpad = 10)\n",
        "    plt.title (\"Confusion Matrix\", fontdict = {'size':18}, pad = 20)"
      ],
      "execution_count": 42,
      "outputs": []
    },
    {
      "cell_type": "code",
      "metadata": {
        "colab": {
          "base_uri": "https://localhost:8080/",
          "height": 493
        },
        "id": "1hvn1wqPKfGF",
        "outputId": "e33afbd7-4b2a-40df-f9c9-c7c94726e160"
      },
      "source": [
        "sgd = SGDClassifier(loss=\"hinge\", penalty=\"l2\", max_iter=500)\n",
        "sgd.fit(X_train, y_train)\n",
        "model_Evaluate(sgd,X_test,y_test)\n",
        "y_pred1 = sgd.predict(X_test)\n",
        "\n",
        "cf_matrix10 = accuracy_score(y_test, y_pred1)\n",
        "print(\"Accuracy {}\".format(cf_matrix10))"
      ],
      "execution_count": 43,
      "outputs": [
        {
          "output_type": "stream",
          "text": [
            "              precision    recall  f1-score   support\n",
            "\n",
            "           0       0.74      0.74      0.74        42\n",
            "           1       0.77      0.77      0.77        48\n",
            "\n",
            "    accuracy                           0.76        90\n",
            "   macro avg       0.75      0.75      0.75        90\n",
            "weighted avg       0.76      0.76      0.76        90\n",
            "\n",
            "Accuracy 0.7555555555555555\n"
          ],
          "name": "stdout"
        },
        {
          "output_type": "display_data",
          "data": {
            "image/png": "[encoded data removed]",
            "text/plain": [
              "<Figure size 432x288 with 2 Axes>"
            ]
          },
          "metadata": {
            "tags": [],
            "needs_background": "light"
          }
        }
      ]
    },
    {
      "cell_type": "code",
      "metadata": {
        "colab": {
          "base_uri": "https://localhost:8080/",
          "height": 493
        },
        "id": "vRVIAYUScmPq",
        "outputId": "f16116b6-f5df-4d0f-e1bf-70c7760e35ad"
      },
      "source": [
        "X_train, X_test, y_train, y_test = train_test_split(X,y,test_size = 0.2, random_state =42)\n",
        "X_train.shape, X_test.shape, y_train.shape, y_test.shape\n",
        "\n",
        "X_train = vectoriser.transform(X_train)\n",
        "X_train\n",
        "\n",
        "X_test  = vectoriser.transform(X_test)\n",
        "X_test\n",
        "\n",
        "sgd = SGDClassifier(loss=\"hinge\", penalty=\"l2\", max_iter=500)\n",
        "sgd.fit(X_train, y_train)\n",
        "model_Evaluate(sgd,X_test,y_test)\n",
        "y_pred1 = sgd.predict(X_test)\n",
        "\n",
        "cf_matrix20 = accuracy_score(y_test, y_pred1)\n",
        "print(\"Accuracy {}\".format(cf_matrix20))"
      ],
      "execution_count": 44,
      "outputs": [
        {
          "output_type": "stream",
          "text": [
            "              precision    recall  f1-score   support\n",
            "\n",
            "           0       0.75      0.77      0.76        86\n",
            "           1       0.78      0.77      0.77        94\n",
            "\n",
            "    accuracy                           0.77       180\n",
            "   macro avg       0.77      0.77      0.77       180\n",
            "weighted avg       0.77      0.77      0.77       180\n",
            "\n",
            "Accuracy 0.7666666666666667\n"
          ],
          "name": "stdout"
        },
        {
          "output_type": "display_data",
          "data": {
            "image/png": "[encoded data removed]",
            "text/plain": [
              "<Figure size 432x288 with 2 Axes>"
            ]
          },
          "metadata": {
            "tags": [],
            "needs_background": "light"
          }
        }
      ]
    },
    {
      "cell_type": "code",
      "metadata": {
        "colab": {
          "base_uri": "https://localhost:8080/",
          "height": 493
        },
        "id": "Z7YLVAOMd5t-",
        "outputId": "444284db-424d-4791-8075-1feb315c490e"
      },
      "source": [
        "X_train, X_test, y_train, y_test = train_test_split(X,y,test_size = 0.3, random_state =42)\n",
        "X_train.shape, X_test.shape, y_train.shape, y_test.shape\n",
        "\n",
        "X_train = vectoriser.transform(X_train)\n",
        "X_train\n",
        "\n",
        "X_test  = vectoriser.transform(X_test)\n",
        "X_test\n",
        "\n",
        "sgd = SGDClassifier(loss=\"hinge\", penalty=\"l2\", max_iter=500)\n",
        "sgd.fit(X_train, y_train)\n",
        "model_Evaluate(sgd,X_test,y_test)\n",
        "y_pred1 = sgd.predict(X_test)\n",
        "\n",
        "cf_matrix30 = accuracy_score(y_test, y_pred1)\n",
        "print(\"Accuracy {}\".format(cf_matrix30))"
      ],
      "execution_count": 45,
      "outputs": [
        {
          "output_type": "stream",
          "text": [
            "              precision    recall  f1-score   support\n",
            "\n",
            "           0       0.75      0.71      0.73       129\n",
            "           1       0.74      0.78      0.76       141\n",
            "\n",
            "    accuracy                           0.74       270\n",
            "   macro avg       0.74      0.74      0.74       270\n",
            "weighted avg       0.74      0.74      0.74       270\n",
            "\n",
            "Accuracy 0.7444444444444445\n"
          ],
          "name": "stdout"
        },
        {
          "output_type": "display_data",
          "data": {
            "image/png": "[encoded data removed]",
            "text/plain": [
              "<Figure size 432x288 with 2 Axes>"
            ]
          },
          "metadata": {
            "tags": [],
            "needs_background": "light"
          }
        }
      ]
    },
    {
      "cell_type": "code",
      "metadata": {
        "colab": {
          "base_uri": "https://localhost:8080/",
          "height": 493
        },
        "id": "Uv2sDyO8eChp",
        "outputId": "73e599e5-0f64-4ebb-a0e6-078a06959242"
      },
      "source": [
        "X_train, X_test, y_train, y_test = train_test_split(X,y,test_size = 0.4, random_state =42)\n",
        "X_train.shape, X_test.shape, y_train.shape, y_test.shape\n",
        "\n",
        "X_train = vectoriser.transform(X_train)\n",
        "X_train\n",
        "\n",
        "X_test  = vectoriser.transform(X_test)\n",
        "X_test\n",
        "\n",
        "sgd = SGDClassifier(loss=\"hinge\", penalty=\"l2\", max_iter=500)\n",
        "sgd.fit(X_train, y_train)\n",
        "model_Evaluate(sgd,X_test,y_test)\n",
        "y_pred1 = sgd.predict(X_test)\n",
        "\n",
        "cf_matrix40 = accuracy_score(y_test, y_pred1)\n",
        "print(\"Accuracy {}\".format(cf_matrix40))"
      ],
      "execution_count": 46,
      "outputs": [
        {
          "output_type": "stream",
          "text": [
            "              precision    recall  f1-score   support\n",
            "\n",
            "           0       0.69      0.70      0.70       169\n",
            "           1       0.73      0.72      0.72       191\n",
            "\n",
            "    accuracy                           0.71       360\n",
            "   macro avg       0.71      0.71      0.71       360\n",
            "weighted avg       0.71      0.71      0.71       360\n",
            "\n",
            "Accuracy 0.7111111111111111\n"
          ],
          "name": "stdout"
        },
        {
          "output_type": "display_data",
          "data": {
            "image/png": "[encoded data removed]",
            "text/plain": [
              "<Figure size 432x288 with 2 Axes>"
            ]
          },
          "metadata": {
            "tags": [],
            "needs_background": "light"
          }
        }
      ]
    },
    {
      "cell_type": "code",
      "metadata": {
        "colab": {
          "base_uri": "https://localhost:8080/",
          "height": 493
        },
        "id": "nai18v7ieT3M",
        "outputId": "833c9fab-25da-4b08-b806-f1cf0086f4f6"
      },
      "source": [
        "X_train, X_test, y_train, y_test = train_test_split(X,y,test_size = 0.5, random_state =42)\n",
        "X_train.shape, X_test.shape, y_train.shape, y_test.shape\n",
        "\n",
        "X_train = vectoriser.transform(X_train)\n",
        "X_train\n",
        "\n",
        "X_test  = vectoriser.transform(X_test)\n",
        "X_test\n",
        "\n",
        "sgd = SGDClassifier(loss=\"hinge\", penalty=\"l2\", max_iter=500)\n",
        "sgd.fit(X_train, y_train)\n",
        "model_Evaluate(sgd,X_test,y_test)\n",
        "y_pred1 = sgd.predict(X_test)\n",
        "\n",
        "cf_matrix50 = accuracy_score(y_test, y_pred1)\n",
        "print(\"Accuracy {}\".format(cf_matrix50))"
      ],
      "execution_count": 47,
      "outputs": [
        {
          "output_type": "stream",
          "text": [
            "              precision    recall  f1-score   support\n",
            "\n",
            "           0       0.67      0.68      0.68       213\n",
            "           1       0.71      0.70      0.71       237\n",
            "\n",
            "    accuracy                           0.69       450\n",
            "   macro avg       0.69      0.69      0.69       450\n",
            "weighted avg       0.69      0.69      0.69       450\n",
            "\n",
            "Accuracy 0.6933333333333334\n"
          ],
          "name": "stdout"
        },
        {
          "output_type": "display_data",
          "data": {
            "image/png": "[encoded data removed]",
            "text/plain": [
              "<Figure size 432x288 with 2 Axes>"
            ]
          },
          "metadata": {
            "tags": [],
            "needs_background": "light"
          }
        }
      ]
    },
    {
      "cell_type": "code",
      "metadata": {
        "colab": {
          "base_uri": "https://localhost:8080/",
          "height": 300
        },
        "id": "i38yJm_-tduI",
        "outputId": "0d5a981b-d08b-4274-eeae-db67dce29682"
      },
      "source": [
        "import matplotlib.pyplot as plt\n",
        "   \n",
        "params = ['10 to 90','20 to 80','30 to 70', '40 to 60', '50 to 50']\n",
        "value_performace = [(cf_matrix10*100),(cf_matrix20*100),(cf_matrix30*100),(cf_matrix40*100),(cf_matrix50*100)]\n",
        "\n",
        "New_Colors = ['green','blue','purple','black', 'brown']\n",
        "plt.bar(params, value_performace, color=New_Colors)\n",
        "plt.title('Performance Logistic Regression With Ratio', fontsize=14)\n",
        "plt.xlabel('Parameter Accuracy', fontsize=14)\n",
        "plt.ylabel('Value %', fontsize=14)\n",
        "plt.grid(True)\n",
        "plt.show()"
      ],
      "execution_count": 48,
      "outputs": [
        {
          "output_type": "display_data",
          "data": {
            "image/png": "[encoded data removed]",
            "text/plain": [
              "<Figure size 432x288 with 1 Axes>"
            ]
          },
          "metadata": {
            "tags": [],
            "needs_background": "light"
          }
        }
      ]
    },
    {
      "cell_type": "code",
      "metadata": {
        "id": "qh4NB6AcvZGG"
      },
      "source": [
        ""
      ],
      "execution_count": 48,
      "outputs": []
    }
  ]
}